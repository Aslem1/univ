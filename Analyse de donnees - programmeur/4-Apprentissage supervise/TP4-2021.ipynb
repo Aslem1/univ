{
 "cells": [
  {
   "cell_type": "markdown",
   "metadata": {},
   "source": [
    "# Analyse de Données - Développeur\n",
    "## TP4 : Classification Supervisée \n",
    "## 0) Tableau de Données de l'Exercice 1 du TD4 "
   ]
  },
  {
   "cell_type": "code",
   "execution_count": 8,
   "metadata": {},
   "outputs": [
    {
     "data": {
      "text/html": [
       "<div>\n",
       "<style scoped>\n",
       "    .dataframe tbody tr th:only-of-type {\n",
       "        vertical-align: middle;\n",
       "    }\n",
       "\n",
       "    .dataframe tbody tr th {\n",
       "        vertical-align: top;\n",
       "    }\n",
       "\n",
       "    .dataframe thead th {\n",
       "        text-align: right;\n",
       "    }\n",
       "</style>\n",
       "<table border=\"1\" class=\"dataframe\">\n",
       "  <thead>\n",
       "    <tr style=\"text-align: right;\">\n",
       "      <th></th>\n",
       "      <th>X1</th>\n",
       "      <th>X2</th>\n",
       "      <th>Y</th>\n",
       "    </tr>\n",
       "  </thead>\n",
       "  <tbody>\n",
       "    <tr>\n",
       "      <th>0</th>\n",
       "      <td>0</td>\n",
       "      <td>2</td>\n",
       "      <td>1</td>\n",
       "    </tr>\n",
       "    <tr>\n",
       "      <th>1</th>\n",
       "      <td>2</td>\n",
       "      <td>0</td>\n",
       "      <td>1</td>\n",
       "    </tr>\n",
       "    <tr>\n",
       "      <th>2</th>\n",
       "      <td>2</td>\n",
       "      <td>6</td>\n",
       "      <td>1</td>\n",
       "    </tr>\n",
       "    <tr>\n",
       "      <th>3</th>\n",
       "      <td>4</td>\n",
       "      <td>4</td>\n",
       "      <td>1</td>\n",
       "    </tr>\n",
       "    <tr>\n",
       "      <th>4</th>\n",
       "      <td>2</td>\n",
       "      <td>4</td>\n",
       "      <td>2</td>\n",
       "    </tr>\n",
       "    <tr>\n",
       "      <th>5</th>\n",
       "      <td>6</td>\n",
       "      <td>7</td>\n",
       "      <td>2</td>\n",
       "    </tr>\n",
       "    <tr>\n",
       "      <th>6</th>\n",
       "      <td>10</td>\n",
       "      <td>4</td>\n",
       "      <td>2</td>\n",
       "    </tr>\n",
       "    <tr>\n",
       "      <th>7</th>\n",
       "      <td>4</td>\n",
       "      <td>0</td>\n",
       "      <td>3</td>\n",
       "    </tr>\n",
       "    <tr>\n",
       "      <th>8</th>\n",
       "      <td>4</td>\n",
       "      <td>2</td>\n",
       "      <td>3</td>\n",
       "    </tr>\n",
       "    <tr>\n",
       "      <th>9</th>\n",
       "      <td>6</td>\n",
       "      <td>0</td>\n",
       "      <td>3</td>\n",
       "    </tr>\n",
       "    <tr>\n",
       "      <th>10</th>\n",
       "      <td>6</td>\n",
       "      <td>2</td>\n",
       "      <td>3</td>\n",
       "    </tr>\n",
       "  </tbody>\n",
       "</table>\n",
       "</div>"
      ],
      "text/plain": [
       "    X1  X2  Y\n",
       "0    0   2  1\n",
       "1    2   0  1\n",
       "2    2   6  1\n",
       "3    4   4  1\n",
       "4    2   4  2\n",
       "5    6   7  2\n",
       "6   10   4  2\n",
       "7    4   0  3\n",
       "8    4   2  3\n",
       "9    6   0  3\n",
       "10   6   2  3"
      ]
     },
     "execution_count": 8,
     "metadata": {},
     "output_type": "execute_result"
    }
   ],
   "source": [
    "import warnings\n",
    "warnings.filterwarnings('ignore')\n",
    "import numpy as np\n",
    "import pandas as pd\n",
    "df = pd.read_excel(\"TD4-Ex1.xlsx\")\n",
    "X = df.values[:,:2]\n",
    "Ytrue = df.values[:,2]\n",
    "df"
   ]
  },
  {
   "cell_type": "markdown",
   "metadata": {},
   "source": [
    "## 1) Nearest Prototype Classifier\n",
    "### 1.1) Disposez-vous de toutes les fonctions utiles au codage de cette règle de classification supervisée ? Copiez-les. "
   ]
  },
  {
   "cell_type": "code",
   "execution_count": null,
   "metadata": {},
   "outputs": [],
   "source": []
  },
  {
   "cell_type": "markdown",
   "metadata": {},
   "source": [
    "### 1.2) Ecrivez une fonction *NPClassifier* permettant de prédire, pour tous les points d'un tableau *test*, leur prédiction *ypred* avec la règle du Plus Proche Prototype d'un ensemble d'apprentissage (tableau *learn*, indicatice de groupe *ylearn*) au sens d'une distance *dname* (euclidienne par défaut). \n",
    "### Vous testerez sur un tableau *Xtest* comprenant les points $x$, $y$ et $z$ du TD."
   ]
  },
  {
   "cell_type": "code",
   "execution_count": 9,
   "metadata": {},
   "outputs": [],
   "source": [
    "Xtest = np.array([[3,2],[10,2],[5,3]])\n",
    "\n",
    "def NPClassifier(test, learn, ylean, dname='euclidean'): \n",
    "\n",
    "\n",
    "    return ypred\n"
   ]
  },
  {
   "cell_type": "markdown",
   "metadata": {},
   "source": [
    "### Vous aurez ainsi les résultats des (HW) du TD. "
   ]
  },
  {
   "cell_type": "markdown",
   "metadata": {},
   "source": [
    "### 1.3) Reclassez les données d'apprentissage par la règle *NP*. Tous les points sont-ils bien reclassés ? "
   ]
  },
  {
   "cell_type": "code",
   "execution_count": null,
   "metadata": {},
   "outputs": [],
   "source": []
  },
  {
   "cell_type": "markdown",
   "metadata": {},
   "source": [
    "### 2) Evaluation de règle de Classification Supervisée\n",
    "### 2.1) Trouvez un moyen simple de \n",
    "### - calculer la matrice de confusion (table de contingence croisant les prédictions *ypred* et l'indicatrice de groupe *ytrue* donnée)."
   ]
  },
  {
   "cell_type": "code",
   "execution_count": 10,
   "metadata": {},
   "outputs": [],
   "source": [
    "def partitionmatrix(data_clusters):\n",
    "    data_nb = len(data_clusters)\n",
    "    clust_id = np.unique(data_clusters)\n",
    "    clust_nb = len(clust_id)\n",
    "    data_partition = np.zeros((data_nb,clust_nb))\n",
    "    for k in range(data_nb):\n",
    "        data_partition[k,clust_id==data_clusters[k]] = 1\n",
    "    return data_partition\n"
   ]
  },
  {
   "cell_type": "markdown",
   "metadata": {},
   "source": [
    "### - en déduire la *Classification Accuracy*"
   ]
  },
  {
   "cell_type": "code",
   "execution_count": null,
   "metadata": {},
   "outputs": [],
   "source": []
  },
  {
   "cell_type": "markdown",
   "metadata": {},
   "source": [
    "### 2.2) Reprenez les codes ci-dessus dans une fonction *classif_accuraty* qui, à partir des prédictions *ypred* et d'une indicatrice de groupe *ytrue* donnée, retourne le score *Classification Accuracy* et la matrice de confusion."
   ]
  },
  {
   "cell_type": "code",
   "execution_count": 11,
   "metadata": {},
   "outputs": [],
   "source": [
    "def classif_accuraty(actual,predicted):\n",
    "\n",
    "\n",
    "\n",
    "\n",
    "    return classif_acc, confusion\n"
   ]
  },
  {
   "cell_type": "markdown",
   "metadata": {},
   "source": [
    "### 2.3) Pour obtenir les scores de Rappel, Précision, etc par groupe et globaux, utilisez *classification_report* de *sklearn.metrics*"
   ]
  },
  {
   "cell_type": "code",
   "execution_count": 12,
   "metadata": {},
   "outputs": [],
   "source": [
    "from sklearn.metrics import classification_report\n"
   ]
  },
  {
   "cell_type": "markdown",
   "metadata": {},
   "source": [
    "### Vous retrouvez ainsi les résultats du TD, aussi le (HW)."
   ]
  },
  {
   "cell_type": "markdown",
   "metadata": {},
   "source": [
    "## 3) Nearest Neighbors Classifier\n",
    "### 3.1) Ecrivez une fonction *NNClassifier* permettant de prédire, pour tous les points d'un tableau *test*, leur prédiction *ypred* avec la règle des K (=1 par défaut) Plus Proches Voisins d'un ensemble d'apprentissage (tableau *learn*, indicatice de groupe *ylearn*) au sens d'une distance *dname* (euclidienne par défaut). \n",
    "### Pour déterminer le groupe majoritairement représenté parmi les *K* voisins, utilisez la fonction *argwhere* de *numpy*.\n",
    "### Vous testerez sur le tableau *Xtest* comprenant les points $x$, $y$ et $z$ du TD, avec *K=1* puis *K=3*."
   ]
  },
  {
   "cell_type": "code",
   "execution_count": 13,
   "metadata": {},
   "outputs": [
    {
     "ename": "SyntaxError",
     "evalue": "invalid syntax (<ipython-input-13-362051bd7e4f>, line 14)",
     "output_type": "error",
     "traceback": [
      "\u001b[1;36m  File \u001b[1;32m\"<ipython-input-13-362051bd7e4f>\"\u001b[1;36m, line \u001b[1;32m14\u001b[0m\n\u001b[1;33m    votes[i,j] =\u001b[0m\n\u001b[1;37m                 ^\u001b[0m\n\u001b[1;31mSyntaxError\u001b[0m\u001b[1;31m:\u001b[0m invalid syntax\n"
     ]
    }
   ],
   "source": [
    "def NNClassifier(test, learn, ylearn, K=1, dname='euclidean'):\n",
    "    test_nb = test.shape[0]\n",
    "    learn_nb = learn.shape[0]\n",
    "    labels_id = np.unique(ylearn)\n",
    "    labels_nb = len(labels_id)\n",
    "\n",
    "\n",
    "    for i in range(test_nb):\n",
    "        for j in range(learn_nb):\n",
    "            dist_to_learn[i,j] = dist(test[i,:],learn[j,:],dname)\n",
    "\n",
    "            \n",
    "        for j in range(labels_nb):\n",
    "            votes[i,j] = \n",
    "\n",
    "    return ypred\n",
    "\n",
    "Xtest = np.array([[3,2],[10,2],[5,3]])\n"
   ]
  },
  {
   "cell_type": "markdown",
   "metadata": {},
   "source": [
    "### 3.2) Modifiez la fonction précédente de sorte qu'elle retourne aussi les \"probabilités\"."
   ]
  },
  {
   "cell_type": "code",
   "execution_count": null,
   "metadata": {},
   "outputs": [],
   "source": [
    "\n"
   ]
  },
  {
   "cell_type": "markdown",
   "metadata": {},
   "source": [
    "### 3.3) Reclassez les données d'apprentissage par *kNN*. Tous les points sont-ils bien reclassés ? Vous testerez plusieurs valeurs de *K*, avec plusieurs distances. "
   ]
  },
  {
   "cell_type": "code",
   "execution_count": null,
   "metadata": {},
   "outputs": [],
   "source": []
  },
  {
   "cell_type": "markdown",
   "metadata": {},
   "source": [
    "### 3.4) Evaluation par *Leave-One-Out* (n-validation croisée). \n",
    "### Comprenez le code ci-dessous "
   ]
  },
  {
   "cell_type": "code",
   "execution_count": 14,
   "metadata": {},
   "outputs": [
    {
     "ename": "NameError",
     "evalue": "name 'NNClassifier' is not defined",
     "output_type": "error",
     "traceback": [
      "\u001b[1;31m---------------------------------------------------------------------------\u001b[0m",
      "\u001b[1;31mNameError\u001b[0m                                 Traceback (most recent call last)",
      "\u001b[1;32m<ipython-input-14-3496ce31a93e>\u001b[0m in \u001b[0;36m<module>\u001b[1;34m\u001b[0m\n\u001b[0;32m     11\u001b[0m     \u001b[0mYtrain\u001b[0m \u001b[1;33m=\u001b[0m \u001b[0mYtrue\u001b[0m\u001b[1;33m[\u001b[0m\u001b[0mtrain_index\u001b[0m\u001b[1;33m]\u001b[0m\u001b[1;33m\u001b[0m\u001b[1;33m\u001b[0m\u001b[0m\n\u001b[0;32m     12\u001b[0m     \u001b[0mXtest\u001b[0m \u001b[1;33m=\u001b[0m \u001b[0mX\u001b[0m\u001b[1;33m[\u001b[0m\u001b[0mtest_index\u001b[0m\u001b[1;33m,\u001b[0m\u001b[1;33m:\u001b[0m\u001b[1;33m]\u001b[0m\u001b[1;33m\u001b[0m\u001b[1;33m\u001b[0m\u001b[0m\n\u001b[1;32m---> 13\u001b[1;33m     \u001b[0my\u001b[0m \u001b[1;33m=\u001b[0m \u001b[0mNNClassifier\u001b[0m\u001b[1;33m(\u001b[0m\u001b[0mXtest\u001b[0m\u001b[1;33m,\u001b[0m \u001b[0mXtrain\u001b[0m\u001b[1;33m,\u001b[0m \u001b[0mYtrain\u001b[0m\u001b[1;33m,\u001b[0m \u001b[1;36m5\u001b[0m\u001b[1;33m,\u001b[0m \u001b[1;34m'manhattan'\u001b[0m\u001b[1;33m)\u001b[0m\u001b[1;33m[\u001b[0m\u001b[1;36m0\u001b[0m\u001b[1;33m]\u001b[0m\u001b[1;33m\u001b[0m\u001b[1;33m\u001b[0m\u001b[0m\n\u001b[0m\u001b[0;32m     14\u001b[0m     \u001b[0mYtest\u001b[0m\u001b[1;33m[\u001b[0m\u001b[0mk\u001b[0m\u001b[1;33m]\u001b[0m \u001b[1;33m=\u001b[0m \u001b[0my\u001b[0m\u001b[1;33m\u001b[0m\u001b[1;33m\u001b[0m\u001b[0m\n\u001b[0;32m     15\u001b[0m     \u001b[0mk\u001b[0m \u001b[1;33m+=\u001b[0m \u001b[1;36m1\u001b[0m\u001b[1;33m\u001b[0m\u001b[1;33m\u001b[0m\u001b[0m\n",
      "\u001b[1;31mNameError\u001b[0m: name 'NNClassifier' is not defined"
     ]
    }
   ],
   "source": [
    "from sklearn.model_selection import LeaveOneOut\n",
    "loo = LeaveOneOut()\n",
    "n = loo.get_n_splits(X)\n",
    "\n",
    "X = df.values[:,:2]\n",
    "Ytrue = df.values[:,2]\n",
    "Ytest = np.zeros(n)\n",
    "k = 0\n",
    "for train_index, test_index in loo.split(X):\n",
    "    Xtrain = X[train_index]\n",
    "    Ytrain = Ytrue[train_index]\n",
    "    Xtest = X[test_index,:]\n",
    "    y = NNClassifier(Xtest, Xtrain, Ytrain, 5, 'manhattan')[0]\n",
    "    Ytest[k] = y\n",
    "    k += 1\n",
    "\n",
    "print(Ytrue)\n",
    "print(Ytest.astype(int))\n",
    "CA = classif_accuraty(Ytest,Ytrue)[0]\n",
    "print(CA)\n",
    "print(classification_report(Ytrue, Ytest))"
   ]
  },
  {
   "cell_type": "code",
   "execution_count": null,
   "metadata": {},
   "outputs": [],
   "source": []
  }
 ],
 "metadata": {
  "kernelspec": {
   "display_name": "Python 3",
   "language": "python",
   "name": "python3"
  },
  "language_info": {
   "codemirror_mode": {
    "name": "ipython",
    "version": 3
   },
   "file_extension": ".py",
   "mimetype": "text/x-python",
   "name": "python",
   "nbconvert_exporter": "python",
   "pygments_lexer": "ipython3",
   "version": "3.8.8"
  }
 },
 "nbformat": 4,
 "nbformat_minor": 2
}
