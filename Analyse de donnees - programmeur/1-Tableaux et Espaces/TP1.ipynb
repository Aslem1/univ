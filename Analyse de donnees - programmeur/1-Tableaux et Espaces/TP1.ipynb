{
 "cells": [
  {
   "cell_type": "markdown",
   "metadata": {},
   "source": [
    "# Analyse de Données - Développeur\n",
    "## TP1 : Tableaux de Données et Espaces\n",
    "### 1) Après avoir téléchargé le fichier \"td1.text\", exécutez le code ci-dessous."
   ]
  },
  {
   "cell_type": "code",
   "execution_count": 22,
   "metadata": {},
   "outputs": [
    {
     "name": "stdout",
     "output_type": "stream",
     "text": [
      "X =\n",
      " [[ 3. -1.]\n",
      " [-1.  2.]\n",
      " [ 4.  2.]]\n"
     ]
    }
   ],
   "source": [
    "import numpy as np\n",
    "X = np.loadtxt(\"td1.txt\")\n",
    "print(\"X =\\n\",X)"
   ]
  },
  {
   "cell_type": "markdown",
   "metadata": {},
   "source": [
    "### 2) Affectez les dimensions du tableau à deux variables $n$ et $p$."
   ]
  },
  {
   "cell_type": "code",
   "execution_count": 23,
   "metadata": {},
   "outputs": [
    {
     "name": "stdout",
     "output_type": "stream",
     "text": [
      "il y'a  3  individus et  2  variables.\n"
     ]
    },
    {
     "data": {
      "text/plain": [
       "(3, 2)"
      ]
     },
     "execution_count": 23,
     "metadata": {},
     "output_type": "execute_result"
    }
   ],
   "source": [
    "np.shape (X) #La propriété shape du tableau X\n",
    "\n",
    "#Pour les affecter à deux variables n et p\n",
    "n, p = X.shape\n",
    "print(\"il y'a \",n,\" individus et \",p,\" variables.\")\n",
    "n, p"
   ]
  },
  {
   "cell_type": "markdown",
   "metadata": {},
   "source": [
    "### 3) Trouvez le moyen de centrer le tableau. Vous noterez $Xp$ le tableau résultat. "
   ]
  },
  {
   "cell_type": "code",
   "execution_count": 25,
   "metadata": {},
   "outputs": [
    {
     "name": "stdout",
     "output_type": "stream",
     "text": [
      "La moyenne du tableau est  [2. 1.]\n",
      "Le tableau centré donne donc:\n",
      " [[ 1. -2.]\n",
      " [-3.  1.]\n",
      " [ 2.  1.]]\n"
     ]
    }
   ],
   "source": [
    "#xbar = np.mean(X) #Ne fonctionne pas car il prend le tableau en entier, il faut lui donner la \"tranche\"\n",
    "#xbar\n",
    "\n",
    "\n",
    "#------------ Correction ------------\n",
    "# xbar = np.mean (X,axis=0) #On précise l'axe\n",
    "# Xbar représente le centre du tableau\n",
    "Xbar = X.mean(axis=0)\n",
    "\n",
    "print(\"La moyenne (et le centre) du tableau est \",Xbar)\n",
    "#On soustrait donc Xbar à notre tableau X pour centrer le tableau en 0\n",
    "Xp = X - Xbar\n",
    "print(\"Le tableau centré en 0 donne donc :\\n\",Xp)"
   ]
  },
  {
   "cell_type": "markdown",
   "metadata": {},
   "source": [
    "### 4) Créez la métrique $D_n$ de l'espace des variables à partir de la matrice Identité."
   ]
  },
  {
   "cell_type": "code",
   "execution_count": 27,
   "metadata": {},
   "outputs": [
    {
     "data": {
      "text/plain": [
       "array([[0.33333333, 0.        , 0.        ],\n",
       "       [0.        , 0.33333333, 0.        ],\n",
       "       [0.        , 0.        , 0.33333333]])"
      ]
     },
     "execution_count": 27,
     "metadata": {},
     "output_type": "execute_result"
    }
   ],
   "source": [
    "#Matrice identité à l'aide de la fonction eye\n",
    "#np.eye(3)\n",
    "#array([[ 1.,  0.,  0.],\n",
    "       #[ 0.,  1.,  0.],\n",
    "       #[ 0.,  0.,  1.]])\n",
    "\n",
    "#------------ Correction ------------\n",
    "Dn = np.eye(n) / n\n",
    "Dn #Affichage de Dn"
   ]
  },
  {
   "cell_type": "markdown",
   "metadata": {},
   "source": [
    "### 5) Calculez la $D_n$-norme de la 2ème variable par produit scalaire. "
   ]
  },
  {
   "cell_type": "code",
   "execution_count": 33,
   "metadata": {},
   "outputs": [
    {
     "data": {
      "text/plain": [
       "1.9999999999999998"
      ]
     },
     "execution_count": 33,
     "metadata": {},
     "output_type": "execute_result"
    }
   ],
   "source": [
    "#Récupérer la deuxième colonne du tableau X'\n",
    "#C'est un tableau 2 dimensions\n",
    "Xp2 = Xp[:,1]  #On choisis toutes les lignes \":\" et la colonne 1\n",
    "Xp2\n",
    "\n",
    "# .dot sert à faire le produit scalaire.\n",
    "# La multication est un produit scalaire particulier\n",
    "# donc, .dot sert entre autre à multiplier\n",
    "# .dot peut aussi s'écrire @\n",
    "\n",
    "#np.dot(X2.T,np.dot(Dn,X2))\n",
    "\n",
    "# solution 1\n",
    "Xp2.T.dot(Dn).dot(Xp2)\n",
    "\n",
    "# solution 2\n",
    "#Xp2.T @ Dn @ Xp2"
   ]
  },
  {
   "cell_type": "markdown",
   "metadata": {},
   "source": [
    "### 6) Généralisez par produit matriciel. Vous noterez *V* résultat."
   ]
  },
  {
   "cell_type": "code",
   "execution_count": 34,
   "metadata": {},
   "outputs": [
    {
     "data": {
      "text/plain": [
       "array([[ 4.66666667, -1.        ],\n",
       "       [-1.        ,  2.        ]])"
      ]
     },
     "execution_count": 34,
     "metadata": {},
     "output_type": "execute_result"
    }
   ],
   "source": [
    "#Pour généraliser par produit matriciel (.dot, @, produit scalaire) on fait le produit de\n",
    "#    notre tableau transposé centré (Xp)\n",
    "#    de la métique Dn\n",
    "#    du tableau Xp\n",
    "v = Xp.T @ Dn @ Xp\n",
    "v"
   ]
  },
  {
   "cell_type": "markdown",
   "metadata": {},
   "source": [
    "### 7) Trouvez le moyen de contruire le tableau centré-réduit que vous noterez *Xs*. "
   ]
  },
  {
   "cell_type": "code",
   "execution_count": 35,
   "metadata": {},
   "outputs": [
    {
     "data": {
      "text/plain": [
       "array([1., 1.])"
      ]
     },
     "execution_count": 35,
     "metadata": {},
     "output_type": "execute_result"
    }
   ],
   "source": [
    "#Le tableau Xs va être centré réduit en divisant le tab centré Xp par le tableau X à l'axe 0\n",
    "Xs = Xp / X.std(axis=0)\n",
    "#.std (pour standart) permet de faire l'écart type sur Xs\n",
    "Xs.std(axis=0)\n",
    "\n",
    "#Autre solution - calcul des D normes\n",
    "#Xs.T@D@Xa"
   ]
  },
  {
   "cell_type": "markdown",
   "metadata": {},
   "source": [
    "### 8) Reprenez la généralisation (question 6) sur le tableau *Xs*. Qu'obtient-on ? "
   ]
  },
  {
   "cell_type": "code",
   "execution_count": 36,
   "metadata": {},
   "outputs": [
    {
     "data": {
      "text/plain": [
       "array([[ 1.        , -0.32732684],\n",
       "       [-0.32732684,  1.        ]])"
      ]
     },
     "execution_count": 36,
     "metadata": {},
     "output_type": "execute_result"
    }
   ],
   "source": [
    "vs = Xs.T @ Dn @ Xs\n",
    "vs\n"
   ]
  },
  {
   "cell_type": "markdown",
   "metadata": {},
   "source": [
    "### 9) A l'aide de fonctions *numpy* et/ou méthodes de *nd-arrays*, retrouvez le centre du nuage, les matrices de covariance et de corrélations des données. "
   ]
  },
  {
   "cell_type": "code",
   "execution_count": 37,
   "metadata": {},
   "outputs": [
    {
     "name": "stdout",
     "output_type": "stream",
     "text": [
      "Le centre du nuage se trouve au point de coordonnée  [2. 1.]\n",
      "La matrice de covariance est \n",
      " [[ 8.  -6.   4. ]\n",
      " [-6.   4.5 -3. ]\n",
      " [ 4.  -3.   2. ]]\n",
      "Le tableau de corrélation des données est\n",
      " [[ 1. -1.  1.]\n",
      " [-1.  1. -1.]\n",
      " [ 1. -1.  1.]]\n"
     ]
    }
   ],
   "source": [
    "#centre du nuage\n",
    "X1bar = X.sum(axis = 0) / n \n",
    "print(\"Le centre du nuage se trouve au point de coordonnée \",X1bar)\n",
    "\n",
    "#matrice de covariance\n",
    "print(\"La matrice de covariance est \\n\", np.cov(X))\n",
    "\n",
    "#corrélation des données\n",
    "print(\"Le tableau de corrélation des données est\\n\",np.corrcoef(X))"
   ]
  },
  {
   "cell_type": "markdown",
   "metadata": {},
   "source": [
    "### 10) Ecrivez une fonction (que vous testerez sur $X$) permettant de \n",
    "#### - centrer et optionnellement réduire un tableau *data*\n",
    "#### - retourner les données transformées et la matrice de covariance de celles-ci"
   ]
  },
  {
   "cell_type": "code",
   "execution_count": 39,
   "metadata": {},
   "outputs": [
    {
     "data": {
      "text/plain": [
       "array([1., 1.])"
      ]
     },
     "execution_count": 39,
     "metadata": {},
     "output_type": "execute_result"
    }
   ],
   "source": [
    "def standardize(data,scale=False):\n",
    "    # centrer\n",
    "    dataBar = data.mean(axis=0)\n",
    "    dataP = data - dataBar\n",
    "    # réduire\n",
    "    dataS = dataP / data.std(axis=0)\n",
    "    return dataS.std(axis=0)\n",
    "\n",
    "standardize(X)\n",
    "#A FAIRE POUR LE TD PROCHAIN"
   ]
  },
  {
   "cell_type": "code",
   "execution_count": 33,
   "metadata": {},
   "outputs": [],
   "source": [
    "#Xp V = standardise(X)\n",
    "Xs, R = (X, True)"
   ]
  },
  {
   "cell_type": "code",
   "execution_count": null,
   "metadata": {},
   "outputs": [],
   "source": []
  }
 ],
 "metadata": {
  "kernelspec": {
   "display_name": "Python 3",
   "language": "python",
   "name": "python3"
  },
  "language_info": {
   "codemirror_mode": {
    "name": "ipython",
    "version": 3
   },
   "file_extension": ".py",
   "mimetype": "text/x-python",
   "name": "python",
   "nbconvert_exporter": "python",
   "pygments_lexer": "ipython3",
   "version": "3.8.8"
  }
 },
 "nbformat": 4,
 "nbformat_minor": 2
}
