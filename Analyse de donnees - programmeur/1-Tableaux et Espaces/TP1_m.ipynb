{
 "cells": [
  {
   "cell_type": "markdown",
   "metadata": {},
   "source": [
    "# Analyse de Données - Développeur\n",
    "## TP1 : Tableaux de Données et Espaces\n",
    "### 1) Après avoir téléchargé le fichier \"td1.text\", exécutez le code ci-dessous."
   ]
  },
  {
   "cell_type": "code",
   "execution_count": 1,
   "metadata": {},
   "outputs": [
    {
     "name": "stdout",
     "output_type": "stream",
     "text": [
      "X =\n",
      " [[ 3. -1.]\n",
      " [-1.  2.]\n",
      " [ 4.  2.]]\n"
     ]
    }
   ],
   "source": [
    "import numpy as np\n",
    "X = np.loadtxt(\"td1.txt\")\n",
    "print(\"X =\\n\",X)"
   ]
  },
  {
   "cell_type": "markdown",
   "metadata": {},
   "source": [
    "### 2) Affectez les dimensions du tableau à deux variables $n$ et $p$."
   ]
  },
  {
   "cell_type": "code",
   "execution_count": 2,
   "metadata": {},
   "outputs": [
    {
     "name": "stdout",
     "output_type": "stream",
     "text": [
      "il y'a  3  individus et  2  variables.\n"
     ]
    },
    {
     "data": {
      "text/plain": [
       "(3, 2)"
      ]
     },
     "execution_count": 2,
     "metadata": {},
     "output_type": "execute_result"
    }
   ],
   "source": [
    "np.shape(X)\n",
    "n, p = X.shape\n",
    "print(\"il y'a \",n,\" individus et \",p,\" variables.\")\n",
    "n, p"
   ]
  },
  {
   "cell_type": "markdown",
   "metadata": {},
   "source": [
    "### 3) Trouvez le moyen de centrer le tableau. Vous noterez $Xp$ le tableau résultat. "
   ]
  },
  {
   "cell_type": "code",
   "execution_count": 3,
   "metadata": {
    "scrolled": true
   },
   "outputs": [
    {
     "name": "stdout",
     "output_type": "stream",
     "text": [
      "La moyenne du tableau est  [2. 1.]\n",
      "Le tableau centré donne donc:\n",
      " [[ 1. -2.]\n",
      " [-3.  1.]\n",
      " [ 2.  1.]]\n"
     ]
    }
   ],
   "source": [
    "#Pour centrer le tableau on va créer une variable Xbar qui nous donnera la moyenne du tableau à l'axe 0 et on soustraira à Xbar le tableau X pour centrer le tableau\n",
    "Xbar = X.mean(axis = 0)\n",
    "print(\"La moyenne du tableau est \",Xbar)\n",
    "#On soustrait donc Xbar à notre tableau X pour centrer le tableau\n",
    "Xp = X - Xbar\n",
    "print(\"Le tableau centré donne donc:\\n\",Xp)\n"
   ]
  },
  {
   "cell_type": "markdown",
   "metadata": {},
   "source": [
    "### 4) Créez la métrique $D_n$ de l'espace des variables à partir de la matrice Identité."
   ]
  },
  {
   "cell_type": "code",
   "execution_count": 4,
   "metadata": {},
   "outputs": [
    {
     "data": {
      "text/plain": [
       "array([[0.33333333, 0.        , 0.        ],\n",
       "       [0.        , 0.33333333, 0.        ],\n",
       "       [0.        , 0.        , 0.33333333]])"
      ]
     },
     "execution_count": 4,
     "metadata": {},
     "output_type": "execute_result"
    }
   ],
   "source": [
    "#Pour créer la métrique Dn on utilise np.identity et on met en param le nombre d'individus \n",
    "Dn = np.identity(3) / n\n",
    "Dn"
   ]
  },
  {
   "cell_type": "markdown",
   "metadata": {},
   "source": [
    "### 5) Calculez la $D_n$-norme de la 2ème variable par produit scalaire. "
   ]
  },
  {
   "cell_type": "code",
   "execution_count": 10,
   "metadata": {},
   "outputs": [
    {
     "data": {
      "text/plain": [
       "1.9999999999999998"
      ]
     },
     "execution_count": 10,
     "metadata": {},
     "output_type": "execute_result"
    }
   ],
   "source": [
    "#Xp2 c'est juste les éléments de la 2eme variable c'est pour ça qu'on met [:,1] 1 est correspond à la rangée de la 2ème variable\n",
    "XbarX = X.mean(axis = 0)/3\n",
    "Xp2 = Xp[:,1]\n",
    "#.dot nous sert à faire le produit entre le tableau transposée de Xp2 et Dn et Xp2\n",
    "#On peut utiliser @ en tant que raccourci de .dot\n",
    "Xp2.T.dot(Dn).dot(Xp2)\n",
    "Xp2.T @ Dn @ Xp2\n",
    "\n",
    "\n",
    "\n"
   ]
  },
  {
   "cell_type": "markdown",
   "metadata": {},
   "source": [
    "### 6) Généralisez par produit matriciel. Vous noterez *V* résultat."
   ]
  },
  {
   "cell_type": "code",
   "execution_count": 37,
   "metadata": {},
   "outputs": [
    {
     "data": {
      "text/plain": [
       "array([[ 4.66666667, -1.        ],\n",
       "       [-1.        ,  2.        ]])"
      ]
     },
     "execution_count": 37,
     "metadata": {},
     "output_type": "execute_result"
    }
   ],
   "source": [
    "#Pour généraliser par produit matriciel on fait le produit de notre tableau transposé centré (Xp) de la métique Dn et du tableau Xp\n",
    "V =  Xp.T.dot(Dn).dot(Xp)\n",
    "V "
   ]
  },
  {
   "cell_type": "markdown",
   "metadata": {},
   "source": [
    "### 7) Trouvez le moyen de contruire le tableau centré-réduit que vous noterez *Xs*. "
   ]
  },
  {
   "cell_type": "code",
   "execution_count": 59,
   "metadata": {},
   "outputs": [
    {
     "data": {
      "text/plain": [
       "array([1., 1.])"
      ]
     },
     "execution_count": 59,
     "metadata": {},
     "output_type": "execute_result"
    }
   ],
   "source": [
    "#Le tableau Xs va être centré réduit en divisant le tab centré Xp par le tableau X à l'axe 0\n",
    "Xs = Xp / X.std(axis = 0)\n",
    "#.std permet de faire l'écart type sur Xs\n",
    "Xs.std(axis=0)\n"
   ]
  },
  {
   "cell_type": "markdown",
   "metadata": {},
   "source": [
    "### 8) Reprenez la généralisation (question 6) sur le tableau *Xs*. Qu'obtient-on ? "
   ]
  },
  {
   "cell_type": "code",
   "execution_count": 60,
   "metadata": {},
   "outputs": [
    {
     "data": {
      "text/plain": [
       "array([[ 2.1602469 , -0.46291005],\n",
       "       [-0.70710678,  1.41421356]])"
      ]
     },
     "execution_count": 60,
     "metadata": {},
     "output_type": "execute_result"
    }
   ],
   "source": [
    "Xs_g = Xs.T @ Dn @ Xp\n",
    "Xs_g"
   ]
  },
  {
   "cell_type": "markdown",
   "metadata": {},
   "source": [
    "### 9) A l'aide de fonctions *numpy* et/ou méthodes de *nd-arrays*, retrouvez le centre du nuage, les matrices de covariance et de corrélations des données. "
   ]
  },
  {
   "cell_type": "code",
   "execution_count": 72,
   "metadata": {},
   "outputs": [
    {
     "name": "stdout",
     "output_type": "stream",
     "text": [
      "Le centre du nuage se trouve au point de coordonnée  [2. 1.]\n",
      "La matrice de covariance est \n",
      " [[ 8.  -6.   4. ]\n",
      " [-6.   4.5 -3. ]\n",
      " [ 4.  -3.   2. ]]\n",
      "Le tableau de corrélation des données est\n",
      " [[ 1. -1.  1.]\n",
      " [-1.  1. -1.]\n",
      " [ 1. -1.  1.]]\n"
     ]
    }
   ],
   "source": [
    "#centre du nuage\n",
    "X1bar = X.sum(axis = 0) / n \n",
    "print(\"Le centre du nuage se trouve au point de coordonnée \",X1bar)\n",
    "\n",
    "#matrice de covariance\n",
    "print(\"La matrice de covariance est \\n\", np.cov(X))\n",
    "\n",
    "#corrélation des données\n",
    "print(\"Le tableau de corrélation des données est\\n\",np.corrcoef(X))\n"
   ]
  },
  {
   "cell_type": "markdown",
   "metadata": {},
   "source": [
    "### 10) Ecrivez une fonction (que vous testerez sur $X$) permettant de \n",
    "#### - centrer et optionnellement réduire un tableau *data*\n",
    "#### - retourner les données transformées et la matrice de covariance de celles-ci"
   ]
  },
  {
   "cell_type": "code",
   "execution_count": 84,
   "metadata": {},
   "outputs": [
    {
     "data": {
      "text/plain": [
       "('Tableau centré: ',\n",
       " array([[ 1., -2.],\n",
       "        [-3.,  1.],\n",
       "        [ 2.,  1.]]),\n",
       " 'La matrice de covariance: ',\n",
       " array([[ 8. , -6. ,  4. ],\n",
       "        [-6. ,  4.5, -3. ],\n",
       "        [ 4. , -3. ,  2. ]]))"
      ]
     },
     "execution_count": 84,
     "metadata": {},
     "output_type": "execute_result"
    }
   ],
   "source": [
    "def standardize(data,scale=False):\n",
    "    Xbar = data.mean(axis=0)\n",
    "    Xp = data - Xbar\n",
    "    \n",
    "    return \"Tableau centré: \",Xp,\"La matrice de covariance: \",np.cov(X)\n",
    "\n",
    "standardize(X,scale=False)\n"
   ]
  },
  {
   "cell_type": "code",
   "execution_count": null,
   "metadata": {},
   "outputs": [],
   "source": []
  }
 ],
 "metadata": {
  "kernelspec": {
   "display_name": "Python 3",
   "language": "python",
   "name": "python3"
  },
  "language_info": {
   "codemirror_mode": {
    "name": "ipython",
    "version": 3
   },
   "file_extension": ".py",
   "mimetype": "text/x-python",
   "name": "python",
   "nbconvert_exporter": "python",
   "pygments_lexer": "ipython3",
   "version": "3.8.8"
  }
 },
 "nbformat": 4,
 "nbformat_minor": 2
}
