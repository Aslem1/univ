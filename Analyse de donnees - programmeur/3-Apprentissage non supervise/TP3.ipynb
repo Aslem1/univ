{
 "cells": [
  {
   "cell_type": "markdown",
   "metadata": {},
   "source": [
    "# Analyse de Données - Développeur\n",
    "## TP3 : Apprentissage Non Supervisé (Clustering)\n",
    "## 0) Tableau de Données *Logiciels de ML* \n",
    "### 0.1) Exécutez le code ci-dessous qui permet de lire un fichier de type tableur."
   ]
  },
  {
   "cell_type": "code",
   "execution_count": 1,
   "metadata": {},
   "outputs": [
    {
     "data": {
      "text/html": [
       "<div>\n",
       "<style scoped>\n",
       "    .dataframe tbody tr th:only-of-type {\n",
       "        vertical-align: middle;\n",
       "    }\n",
       "\n",
       "    .dataframe tbody tr th {\n",
       "        vertical-align: top;\n",
       "    }\n",
       "\n",
       "    .dataframe thead th {\n",
       "        text-align: right;\n",
       "    }\n",
       "</style>\n",
       "<table border=\"1\" class=\"dataframe\">\n",
       "  <thead>\n",
       "    <tr style=\"text-align: right;\">\n",
       "      <th></th>\n",
       "      <th>logiciel</th>\n",
       "      <th>sans</th>\n",
       "      <th>amel.</th>\n",
       "      <th>amel.+</th>\n",
       "      <th>âge</th>\n",
       "      <th>études</th>\n",
       "    </tr>\n",
       "  </thead>\n",
       "  <tbody>\n",
       "    <tr>\n",
       "      <th>0</th>\n",
       "      <td>Blue</td>\n",
       "      <td>2</td>\n",
       "      <td>4</td>\n",
       "      <td>10</td>\n",
       "      <td>45</td>\n",
       "      <td>1</td>\n",
       "    </tr>\n",
       "    <tr>\n",
       "      <th>1</th>\n",
       "      <td>Blue</td>\n",
       "      <td>2</td>\n",
       "      <td>16</td>\n",
       "      <td>2</td>\n",
       "      <td>38</td>\n",
       "      <td>3</td>\n",
       "    </tr>\n",
       "    <tr>\n",
       "      <th>2</th>\n",
       "      <td>Yellow</td>\n",
       "      <td>11</td>\n",
       "      <td>7</td>\n",
       "      <td>5</td>\n",
       "      <td>25</td>\n",
       "      <td>4</td>\n",
       "    </tr>\n",
       "    <tr>\n",
       "      <th>3</th>\n",
       "      <td>Green</td>\n",
       "      <td>16</td>\n",
       "      <td>11</td>\n",
       "      <td>19</td>\n",
       "      <td>24</td>\n",
       "      <td>2</td>\n",
       "    </tr>\n",
       "    <tr>\n",
       "      <th>4</th>\n",
       "      <td>Yellow</td>\n",
       "      <td>19</td>\n",
       "      <td>4</td>\n",
       "      <td>4</td>\n",
       "      <td>23</td>\n",
       "      <td>1</td>\n",
       "    </tr>\n",
       "    <tr>\n",
       "      <th>5</th>\n",
       "      <td>Green</td>\n",
       "      <td>3</td>\n",
       "      <td>13</td>\n",
       "      <td>17</td>\n",
       "      <td>22</td>\n",
       "      <td>3</td>\n",
       "    </tr>\n",
       "    <tr>\n",
       "      <th>6</th>\n",
       "      <td>Yellow</td>\n",
       "      <td>12</td>\n",
       "      <td>6</td>\n",
       "      <td>11</td>\n",
       "      <td>19</td>\n",
       "      <td>1</td>\n",
       "    </tr>\n",
       "    <tr>\n",
       "      <th>7</th>\n",
       "      <td>Green</td>\n",
       "      <td>10</td>\n",
       "      <td>14</td>\n",
       "      <td>20</td>\n",
       "      <td>18</td>\n",
       "      <td>0</td>\n",
       "    </tr>\n",
       "    <tr>\n",
       "      <th>8</th>\n",
       "      <td>Blue</td>\n",
       "      <td>1</td>\n",
       "      <td>14</td>\n",
       "      <td>2</td>\n",
       "      <td>18</td>\n",
       "      <td>1</td>\n",
       "    </tr>\n",
       "    <tr>\n",
       "      <th>9</th>\n",
       "      <td>Blue</td>\n",
       "      <td>7</td>\n",
       "      <td>15</td>\n",
       "      <td>9</td>\n",
       "      <td>16</td>\n",
       "      <td>0</td>\n",
       "    </tr>\n",
       "  </tbody>\n",
       "</table>\n",
       "</div>"
      ],
      "text/plain": [
       "  logiciel  sans  amel.  amel.+  âge  études\n",
       "0     Blue     2      4      10   45       1\n",
       "1     Blue     2     16       2   38       3\n",
       "2   Yellow    11      7       5   25       4\n",
       "3    Green    16     11      19   24       2\n",
       "4   Yellow    19      4       4   23       1\n",
       "5    Green     3     13      17   22       3\n",
       "6   Yellow    12      6      11   19       1\n",
       "7    Green    10     14      20   18       0\n",
       "8     Blue     1     14       2   18       1\n",
       "9     Blue     7     15       9   16       0"
      ]
     },
     "execution_count": 1,
     "metadata": {},
     "output_type": "execute_result"
    }
   ],
   "source": [
    "import numpy as np\n",
    "import pandas as pd\n",
    "dataf = pd.read_excel(\"MLlogiciel.xls\")\n",
    "dataf\n",
    "\n",
    "#from scipy.spatial.distance import cityblock #import que j'ai fait\n",
    "\n",
    "#Etudes = nb d'annees passées dans l'enseignement superieur"
   ]
  },
  {
   "cell_type": "code",
   "execution_count": 2,
   "metadata": {},
   "outputs": [
    {
     "data": {
      "text/html": [
       "<div>\n",
       "<style scoped>\n",
       "    .dataframe tbody tr th:only-of-type {\n",
       "        vertical-align: middle;\n",
       "    }\n",
       "\n",
       "    .dataframe tbody tr th {\n",
       "        vertical-align: top;\n",
       "    }\n",
       "\n",
       "    .dataframe thead th {\n",
       "        text-align: right;\n",
       "    }\n",
       "</style>\n",
       "<table border=\"1\" class=\"dataframe\">\n",
       "  <thead>\n",
       "    <tr style=\"text-align: right;\">\n",
       "      <th></th>\n",
       "      <th>logiciel</th>\n",
       "    </tr>\n",
       "  </thead>\n",
       "  <tbody>\n",
       "    <tr>\n",
       "      <th>5</th>\n",
       "      <td>Green</td>\n",
       "    </tr>\n",
       "    <tr>\n",
       "      <th>6</th>\n",
       "      <td>Yellow</td>\n",
       "    </tr>\n",
       "    <tr>\n",
       "      <th>7</th>\n",
       "      <td>Green</td>\n",
       "    </tr>\n",
       "    <tr>\n",
       "      <th>8</th>\n",
       "      <td>Blue</td>\n",
       "    </tr>\n",
       "    <tr>\n",
       "      <th>9</th>\n",
       "      <td>Blue</td>\n",
       "    </tr>\n",
       "  </tbody>\n",
       "</table>\n",
       "</div>"
      ],
      "text/plain": [
       "  logiciel\n",
       "5    Green\n",
       "6   Yellow\n",
       "7    Green\n",
       "8     Blue\n",
       "9     Blue"
      ]
     },
     "execution_count": 2,
     "metadata": {},
     "output_type": "execute_result"
    }
   ],
   "source": [
    "dataf [['sans', 'âge']][1:4]\n",
    "dataf [['logiciel']][5:]\n",
    "\n",
    "#Explications\n",
    "#Ici on est sous forme d'un dataframe, c'est un array, une portion de datafame"
   ]
  },
  {
   "cell_type": "markdown",
   "metadata": {},
   "source": [
    "#### 0.2) A quoi sert le code ci-dessous ?"
   ]
  },
  {
   "cell_type": "code",
   "execution_count": 3,
   "metadata": {},
   "outputs": [],
   "source": [
    "T = dataf.iloc[5:,1:4].values #On affecte un tableau numpy\n",
    "n,p = np.shape(T)\n",
    "logiciel = dataf.iloc[5:,0].values\n",
    "\n",
    "#Explications\n",
    "#iloc : \n",
    "#values : Correspond aux valeurs de la première ligne dans le framwork dataframe on precise les lignes et les colones qui nous intéressent\n",
    "\n",
    "#Autre version\n",
    "T = dataf.iloc[5:,1:4].values #On affecte un tableau numpy\n",
    "X = dataf.iloc[:,1:4].values #On affecte un tableau numpy\n",
    "n,p = np.shape(T)\n",
    "logiciel = dataf.iloc[5:,0].values #"
   ]
  },
  {
   "cell_type": "markdown",
   "metadata": {},
   "source": [
    "### 1) Calcul de Distances.\n",
    "#### 1.1) Ecrivez une fonction *dist* permetant de calculer la distance de Manhattan (ou Cityblock), euclidienne (*euclidean*, distance par défaut), de Chebychev (ou Chebyshev), et Cosinus, entre deux points $x$ et $y$.\n",
    "#### 1.2) Utilisez-la pour retrouver quelques résultats du TD3."
   ]
  },
  {
   "cell_type": "code",
   "execution_count": 4,
   "metadata": {},
   "outputs": [],
   "source": [
    "#--------- Version originale ---------\n",
    "#def dist(x,y,dname='euclidean'):\n",
    "#    if (dname == 'manhattan') or (dname == 'cityblock'):\n",
    "#\n",
    "#   elif \n",
    "#\n",
    "#\n",
    "#\n",
    "#\n",
    "#\n",
    "#\n",
    "#    else:\n",
    "#        d = \n",
    "#    return d\n",
    "\n",
    "#--------- Version modifiée ---------\n",
    "#def dist(x,y,dname='euclidean'):\n",
    "#    if (dname == 'manhattan') or (dname == 'cityblock'):\n",
    "#        #on defini le dataframe\n",
    "#        manhattan = pd.DataFrame({'X': [2, 4, 10, 45,1], 'Y': [2, 16, 2, 38,3], 'Z': [11, 7, 5, 25, 4]})\n",
    "#        \n",
    "#        #Calcul de la distance de manhattan entre X et Y\n",
    "#        cityblock(manhattan.X, manhattan.Y)\n",
    "#    #elif \n",
    "#\n",
    "#\n",
    "#\n",
    "#\n",
    "#\n",
    "#\n",
    "#    #else:\n",
    "#    #    d = \n",
    "#    #return \n",
    "\n",
    "#--------- Correction ---------\n",
    "def dist(x,y,dname='euclidean'):\n",
    "    #Pour Manhattan\n",
    "    if (dname == 'manhattan') or (dname == 'cityblock'):\n",
    "        d = abs(x-y).sum() #abs = fonction numpy\n",
    "    #Pour chebychev\n",
    "    elif (dname == 'chebychev') or (dname == 'shebychev'):\n",
    "        d = abs(x-y).max()\n",
    "    elif dname == 'cosine':\n",
    "        d = 1 - (x @ y) / np.sqrt(x@x) / np.sqrt (y@y) #Diviser par le produit des normes (racine carré du carré des normes(?))\n",
    "        #Calcul du carré de la norme de X(x@x) et Y(y@y)\n",
    "    #Calcul de la distance Euclidienne\n",
    "    elif dname == 'euclidean':\n",
    "        d = ((x-y)**2).sum()\n",
    "        d = ((x-y) @ (x-y))**0,5\n",
    "    else:\n",
    "        d = ((x-y) @ (x-y))**0,5\n",
    "    return d"
   ]
  },
  {
   "cell_type": "code",
   "execution_count": 5,
   "metadata": {},
   "outputs": [
    {
     "data": {
      "text/plain": [
       "22"
      ]
     },
     "execution_count": 5,
     "metadata": {},
     "output_type": "execute_result"
    }
   ],
   "source": [
    "#Distance  de Manhattan\n",
    "dist(X[5], X[6], 'manhattan')"
   ]
  },
  {
   "cell_type": "code",
   "execution_count": 6,
   "metadata": {},
   "outputs": [
    {
     "data": {
      "text/plain": [
       "9"
      ]
     },
     "execution_count": 6,
     "metadata": {},
     "output_type": "execute_result"
    }
   ],
   "source": [
    "#Distance  de Chebychev\n",
    "dist(X[5], X[6], 'chebychev')"
   ]
  },
  {
   "cell_type": "code",
   "execution_count": 7,
   "metadata": {},
   "outputs": [
    {
     "data": {
      "text/plain": [
       "(1, 5)"
      ]
     },
     "execution_count": 7,
     "metadata": {},
     "output_type": "execute_result"
    }
   ],
   "source": [
    "#Ce n'est pas la correction, j'ai fait cette ligne \"toute seule\"\n",
    "\n",
    "#Distance Euclidienne\n",
    "dist(X[5], X[6], 'euclidean')"
   ]
  },
  {
   "cell_type": "code",
   "execution_count": 8,
   "metadata": {},
   "outputs": [
    {
     "data": {
      "text/plain": [
       "0.2069501920694563"
      ]
     },
     "execution_count": 8,
     "metadata": {},
     "output_type": "execute_result"
    }
   ],
   "source": [
    "#Cosinus\n",
    "dist(X[5], X[6], 'chebychev')\n",
    "\n",
    "a = dataf['amel.'] #[5:]\n",
    "aplus = dataf['amel.+']\n",
    "\n",
    "dist(a, aplus, 'cosine')"
   ]
  },
  {
   "cell_type": "markdown",
   "metadata": {},
   "source": [
    "### 2) Ecrivez une fonction *prototyping(data,partition)* de *représentation* des clusters d'un tableau de données *data* décrit par une indicatrice de *partition*.\n",
    "### Vous la testerez sur les données du tableau *T*  pour l'indicatrice *Y* ci-dessous afin de retrouver les résultats du TD3."
   ]
  },
  {
   "cell_type": "code",
   "execution_count": 9,
   "metadata": {},
   "outputs": [],
   "source": [
    "#--------- Version originale ---------\n",
    "Y = [3,2,3,1,1]\n",
    "\n",
    "def prototyping(data,partition): #\n",
    "    clust_id = np.unique(partition)\n",
    "    data_dim = data.shape [1]\n",
    "    clust_nb = len(clust_id)\n",
    "    centroids = np.zeros (clust_nb, data_dim)#Le nombre de cluster est 3 (cf TD3 - exercice 2 (avec les tableaux))\n",
    "    #np.zero permet de faire un tableau de 0\n",
    "    for i in range(clust_nb):\n",
    "        centroids [i] = data[partition==clust_id [i]].mean(axis = 0)#centroids est un tableau de taille\n",
    "    return centroids #centroids mot anglais pour baricentre\n",
    "\n",
    "#Commentaires supplémentaires"
   ]
  },
  {
   "cell_type": "code",
   "execution_count": 10,
   "metadata": {},
   "outputs": [
    {
     "data": {
      "text/plain": [
       "array([ 3.66666667, 14.        ,  9.33333333])"
      ]
     },
     "execution_count": 10,
     "metadata": {},
     "output_type": "execute_result"
    }
   ],
   "source": [
    "T[[0,3,4]].mean (axis = 0) #cf TD3 - exercice 2 (avec les tableaux)"
   ]
  },
  {
   "cell_type": "code",
   "execution_count": 11,
   "metadata": {},
   "outputs": [
    {
     "ename": "TypeError",
     "evalue": "Cannot interpret '3' as a data type",
     "output_type": "error",
     "traceback": [
      "\u001b[1;31m---------------------------------------------------------------------------\u001b[0m",
      "\u001b[1;31mTypeError\u001b[0m                                 Traceback (most recent call last)",
      "\u001b[1;32m<ipython-input-11-6e1f3258df39>\u001b[0m in \u001b[0;36m<module>\u001b[1;34m\u001b[0m\n\u001b[0;32m      1\u001b[0m \u001b[1;31m#--------- Correction ---------\u001b[0m\u001b[1;33m\u001b[0m\u001b[1;33m\u001b[0m\u001b[1;33m\u001b[0m\u001b[0m\n\u001b[0;32m      2\u001b[0m \u001b[0mY\u001b[0m \u001b[1;33m=\u001b[0m \u001b[1;33m[\u001b[0m\u001b[1;36m1\u001b[0m\u001b[1;33m,\u001b[0m\u001b[1;36m2\u001b[0m\u001b[1;33m,\u001b[0m\u001b[1;36m3\u001b[0m\u001b[1;33m,\u001b[0m\u001b[1;36m1\u001b[0m\u001b[1;33m,\u001b[0m\u001b[1;36m2\u001b[0m\u001b[1;33m]\u001b[0m\u001b[1;33m\u001b[0m\u001b[1;33m\u001b[0m\u001b[0m\n\u001b[1;32m----> 3\u001b[1;33m \u001b[0mV\u001b[0m \u001b[1;33m=\u001b[0m \u001b[0mprototyping\u001b[0m\u001b[1;33m(\u001b[0m\u001b[0mT\u001b[0m\u001b[1;33m,\u001b[0m\u001b[0mY\u001b[0m\u001b[1;33m)\u001b[0m\u001b[1;33m\u001b[0m\u001b[1;33m\u001b[0m\u001b[0m\n\u001b[0m\u001b[0;32m      4\u001b[0m \u001b[0mV\u001b[0m\u001b[1;33m\u001b[0m\u001b[1;33m\u001b[0m\u001b[0m\n",
      "\u001b[1;32m<ipython-input-9-78245afedad1>\u001b[0m in \u001b[0;36mprototyping\u001b[1;34m(data, partition)\u001b[0m\n\u001b[0;32m      6\u001b[0m     \u001b[0mdata_dim\u001b[0m \u001b[1;33m=\u001b[0m \u001b[0mdata\u001b[0m\u001b[1;33m.\u001b[0m\u001b[0mshape\u001b[0m \u001b[1;33m[\u001b[0m\u001b[1;36m1\u001b[0m\u001b[1;33m]\u001b[0m\u001b[1;33m\u001b[0m\u001b[1;33m\u001b[0m\u001b[0m\n\u001b[0;32m      7\u001b[0m     \u001b[0mclust_nb\u001b[0m \u001b[1;33m=\u001b[0m \u001b[0mlen\u001b[0m\u001b[1;33m(\u001b[0m\u001b[0mclust_id\u001b[0m\u001b[1;33m)\u001b[0m\u001b[1;33m\u001b[0m\u001b[1;33m\u001b[0m\u001b[0m\n\u001b[1;32m----> 8\u001b[1;33m     \u001b[0mcentroids\u001b[0m \u001b[1;33m=\u001b[0m \u001b[0mnp\u001b[0m\u001b[1;33m.\u001b[0m\u001b[0mzeros\u001b[0m \u001b[1;33m(\u001b[0m\u001b[0mclust_nb\u001b[0m\u001b[1;33m,\u001b[0m \u001b[0mdata_dim\u001b[0m\u001b[1;33m)\u001b[0m\u001b[1;31m#Le nombre de cluster est 3 (cf TD3 - exercice 2 (avec les tableaux))\u001b[0m\u001b[1;33m\u001b[0m\u001b[1;33m\u001b[0m\u001b[0m\n\u001b[0m\u001b[0;32m      9\u001b[0m     \u001b[1;31m#np.zero permet de faire un tableau de 0\u001b[0m\u001b[1;33m\u001b[0m\u001b[1;33m\u001b[0m\u001b[1;33m\u001b[0m\u001b[0m\n\u001b[0;32m     10\u001b[0m     \u001b[1;32mfor\u001b[0m \u001b[0mi\u001b[0m \u001b[1;32min\u001b[0m \u001b[0mrange\u001b[0m\u001b[1;33m(\u001b[0m\u001b[0mclust_nb\u001b[0m\u001b[1;33m)\u001b[0m\u001b[1;33m:\u001b[0m\u001b[1;33m\u001b[0m\u001b[1;33m\u001b[0m\u001b[0m\n",
      "\u001b[1;31mTypeError\u001b[0m: Cannot interpret '3' as a data type"
     ]
    }
   ],
   "source": [
    "#--------- Correction ---------\n",
    "Y = [1,2,3,1,2]\n",
    "V = prototyping(T,Y)\n",
    "V"
   ]
  },
  {
   "cell_type": "code",
   "execution_count": 79,
   "metadata": {},
   "outputs": [
    {
     "data": {
      "text/plain": [
       "array(['Blue', 'Green', 'Yellow'], dtype=object)"
      ]
     },
     "execution_count": 79,
     "metadata": {},
     "output_type": "execute_result"
    }
   ],
   "source": [
    "np.unique (dataf['logiciel'])"
   ]
  },
  {
   "cell_type": "markdown",
   "metadata": {},
   "source": [
    "### 3) Ecrivez une fonction *clustering(data,centroids,dname)* d'*affectation* des données d'un tableau *data* à des *clusters* au sens de la distance *dname* (euclidienne par défaut) au plus proche des *centroids*. \n",
    "### Vous la testerez sur les données du tableau *T* et les *centroids* obtenus à la question précédente afin de retrouver les résultats du TD3."
   ]
  },
  {
   "cell_type": "code",
   "execution_count": 12,
   "metadata": {},
   "outputs": [],
   "source": [
    "#--------- Correction ---------\n",
    "def clustering(data,centroids,dname='eulidean'):\n",
    "    dta_nb = data.shape[0]\n",
    "    clust_nb = centroids.shape[0]\n",
    "    distances_to_centroids = np.zeros((clust_nb, data_nb))\n",
    "    \n",
    "    for k in range(data_nb):\n",
    "        for i in range(clust_nb):\n",
    "            distances_to_centroids[i,k] = dist(data [k], centroids[i], dname)\n",
    "    clusters = distances_to_centroids.argmin (axis = 0) + 1 #+1 pour avoir les resultats du TD3\n",
    "    inertia_intra =(distances_to_centroids.min(axis=0)**2).mean\n",
    "    return clusters, distances_to_centroids,inertia_intra"
   ]
  },
  {
   "cell_type": "code",
   "execution_count": 13,
   "metadata": {},
   "outputs": [
    {
     "ename": "NameError",
     "evalue": "name 'V' is not defined",
     "output_type": "error",
     "traceback": [
      "\u001b[1;31m---------------------------------------------------------------------------\u001b[0m",
      "\u001b[1;31mNameError\u001b[0m                                 Traceback (most recent call last)",
      "\u001b[1;32m<ipython-input-13-dae8a9cdfa70>\u001b[0m in \u001b[0;36m<module>\u001b[1;34m\u001b[0m\n\u001b[0;32m      1\u001b[0m \u001b[1;31m#V.shape\u001b[0m\u001b[1;33m\u001b[0m\u001b[1;33m\u001b[0m\u001b[1;33m\u001b[0m\u001b[0m\n\u001b[1;32m----> 2\u001b[1;33m \u001b[0mY\u001b[0m\u001b[1;33m,\u001b[0m\u001b[0mD\u001b[0m\u001b[1;33m,\u001b[0m\u001b[0mI\u001b[0m \u001b[1;33m=\u001b[0m \u001b[0mclustering\u001b[0m\u001b[1;33m(\u001b[0m\u001b[0mT\u001b[0m\u001b[1;33m,\u001b[0m\u001b[0mV\u001b[0m\u001b[1;33m)\u001b[0m\u001b[1;33m\u001b[0m\u001b[1;33m\u001b[0m\u001b[0m\n\u001b[0m\u001b[0;32m      3\u001b[0m \u001b[0mY\u001b[0m\u001b[1;33m\u001b[0m\u001b[1;33m\u001b[0m\u001b[0m\n\u001b[0;32m      4\u001b[0m \u001b[1;33m\u001b[0m\u001b[0m\n\u001b[0;32m      5\u001b[0m \u001b[0mV\u001b[0m \u001b[1;33m=\u001b[0m \u001b[0mprototyping\u001b[0m\u001b[1;33m(\u001b[0m\u001b[0mT\u001b[0m\u001b[1;33m,\u001b[0m\u001b[0mY\u001b[0m\u001b[1;33m)\u001b[0m\u001b[1;33m\u001b[0m\u001b[1;33m\u001b[0m\u001b[0m\n",
      "\u001b[1;31mNameError\u001b[0m: name 'V' is not defined"
     ]
    }
   ],
   "source": [
    "#V.shape\n",
    "Y,D,I = clustering(T,V)\n",
    "Y\n",
    "\n",
    "V = prototyping(T,Y)\n",
    "V\n",
    "\n",
    "\n",
    "Y,D,I = clustering(T,Y)\n",
    "Y\n",
    "\n",
    "\n",
    "V = prototyping(T,Y)\n",
    "V\n",
    "\n",
    "\n",
    "Y,D,I = clustering(T,Y)\n",
    "Y\n",
    "I"
   ]
  },
  {
   "cell_type": "code",
   "execution_count": null,
   "metadata": {},
   "outputs": [],
   "source": [
    "#Calcul de l'inertie intra cluster\n",
    "#On a fait la moyenne des distances du baricentre"
   ]
  },
  {
   "cell_type": "markdown",
   "metadata": {},
   "source": [
    "### 4) Que représente l'enchaînement des questions 2) et 3) en termes d'algorithme des classification non supervisée ? "
   ]
  },
  {
   "cell_type": "markdown",
   "metadata": {},
   "source": [
    "### 5) Codez l'algorithme *C-means* dans une fonction *cmeans(data,c,maxiter=50,eps=0.001)* qui appellera les fonctions *clustering* et *prototyping* de sorte de réaliser l'algorithme des *C-means*.\n",
    "### L'initialisation sera réalisée en choisissant aléatoirement *c* points du tableau *data* à l'aide la fonction *random.permutation* de *numpy*.\n",
    "### Vous la testerez sur les données du tableau *T* afin de retrouver les résultats du TD3."
   ]
  },
  {
   "cell_type": "code",
   "execution_count": null,
   "metadata": {},
   "outputs": [],
   "source": [
    "import numpy as np \n",
    "\n",
    "def cmeans(data,clust_nb,dname='eulidean',maxiter=50,eps=0.001):\n",
    "data_ nb, data_dim = data.shape\n",
    "centroids = data[np.random.permutation(data_nb)[:clust_nb],:]\n",
    "    iter=0\n",
    "    stop = False\n",
    "    while iter<maxiter and (not stop):\n",
    "\n",
    "    return newcentroids, newpartition"
   ]
  },
  {
   "cell_type": "code",
   "execution_count": null,
   "metadata": {},
   "outputs": [],
   "source": [
    "#--------- Correction ---------\n",
    "def clustering(data,centroids,dname='eulidean'):\n",
    "    dta_nb = data.shape[0]\n",
    "    clust_nb = centroids.shape[0]\n",
    "    distances_to_centroids = cdist(centroids, data, dname)\n",
    "    np.mean(distances_to_centroids.min(axis=0)**2)\n",
    "    clusters = distances_to_centroids.argmin (axis = 0) + 1 #+1 pour avoir les resultats du TD3"
   ]
  },
  {
   "cell_type": "code",
   "execution_count": 14,
   "metadata": {},
   "outputs": [
    {
     "ename": "SyntaxError",
     "evalue": "Missing parentheses in call to 'print'. Did you mean print(Y)? (<ipython-input-14-dbfcd97aabe0>, line 2)",
     "output_type": "error",
     "traceback": [
      "\u001b[1;36m  File \u001b[1;32m\"<ipython-input-14-dbfcd97aabe0>\"\u001b[1;36m, line \u001b[1;32m2\u001b[0m\n\u001b[1;33m    print Y\u001b[0m\n\u001b[1;37m          ^\u001b[0m\n\u001b[1;31mSyntaxError\u001b[0m\u001b[1;31m:\u001b[0m Missing parentheses in call to 'print'. Did you mean print(Y)?\n"
     ]
    }
   ],
   "source": [
    "X, V, Iw = cmeans(T,3, 'euclidean',1.1)\n",
    "print Y\n",
    "print (Iw)\n",
    "V"
   ]
  },
  {
   "cell_type": "markdown",
   "metadata": {},
   "source": [
    "### 6) Modifiez la fonction précédente de sorte qu'elle retourne aussi la valeur de l'inertie intra-classes de la partition finale. \n",
    "### Vous la testerez sur les données du tableau *T* afin de retrouver les résultats du TD3."
   ]
  },
  {
   "cell_type": "code",
   "execution_count": null,
   "metadata": {},
   "outputs": [],
   "source": [
    "import numpy as np\n",
    "#--------- Version originale ---------\n",
    "n= 5; c=3; \n",
    "\n",
    "data = T\n",
    "\n",
    "centroids = data[np.random.permutation(n)[:c],:]\n",
    "centroids"
   ]
  },
  {
   "cell_type": "code",
   "execution_count": null,
   "metadata": {},
   "outputs": [],
   "source": []
  }
 ],
 "metadata": {
  "kernelspec": {
   "display_name": "Python 3",
   "language": "python",
   "name": "python3"
  },
  "language_info": {
   "codemirror_mode": {
    "name": "ipython",
    "version": 3
   },
   "file_extension": ".py",
   "mimetype": "text/x-python",
   "name": "python",
   "nbconvert_exporter": "python",
   "pygments_lexer": "ipython3",
   "version": "3.8.8"
  }
 },
 "nbformat": 4,
 "nbformat_minor": 2
}
