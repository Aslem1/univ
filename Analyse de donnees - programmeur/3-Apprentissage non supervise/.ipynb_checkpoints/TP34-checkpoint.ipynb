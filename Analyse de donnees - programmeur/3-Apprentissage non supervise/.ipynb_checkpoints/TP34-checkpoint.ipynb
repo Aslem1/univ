{
 "cells": [
  {
   "cell_type": "markdown",
   "metadata": {},
   "source": [
    "# Analyse de Données - Développeur\n",
    "## TP3 : Apprentissage Non Supervisé (Clustering)\n",
    "## 0) Tableau de Données *Logiciels de ML* \n",
    "### 0.1) Exécutez le code ci-dessous qui permet de lire un fichier de type tableur."
   ]
  },
  {
   "cell_type": "code",
   "execution_count": 8,
   "metadata": {},
   "outputs": [
    {
     "data": {
      "text/html": [
       "<div>\n",
       "<style scoped>\n",
       "    .dataframe tbody tr th:only-of-type {\n",
       "        vertical-align: middle;\n",
       "    }\n",
       "\n",
       "    .dataframe tbody tr th {\n",
       "        vertical-align: top;\n",
       "    }\n",
       "\n",
       "    .dataframe thead th {\n",
       "        text-align: right;\n",
       "    }\n",
       "</style>\n",
       "<table border=\"1\" class=\"dataframe\">\n",
       "  <thead>\n",
       "    <tr style=\"text-align: right;\">\n",
       "      <th></th>\n",
       "      <th>logiciel</th>\n",
       "      <th>sans</th>\n",
       "      <th>amel.</th>\n",
       "      <th>amel.+</th>\n",
       "      <th>âge</th>\n",
       "      <th>études</th>\n",
       "    </tr>\n",
       "  </thead>\n",
       "  <tbody>\n",
       "    <tr>\n",
       "      <th>0</th>\n",
       "      <td>Blue</td>\n",
       "      <td>2</td>\n",
       "      <td>4</td>\n",
       "      <td>10</td>\n",
       "      <td>45</td>\n",
       "      <td>1</td>\n",
       "    </tr>\n",
       "    <tr>\n",
       "      <th>1</th>\n",
       "      <td>Blue</td>\n",
       "      <td>2</td>\n",
       "      <td>16</td>\n",
       "      <td>2</td>\n",
       "      <td>38</td>\n",
       "      <td>3</td>\n",
       "    </tr>\n",
       "    <tr>\n",
       "      <th>2</th>\n",
       "      <td>Yellow</td>\n",
       "      <td>11</td>\n",
       "      <td>7</td>\n",
       "      <td>5</td>\n",
       "      <td>25</td>\n",
       "      <td>4</td>\n",
       "    </tr>\n",
       "    <tr>\n",
       "      <th>3</th>\n",
       "      <td>Green</td>\n",
       "      <td>16</td>\n",
       "      <td>11</td>\n",
       "      <td>19</td>\n",
       "      <td>24</td>\n",
       "      <td>2</td>\n",
       "    </tr>\n",
       "    <tr>\n",
       "      <th>4</th>\n",
       "      <td>Yellow</td>\n",
       "      <td>19</td>\n",
       "      <td>4</td>\n",
       "      <td>4</td>\n",
       "      <td>23</td>\n",
       "      <td>1</td>\n",
       "    </tr>\n",
       "    <tr>\n",
       "      <th>5</th>\n",
       "      <td>Green</td>\n",
       "      <td>3</td>\n",
       "      <td>13</td>\n",
       "      <td>17</td>\n",
       "      <td>22</td>\n",
       "      <td>3</td>\n",
       "    </tr>\n",
       "    <tr>\n",
       "      <th>6</th>\n",
       "      <td>Yellow</td>\n",
       "      <td>12</td>\n",
       "      <td>6</td>\n",
       "      <td>11</td>\n",
       "      <td>19</td>\n",
       "      <td>1</td>\n",
       "    </tr>\n",
       "    <tr>\n",
       "      <th>7</th>\n",
       "      <td>Green</td>\n",
       "      <td>10</td>\n",
       "      <td>14</td>\n",
       "      <td>20</td>\n",
       "      <td>18</td>\n",
       "      <td>0</td>\n",
       "    </tr>\n",
       "    <tr>\n",
       "      <th>8</th>\n",
       "      <td>Blue</td>\n",
       "      <td>1</td>\n",
       "      <td>14</td>\n",
       "      <td>2</td>\n",
       "      <td>18</td>\n",
       "      <td>1</td>\n",
       "    </tr>\n",
       "    <tr>\n",
       "      <th>9</th>\n",
       "      <td>Blue</td>\n",
       "      <td>7</td>\n",
       "      <td>15</td>\n",
       "      <td>9</td>\n",
       "      <td>16</td>\n",
       "      <td>0</td>\n",
       "    </tr>\n",
       "  </tbody>\n",
       "</table>\n",
       "</div>"
      ],
      "text/plain": [
       "  logiciel  sans  amel.  amel.+  âge  études\n",
       "0     Blue     2      4      10   45       1\n",
       "1     Blue     2     16       2   38       3\n",
       "2   Yellow    11      7       5   25       4\n",
       "3    Green    16     11      19   24       2\n",
       "4   Yellow    19      4       4   23       1\n",
       "5    Green     3     13      17   22       3\n",
       "6   Yellow    12      6      11   19       1\n",
       "7    Green    10     14      20   18       0\n",
       "8     Blue     1     14       2   18       1\n",
       "9     Blue     7     15       9   16       0"
      ]
     },
     "execution_count": 8,
     "metadata": {},
     "output_type": "execute_result"
    }
   ],
   "source": [
    "import numpy as np\n",
    "import pandas as pd\n",
    "dataf = pd.read_excel(\"MLlogiciel.xls\")\n",
    "dataf"
   ]
  },
  {
   "cell_type": "markdown",
   "metadata": {},
   "source": [
    "#### 0.2) A quoi sert le code ci-dessous ?"
   ]
  },
  {
   "cell_type": "code",
   "execution_count": 9,
   "metadata": {},
   "outputs": [],
   "source": [
    "T = dataf.iloc[5:,1:4].values\n",
    "n,p = np.shape(T)\n",
    "logiciel = dataf.iloc[5:,0].values"
   ]
  },
  {
   "cell_type": "markdown",
   "metadata": {},
   "source": [
    "### 1) Calcul de Distances.\n",
    "### 1.1) Ecrivez une fonction *dist* permetant de calculer la distance de Manhattan (ou Cityblock), euclidienne (*euclidean*, distance par défaut), de Chebychev (ou Chebyshev), et Cosinus, entre deux points $x$ et $y$."
   ]
  },
  {
   "cell_type": "code",
   "execution_count": 10,
   "metadata": {},
   "outputs": [],
   "source": [
    "def dist(x,y,dname='euclidean'):\n",
    "    if (dname == 'manhattan') or (dname == 'cityblock'):\n",
    "        d = abs(x-y).sum()\n",
    "    elif (dname == 'chebychev') or (dname == 'shebychev'):\n",
    "        d = abs(x-y).max()\n",
    "    elif dname == 'cosine':\n",
    "        d = 1 - x @ y / np.sqrt(x@x) / np.sqrt(y@y)\n",
    "    elif dname == 'euclidean':\n",
    "        d = ((x-y)**2).sum()\n",
    "        d = ((x-y) @ (x-y))**0.5\n",
    "    else: \n",
    "        d = ((x-y) @ (x-y))**0.5\n",
    "    return d"
   ]
  },
  {
   "cell_type": "markdown",
   "metadata": {},
   "source": [
    "### 1.2) Utilisez-la pour retrouver quelques résultats du TD3."
   ]
  },
  {
   "cell_type": "code",
   "execution_count": null,
   "metadata": {},
   "outputs": [],
   "source": []
  },
  {
   "cell_type": "markdown",
   "metadata": {},
   "source": [
    "### 2) Ecrivez une fonction *prototyping(data,partition)* de *représentation* des clusters d'un tableau de données *data* décrit par une indicatrice de *partition*."
   ]
  },
  {
   "cell_type": "code",
   "execution_count": 11,
   "metadata": {},
   "outputs": [],
   "source": [
    "def prototyping(data,partition):\n",
    "    clust_id = np.unique(partition)\n",
    "    data_dim = data.shape[1]\n",
    "    clust_nb = len(clust_id)\n",
    "    centroids = np.zeros((clust_nb,data_dim))\n",
    "    for i in range(clust_nb):\n",
    "        centroids[i] = data[partition==clust_id[i]].mean(axis=0)\n",
    "    return centroids"
   ]
  },
  {
   "cell_type": "markdown",
   "metadata": {},
   "source": [
    "### Vous la testerez sur les données du tableau *T*  pour l'indicatrice *Y* ci-dessous afin de retrouver les résultats du TD3."
   ]
  },
  {
   "cell_type": "code",
   "execution_count": null,
   "metadata": {},
   "outputs": [],
   "source": []
  },
  {
   "cell_type": "markdown",
   "metadata": {},
   "source": [
    "### 3) Ecrivez une fonction *clustering(data,centroids,dname)* d'*affectation* des données d'un tableau *data* à des *clusters* au sens de la distance *dname* (euclidienne par défaut) au plus proche des *centroids*. "
   ]
  },
  {
   "cell_type": "code",
   "execution_count": 12,
   "metadata": {},
   "outputs": [],
   "source": [
    "def clustering(data,centroids,dname='eulidean'):\n",
    "    data_nb = data.shape[0]\n",
    "    clust_nb = centroids.shape[0]\n",
    "    distances_to_centroids = np.zeros((clust_nb,data_nb))\n",
    "    for k in range(data_nb):\n",
    "        for i in range(clust_nb):\n",
    "            distances_to_centroids[i,k] = dist(data[k],centroids[i],dname)\n",
    "    clusters = distances_to_centroids.argmin(axis=0) + 1\n",
    "    intertia_intra = (distances_to_centroids.min(axis=0)**2).mean()\n",
    "    return clusters, distances_to_centroids, intertia_intra"
   ]
  },
  {
   "cell_type": "code",
   "execution_count": null,
   "metadata": {},
   "outputs": [],
   "source": [
    "# -------- Autre version --------\n",
    "def clustering(data,centroids,dname='eulidean'):\n",
    "    data_nb = data.shape[0]\n",
    "    clust_nb = centroids.shape[0]\n",
    "    distances_to_centroids = cdist(centroids, data, dname)\n",
    "    #pas eu le temps de tout noter..."
   ]
  },
  {
   "cell_type": "markdown",
   "metadata": {},
   "source": [
    "### Vous la testerez sur les données du tableau *T* et les *centroids* obtenus à la question précédente afin de retrouver les résultats du TD3."
   ]
  },
  {
   "cell_type": "code",
   "execution_count": null,
   "metadata": {},
   "outputs": [],
   "source": []
  },
  {
   "cell_type": "markdown",
   "metadata": {},
   "source": [
    "### 4) Que représente l'enchaînement des questions 2) et 3) en termes d'algorithme d'apprentissage non supervisé ? "
   ]
  },
  {
   "cell_type": "markdown",
   "metadata": {},
   "source": [
    "### 5) Codez l'algorithme *C-means* dans une fonction *cmeans(data,c,maxiter=50,eps=0.001)* qui appellera les fonctions *clustering* et *prototyping* de sorte de réaliser l'algorithme des *C-means*.\n",
    "### L'initialisation sera réalisée en choisissant aléatoirement *c* points du tableau *data* à l'aide la fonction *random.permutation* de *numpy*."
   ]
  },
  {
   "cell_type": "code",
   "execution_count": 13,
   "metadata": {},
   "outputs": [
    {
     "ename": "IndentationError",
     "evalue": "expected an indented block (<ipython-input-13-05d7089122f8>, line 4)",
     "output_type": "error",
     "traceback": [
      "\u001b[1;36m  File \u001b[1;32m\"<ipython-input-13-05d7089122f8>\"\u001b[1;36m, line \u001b[1;32m4\u001b[0m\n\u001b[1;33m    data_ nb, data_dim = data.shape\u001b[0m\n\u001b[1;37m    ^\u001b[0m\n\u001b[1;31mIndentationError\u001b[0m\u001b[1;31m:\u001b[0m expected an indented block\n"
     ]
    }
   ],
   "source": [
    "import numpy as np \n",
    "\n",
    "def cmeans(data,clust_nb,dname='eulidean',maxiter=50,eps=0.001):\n",
    "data_ nb, data_dim = data.shape\n",
    "centroids = data[np.random.permutation(data_nb)[:clust_nb],:]\n",
    "    iter=0\n",
    "    stop = False\n",
    "    while iter<maxiter and (not stop):\n",
    "#\n",
    "#\n",
    "#\n",
    "#\n",
    "#\n",
    "#\n",
    "    return newcentroids, newpartition"
   ]
  },
  {
   "cell_type": "markdown",
   "metadata": {},
   "source": [
    "### Vous la testerez sur les données du tableau *T* afin de retrouver les résultats du TD3."
   ]
  },
  {
   "cell_type": "code",
   "execution_count": null,
   "metadata": {},
   "outputs": [],
   "source": []
  },
  {
   "cell_type": "markdown",
   "metadata": {},
   "source": [
    "### 6) Modifiez la fonction précédente de sorte qu'elle retourne aussi la valeur de l'inertie intra-classes de la partition finale. "
   ]
  },
  {
   "cell_type": "code",
   "execution_count": null,
   "metadata": {},
   "outputs": [],
   "source": []
  },
  {
   "cell_type": "markdown",
   "metadata": {},
   "source": [
    "### Vous la testerez sur les données du tableau *T* afin de retrouver les résultats du TD3."
   ]
  },
  {
   "cell_type": "code",
   "execution_count": 7,
   "metadata": {},
   "outputs": [
    {
     "ename": "SyntaxError",
     "evalue": "Missing parentheses in call to 'print'. Did you mean print(Y)? (<ipython-input-7-a4cdb6db42c9>, line 2)",
     "output_type": "error",
     "traceback": [
      "\u001b[1;36m  File \u001b[1;32m\"<ipython-input-7-a4cdb6db42c9>\"\u001b[1;36m, line \u001b[1;32m2\u001b[0m\n\u001b[1;33m    print Y\u001b[0m\n\u001b[1;37m          ^\u001b[0m\n\u001b[1;31mSyntaxError\u001b[0m\u001b[1;31m:\u001b[0m Missing parentheses in call to 'print'. Did you mean print(Y)?\n"
     ]
    }
   ],
   "source": [
    "X, V, Iw = cmeans(T,3, 'euclidean',1.1)\n",
    "print Y\n",
    "print (Iw)\n",
    "V"
   ]
  },
  {
   "cell_type": "markdown",
   "metadata": {},
   "source": [
    "### On ne retrouve pas forcément $Y^{(3)}$, c'est normal ! "
   ]
  },
  {
   "cell_type": "markdown",
   "metadata": {},
   "source": [
    "### Des exécutions peuvent retourner de bonnes partitions... d'autres moins bonnes. Donnez des exemples. "
   ]
  },
  {
   "cell_type": "code",
   "execution_count": null,
   "metadata": {},
   "outputs": [],
   "source": []
  },
  {
   "cell_type": "markdown",
   "metadata": {},
   "source": [
    "### Comment calculer l'inertie totale $trace(V)$, sans calculer $V$, avec une seule exécution de *cmeans* ? Et le centre du nuage $\\overline{x}$ ? "
   ]
  },
  {
   "cell_type": "code",
   "execution_count": 15,
   "metadata": {},
   "outputs": [
    {
     "ename": "NameError",
     "evalue": "name 'cmeans' is not defined",
     "output_type": "error",
     "traceback": [
      "\u001b[1;31m---------------------------------------------------------------------------\u001b[0m",
      "\u001b[1;31mNameError\u001b[0m                                 Traceback (most recent call last)",
      "\u001b[1;32m<ipython-input-15-2933123b6b76>\u001b[0m in \u001b[0;36m<module>\u001b[1;34m\u001b[0m\n\u001b[1;32m----> 1\u001b[1;33m \u001b[0mX\u001b[0m\u001b[1;33m,\u001b[0m \u001b[0mV\u001b[0m\u001b[1;33m,\u001b[0m \u001b[0mIw\u001b[0m \u001b[1;33m=\u001b[0m \u001b[0mcmeans\u001b[0m\u001b[1;33m(\u001b[0m\u001b[0mT\u001b[0m\u001b[1;33m,\u001b[0m\u001b[1;36m1\u001b[0m\u001b[1;33m)\u001b[0m\u001b[1;33m\u001b[0m\u001b[1;33m\u001b[0m\u001b[0m\n\u001b[0m\u001b[0;32m      2\u001b[0m \u001b[0mprint\u001b[0m \u001b[1;33m(\u001b[0m\u001b[0mY\u001b[0m\u001b[1;33m)\u001b[0m\u001b[1;33m\u001b[0m\u001b[1;33m\u001b[0m\u001b[0m\n\u001b[0;32m      3\u001b[0m \u001b[0mprint\u001b[0m \u001b[1;33m(\u001b[0m\u001b[0mIw\u001b[0m\u001b[1;33m)\u001b[0m\u001b[1;33m\u001b[0m\u001b[1;33m\u001b[0m\u001b[0m\n",
      "\u001b[1;31mNameError\u001b[0m: name 'cmeans' is not defined"
     ]
    }
   ],
   "source": [
    "X, V, Iw = cmeans(T,1)\n",
    "print Y\n",
    "print (Iw)\n",
    "V"
   ]
  },
  {
   "cell_type": "markdown",
   "metadata": {},
   "source": [
    "### Retrouvez les résultats du TD3-3.5) sans calculer ni $V$, ni $B$, ni $W$."
   ]
  },
  {
   "cell_type": "code",
   "execution_count": null,
   "metadata": {},
   "outputs": [],
   "source": [
    "X, V, Iw = cmeans(T,3)\n",
    "print (\"partition finale ;\",Y)\n",
    "Ib = cmeans(T,1)[2]\n",
    "Ib = Iv - Iw\n",
    "print (\"inerties (totale, inter, intra) =\")\n"
   ]
  },
  {
   "cell_type": "markdown",
   "metadata": {},
   "source": [
    "### 7) Autour des partitions \n",
    "### Comprenez ce que fait la fonction ci-dessous, puis testez-la de sorte de retrouver les résultats du TD3- 4)."
   ]
  },
  {
   "cell_type": "code",
   "execution_count": 16,
   "metadata": {},
   "outputs": [],
   "source": [
    "def partitionmatrix(data_clusters):\n",
    "#    data_clusters = np.array(data_clusters)    # si l'indicatrice est une liste\n",
    "#    data_nb = data_clusters.shape[0]\n",
    "    data_nb = len(data_clusters)\n",
    "    clust_id = np.unique(data_clusters)\n",
    "    clust_nb = len(clust_id)\n",
    "    data_partition = np.zeros((data_nb,clust_nb))\n",
    "    for k in range(n):\n",
    "        data_partition[k,clust_id==data_clusters[k]] = 1\n",
    "    return data_partition"
   ]
  },
  {
   "cell_type": "code",
   "execution_count": 21,
   "metadata": {},
   "outputs": [],
   "source": [
    "Y3 = [3,2,3,1,1]\n",
    "U3 = partitionmatrix(Y3)\n",
    "Yprime = [1,1,1,2,2]\n",
    "Uprime = partitionmatrix(Yprime)"
   ]
  },
  {
   "cell_type": "markdown",
   "metadata": {},
   "source": [
    "### Ecrivez une fonction randindex permettant de calculer l'indice de Rand entre deux partitions définies par leur matrice de partition stricte. Retrouvez les résultats du TD3- 4) et commentez."
   ]
  },
  {
   "cell_type": "code",
   "execution_count": null,
   "metadata": {},
   "outputs": [],
   "source": [
    "#def randindex(partition_mat1,partition_mat2):\n",
    "#    n = \n",
    "#    contingency_tab = \n",
    "#    t =  \n",
    "#    u = \n",
    "#    v = \n",
    "#    RI = (2*t-u-v)/n/(n-1) + 1\n",
    "#    return RI"
   ]
  },
  {
   "cell_type": "code",
   "execution_count": 22,
   "metadata": {},
   "outputs": [],
   "source": [
    "def randindex(partition_mat1,partition_mat2):\n",
    "    n = partition_mat1.shape[0]\n",
    "    N = partition_mat1.T @ partition_mat2\n",
    "    t = np.sum (N**2) - n #somme des carrés des élements du tableau  \n",
    "    u = np.sum (N.sum(axis=1)**2) - n\n",
    "    v = np.sum (N.sum(axis=0)**2) - n\n",
    "    RI = (2*t-u-v)/n/(n-1) + 1\n",
    "    return RI"
   ]
  },
  {
   "cell_type": "code",
   "execution_count": 24,
   "metadata": {},
   "outputs": [
    {
     "data": {
      "text/plain": [
       "1.0"
      ]
     },
     "execution_count": 24,
     "metadata": {},
     "output_type": "execute_result"
    }
   ],
   "source": [
    "randindex (U3, U3)"
   ]
  },
  {
   "cell_type": "markdown",
   "metadata": {},
   "source": [
    "### Après avoir deviné (ou trouvé) ce que font les méthodes importées ci-dessous, écrivez une fonction, pouvant y faire appel, permettant de calculer l'indice de Dunn d'une partition. Retrouvez les résultats du TD3- 4)."
   ]
  },
  {
   "cell_type": "code",
   "execution_count": 28,
   "metadata": {
    "scrolled": true
   },
   "outputs": [
    {
     "name": "stdout",
     "output_type": "stream",
     "text": [
      "[166.  59. 230.  84. 149. 266. 110. 405. 131.  86.]\n",
      "[166.  59. 230.  84. 149. 266. 110. 405. 131.  86.]\n"
     ]
    }
   ],
   "source": [
    "from scipy.spatial.distance import pdist, squareform\n",
    "from sklearn.metrics import pairwise_distances\n",
    "\n",
    "print(pdist(T)**2) #pdist calcule toutes les distances entre les lignes d'un array donné\n",
    "squareform(pdist(T)**2) #squareform met sous forme carré\n",
    "squareform(squareform(pdist(T)**2))\n",
    "print(squareform(pairwise_distances(T)**2))\n",
    "\n",
    "#si on fait squareform squareform ça ne fonctionne pas, c'est une fonction \"interrupteur\""
   ]
  },
  {
   "cell_type": "code",
   "execution_count": null,
   "metadata": {},
   "outputs": [],
   "source": []
  },
  {
   "cell_type": "code",
   "execution_count": 29,
   "metadata": {
    "scrolled": true
   },
   "outputs": [
    {
     "ename": "IndentationError",
     "evalue": "expected an indented block (<ipython-input-29-c23c29a882af>, line 13)",
     "output_type": "error",
     "traceback": [
      "\u001b[1;36m  File \u001b[1;32m\"<ipython-input-29-c23c29a882af>\"\u001b[1;36m, line \u001b[1;32m13\u001b[0m\n\u001b[1;33m    DI = min(pdist (centroids))/ max(clust_diameter)\u001b[0m\n\u001b[1;37m    ^\u001b[0m\n\u001b[1;31mIndentationError\u001b[0m\u001b[1;31m:\u001b[0m expected an indented block\n"
     ]
    }
   ],
   "source": [
    "def dunnindex(data,data_clusters,dname='euclidean'):\n",
    "    clust_id = np.unique(data_clusters)\n",
    "    clust_nb = len(clust_id)\n",
    "    centroids = prototyping(data,data_clusters)\n",
    "    clust_diameters = []\n",
    "    for j in range(1,clust_nb):\n",
    "        #cluster's points indexes\n",
    "        #cf fonction prototyping (plus haut)\n",
    "        \n",
    "        # corresponding data points\n",
    "        \n",
    "        # intra-cluster's distances\n",
    "        \n",
    "    DI = min(pdist (centroids))/ max(clust_diameter)\n",
    "    return DI"
   ]
  },
  {
   "cell_type": "code",
   "execution_count": null,
   "metadata": {
    "scrolled": true
   },
   "outputs": [],
   "source": []
  }
 ],
 "metadata": {
  "kernelspec": {
   "display_name": "Python 3",
   "language": "python",
   "name": "python3"
  },
  "language_info": {
   "codemirror_mode": {
    "name": "ipython",
    "version": 3
   },
   "file_extension": ".py",
   "mimetype": "text/x-python",
   "name": "python",
   "nbconvert_exporter": "python",
   "pygments_lexer": "ipython3",
   "version": "3.8.8"
  }
 },
 "nbformat": 4,
 "nbformat_minor": 2
}
