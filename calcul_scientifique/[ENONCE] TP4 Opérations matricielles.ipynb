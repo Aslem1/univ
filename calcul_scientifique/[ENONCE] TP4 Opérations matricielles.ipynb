{
 "cells": [
  {
   "cell_type": "markdown",
   "metadata": {},
   "source": [
    "# Matrices\n",
    "\n",
    "**ATTENTION :**\n",
    "\n",
    "+ **Les interfaces de vos fonctions doivent être strictement identiques, casse incluse, à celles de l'énoncé.**\n",
    "+ **Certains éléments de ce TP seront à rendre sur Moodle.**\n",
    "+ **Si l'interface n'est pas respectée, votre fonction échouera aux tests.**\n",
    "+ **Dans le test Moodle, vous ne devez déposer que votre fonction (les imports seront faits, surtout pas de print, ni de test)**"
   ]
  },
  {
   "cell_type": "code",
   "execution_count": 1,
   "metadata": {},
   "outputs": [],
   "source": [
    "import numpy as np"
   ]
  },
  {
   "cell_type": "markdown",
   "metadata": {},
   "source": [
    "## Opérations sur les matrices\n",
    "\n",
    "L'objectif est de vous faire coder des fonctions dont le code parcours les coefficients des matrices. \n",
    "\n",
    "**Vous ne devez pas utiliser les fonctions de haut niveau fournie par numpy, sauf lorsque cela sera explicitement demandé.**"
   ]
  },
  {
   "cell_type": "markdown",
   "metadata": {},
   "source": [
    "### Produit\n",
    "\n",
    "**Question 1 :** N'utilisez pas l'instruction `A @ B`. Codez votre propre fonction `produit(A,B)`.\n",
    "\n",
    "Rappel, la formule vue en cours est :\n",
    "$$ c_{i,j} = \\sum_{k = 1}^n a_{i,k}b_{k,j} $$\n",
    "\n",
    "Indication : \n",
    "\n",
    "+ Réfléchissez avant de coder (ter) : voir **addition au TP3**\n",
    "+ Trois boucles `for` imbriquées.\n",
    "\n",
    "**Question 2 :** En utilisant, les instructions fournies ci-dessous, comparez les temps des calculs entre votre fonction et `A @ B`\n",
    "\n",
    "Indication :\n",
    "\n",
    "+ L'instruction `np.random.random((100,1000))` retourne une matrice $100 \\times 1000$ à coefficients aléatoires dans $\\lbrack 0, 1 \\rbrack$."
   ]
  },
  {
   "cell_type": "code",
   "execution_count": 12,
   "metadata": {},
   "outputs": [
    {
     "name": "stdout",
     "output_type": "stream",
     "text": [
      "[[257.15207752 260.55396159 251.99162385 ... 257.17499982 249.74742836\n",
      "  249.33573062]\n",
      " [247.18498562 261.22803741 245.59882637 ... 259.55788549 250.54565903\n",
      "  242.88024479]\n",
      " [246.80848456 256.64178209 246.54372581 ... 256.35740134 252.3363\n",
      "  242.39645366]\n",
      " ...\n",
      " [255.91910856 262.38155149 253.69336395 ... 252.38928486 256.21221401\n",
      "  249.68053961]\n",
      " [250.63854702 255.56536992 256.4657843  ... 258.3597095  247.50563151\n",
      "  245.86286371]\n",
      " [247.35312954 257.89285146 246.62397547 ... 254.48265983 246.70516256\n",
      "  240.6226962 ]]\n"
     ]
    }
   ],
   "source": [
    "# Codez la fonction produit\n",
    "def "
   ]
  },
  {
   "cell_type": "code",
   "execution_count": 13,
   "metadata": {},
   "outputs": [
    {
     "name": "stderr",
     "output_type": "stream",
     "text": [
      "/home/agathe/miniconda3/lib/python3.7/site-packages/ipykernel_launcher.py:2: DeprecationWarning: time.clock has been deprecated in Python 3.3 and will be removed from Python 3.8: use time.perf_counter or time.process_time instead\n",
      "  \n"
     ]
    },
    {
     "name": "stdout",
     "output_type": "stream",
     "text": [
      "5.109375\n"
     ]
    },
    {
     "name": "stderr",
     "output_type": "stream",
     "text": [
      "/home/agathe/miniconda3/lib/python3.7/site-packages/ipykernel_launcher.py:7: DeprecationWarning: time.clock has been deprecated in Python 3.3 and will be removed from Python 3.8: use time.perf_counter or time.process_time instead\n",
      "  import sys\n"
     ]
    }
   ],
   "source": [
    "import time as tps\n",
    "tps_depart = tps.clock() # Mesure du temps au départ\n",
    "\n",
    "# ICI : Calculs dont on veut mesurer le temps d'execution\n",
    "produit(np.random.random((100,1000)), np.random.random((1000,100)))\n",
    "\n",
    "tps_arrivee = tps.clock() # Mesure du temps à l'arrivée\n",
    "tps_execution = tps_arrivee - tps_depart\n",
    "print(tps_execution)"
   ]
  },
  {
   "cell_type": "code",
   "execution_count": 14,
   "metadata": {},
   "outputs": [
    {
     "name": "stdout",
     "output_type": "stream",
     "text": [
      "0.0\n"
     ]
    },
    {
     "name": "stderr",
     "output_type": "stream",
     "text": [
      "/home/agathe/miniconda3/lib/python3.7/site-packages/ipykernel_launcher.py:2: DeprecationWarning: time.clock has been deprecated in Python 3.3 and will be removed from Python 3.8: use time.perf_counter or time.process_time instead\n",
      "  \n",
      "/home/agathe/miniconda3/lib/python3.7/site-packages/ipykernel_launcher.py:7: DeprecationWarning: time.clock has been deprecated in Python 3.3 and will be removed from Python 3.8: use time.perf_counter or time.process_time instead\n",
      "  import sys\n"
     ]
    }
   ],
   "source": [
    "# Comparez les temps de calcul\n",
    "tps_depart = tps.clock() # Mesure du temps au départ\n",
    "\n",
    "# ICI : Calculs dont on veut mesurer le temps d'execution\n",
    "np.random.random((100,1000)) @ np.random.random((1000,100))\n",
    "\n",
    "tps_arrivee = tps.clock() # Mesure du temps à l'arrivée\n",
    "tps_execution = tps_arrivee - tps_depart\n",
    "print(tps_execution)"
   ]
  },
  {
   "cell_type": "markdown",
   "metadata": {},
   "source": [
    "### Matrice orthogonale\n",
    "\n",
    "Ecrivez une fonction `estOrthogonale(A)` qui retourne vrai si et seulement si la matrice $A$ est orthogonale.\n",
    "\n",
    "**Rappel :** Une matrice $A$ est orthogonale lorsqu'elle est carrée et que $~^tA\\;A = I_n$\n",
    "\n",
    "Indication : Vous pouvez, pour cette fonction, utiliser :\n",
    "\n",
    "+ le produit `A @ B`\n",
    "+ la transposée `np.transpose`\n",
    "+ la fonction `np.eye`\n",
    "+ et la fonction `np.allclose` dont vous chercherez l'aide."
   ]
  },
  {
   "cell_type": "code",
   "execution_count": 4,
   "metadata": {},
   "outputs": [
    {
     "name": "stdout",
     "output_type": "stream",
     "text": [
      "[[ 2 -1]\n",
      " [ 3  1]\n",
      " [ 0 -2]]\n",
      "[[ 2  3  0]\n",
      " [-1  1 -2]]\n",
      "[[13  1]\n",
      " [ 1  6]]\n",
      "[[ 5  5  2]\n",
      " [ 5 10 -2]\n",
      " [ 2 -2  4]]\n"
     ]
    }
   ],
   "source": [
    "def estCarree(A): \n",
    "    nbLignes,nbColonnes = np.shape(A)\n",
    "    if nbLignes == nbColonnes:\n",
    "        return True \n",
    "    else:\n",
    "        return False\n",
    "\n",
    "def estOrthogonale(A):\n",
    "    if estCarree(A):\n",
    "        nbLignes,nbColonnes = np.shape(A)\n",
    "        return np.allclose(np.transpose(A)@A, np.eye(nbLignes))\n",
    "    return False\n",
    "    \n",
    "def test():\n",
    "    A = np.array([[2,-1],[3,1],[0,-2]])\n",
    "    tA = np.transpose(A)\n",
    "    print (A)\n",
    "    print (tA)\n",
    "    print (tA@A)\n",
    "    print (A@tA)\n",
    "test ()"
   ]
  },
  {
   "cell_type": "markdown",
   "metadata": {},
   "source": [
    "## Interlude : Graphiques"
   ]
  },
  {
   "cell_type": "code",
   "execution_count": 16,
   "metadata": {},
   "outputs": [
    {
     "data": {
      "image/png": "[encoded data removed]",
      "text/plain": [
       "<Figure size 432x288 with 1 Axes>"
      ]
     },
     "metadata": {
      "needs_background": "light"
     },
     "output_type": "display_data"
    }
   ],
   "source": [
    "# La ligne suivante permet que les graphiques soient incorporés dans le notebook\n",
    "%matplotlib inline\n",
    "import matplotlib.pyplot as plt # Importation du module\n",
    "\n",
    "Temps = np.array([0,1,2,3,4]) # Données en abscisse\n",
    "PopulationA = np.array([50,20,70,110,90]) # Données en ordonnée\n",
    "PopulationB = np.array([100,30,160,40,200]) # Seconde courbe\n",
    "\n",
    "fig = plt.figure() # On prépare une variable qui permettra la sauvegarde dans un fichier\n",
    "plt.plot(Temps,PopulationA) # Construction de la première courbe\n",
    "plt.plot(Temps,PopulationB) # Construction de la seconde courbe\n",
    "\n",
    "plt.show() # Affichage du graphique\n",
    "fig.savefig(\"MonGraphique.png\") # Sauvegarde dans un fichier"
   ]
  },
  {
   "cell_type": "markdown",
   "metadata": {},
   "source": [
    "## Evolution de population\n",
    "\n",
    "### Contexte\n",
    "\n",
    "Dans cet exercice, on modélise à l'aide de matrices, les migrations de populations entre trois villes.\n",
    "\n",
    "Au départ, la ville $A$ possède $1000$ habitants, la ville $B$ en possède $500$ et la ville $C$ $2000$.\n",
    "\n",
    "La ville A est attractive, de sorte que $90\\%$ de ses habitants y restent d'une année sur l'autre, \n",
    "$9\\%$ partent vers la ville $B$ et $1\\%$ partent vers la ville $C$.\n",
    "\n",
    "La ville B est moins attractive mais fort agréable tout de même, de sorte que $75\\%$ de ses habitants \n",
    "y restent d'une année sur l'autre, $20\\%$ partent vers la ville $A$ et $5\\%$ partent vers la ville $C$.\n",
    "\n",
    "Enfin, la ville $C$ n'est franchement pas attractive, de sorte que seulement $55\\%$ de ses habitants y \n",
    "restent d'une année sur l'autre, $35\\%$ partent vers la ville $A$ et $10\\%$ partent vers la ville $B$.\n",
    "\n",
    "On souhaite déterminer quelle sera l'évolution de la population à long terme.\n",
    "\n",
    "Soit le matrice $M$ et le vecteur $V$ suivant :\n",
    "$$ M = \\left(\\begin{matrix}\n",
    "0.9 & 0.2 & 0.35 \\\\\n",
    "0.09 & 0.75 & 0.1 \\\\\n",
    "0.01 & 0.05 & 0.55 \\\\\n",
    "\\end{matrix}\\right)$$\n",
    "\n",
    "$$ V = \\left(\\begin{matrix} \n",
    "1000 \\\\\n",
    "500 \\\\\n",
    "2000\n",
    "\\end{matrix}\\right)$$\n",
    "\n",
    "### Analyse\n",
    "\n",
    "Questions auxquelles vous devez répondre \"pour vous\" afin de comprendre la suite :\n",
    "\n",
    "+ Que représente la matrice $V$ ?\n",
    "+ Que représente la matrice $M$ ?\n",
    "+ Que représente le produit $MV$ ? (Faites le calcul à la main en écrivant \"tous les détails\"; par exemple quel calcul avez-vous fait pour obtenir le premier coefficient en haut à gauche de $MV$ ? et quelle interprétation pouvez-vous faire de ce calcul ?)\n",
    "+ Et le produit $M^2V$ ?\n",
    "\n",
    "### Mise en oeuvre\n",
    "\n",
    "\n",
    "Il s'agit maintenant d'exploiter ce que vous venez de comprendre pour conjecturer l'évolution des populations à long terme :\n",
    "\n",
    "+ Calculez successivement $M^nV$, pour $n = 10$, $n = 100$, $n = 1000$.\n",
    "+ Déduisez-en une valeur approchée des populations vers lesquelles se stabilisent les trois villes. Il s'agit de faire une conjecture sur la limite, aucune démonstration n'est demandée. **A fournir sur Moodle**\n",
    "+ A l'aide des informations précédentes relatives à `matplotlib`, représentez sur un seul graphique les courbes d'évolution dans le temps, des populations des trois villes. Exportez ce graphique en `.jpg`\n",
    "\n",
    "Indications :\n",
    "\n",
    "+ Si vous ne connaissez pas la définition du mot conjecture, vous pouvez aller la chercher sur internet.\n",
    "+ Si $M$ est une matrice, `M[:,1]` représente sa colonne d'indice $1$ et `M[0,:]` représente sa ligne d'indice $0$\n",
    "+ Pour accoler deux matrices $A$ et $B$ l'une à côté de l'autre, utilisez l'instruction `np.concatenate((A,B),axis = 1)`"
   ]
  },
  {
   "cell_type": "code",
   "execution_count": 38,
   "metadata": {},
   "outputs": [
    {
     "name": "stdout",
     "output_type": "stream",
     "text": [
      "[[1000.         1700.         2060.25       ... 2411.85897436\n",
      "  2411.85897436 2411.85897436]\n",
      " [ 500.          665.          765.25       ...  931.08974359\n",
      "   931.08974359  931.08974359]\n",
      " [2000.         1135.          674.5        ...  157.05128205\n",
      "   157.05128205  157.05128205]]\n"
     ]
    },
    {
     "data": {
      "image/png": "[encoded data removed]",
      "text/plain": [
       "<Figure size 432x288 with 1 Axes>"
      ]
     },
     "metadata": {
      "needs_background": "light"
     },
     "output_type": "display_data"
    }
   ],
   "source": [
    "def population(M,V,n):\n",
    "    res = V\n",
    "    for annee in range (n):\n",
    "        res = M@res\n",
    "        V = np.concatenate((V,res),axis = 1)\n",
    "    print (V)\n",
    "    Temps = np.array(range(n + 1)) # Données en abscisse\n",
    "    PopulationA = V[0,:] # Données en ordonnée\n",
    "    PopulationB = V[1,:] # Seconde courbe\n",
    "    PopulationC = V[2,:] # 3eme courbe\n",
    "    \n",
    "    fig = plt.figure() # On prépare une variable qui permettra la sauvegarde dans un fichier\n",
    "    plt.plot(Temps,PopulationA) # Construction de la première courbe\n",
    "    plt.plot(Temps,PopulationB) # Construction de la seconde courbe\n",
    "    plt.plot(Temps,PopulationC) # Construction de la seconde courbe\n",
    "    \n",
    "    plt.show() # Affichage du graphique\n",
    "    fig.savefig(\"MonGraphique.png\") # Sauvegarde dans un fichier\n",
    "population(np.array([[0.9,0.2,0.35],[0.09,0.75,0.1],[0.01,0.05,0.55]]),np.array([[1000],[500],[2000]]),1000)"
   ]
  },
  {
   "cell_type": "markdown",
   "metadata": {},
   "source": [
    "A déposer sur Moodle :\n",
    "\n",
    "+ `produit(A,B)`\n",
    "+ `estOrthogonale(A)`\n",
    "+ Le résultat de la conjecture sur les populations\n",
    "+ Le graphique en `.jpg`\n",
    "\n",
    "# FIN !"
   ]
  }
 ],
 "metadata": {
  "kernelspec": {
   "display_name": "Python 3",
   "language": "python",
   "name": "python3"
  },
  "language_info": {
   "codemirror_mode": {
    "name": "ipython",
    "version": 3
   },
   "file_extension": ".py",
   "mimetype": "text/x-python",
   "name": "python",
   "nbconvert_exporter": "python",
   "pygments_lexer": "ipython3",
   "version": "3.7.6"
  }
 },
 "nbformat": 4,
 "nbformat_minor": 2
}
