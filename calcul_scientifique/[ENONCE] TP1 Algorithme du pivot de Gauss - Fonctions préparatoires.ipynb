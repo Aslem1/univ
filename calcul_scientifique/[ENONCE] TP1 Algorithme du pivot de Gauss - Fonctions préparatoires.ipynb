{
 "cells": [
  {
   "cell_type": "markdown",
   "metadata": {},
   "source": [
    "# Algorithme du pivot de Gauss\n",
    "\n",
    "Dans ce TP et le suivant, vous allez progressivement mettre en place l'algorithme de Gauss permettant de résoudre des systèmes linéaires.\n",
    "\n",
    "** ATTENTION : **\n",
    "\n",
    "+ ** Les signatures de vos fonctions doivent être strictement identiques, casse incluse, à celles de l'énoncé. **\n",
    "+ ** Certains éléments de ce TP seront à rendre sur Moodle. **\n",
    "+ ** Si la signature n'est pas respectée, votre fonction échouera aux tests. **\n",
    "+ ** Dans le test Moodle, vous ne devez déposer que votre fonction (les imports seront faits, surtout pas de print, ni de test) **\n",
    "\n",
    "## Fonction d'échange de lignes\n",
    "\n",
    "Ecrivez une fonction `Echange(i,j,A)` qui retourne la matrice A dans laquelle les lignes $i$ et $j$ ont été échangées.\n",
    "\n",
    "Par exemple :\n",
    "\n",
    "+ Avec $A = \\left(\\begin{matrix} \n",
    "1 & -3 & 2 \\\\\n",
    "2 & 4 & -1 \\\\\n",
    "5 & 11 & 3\n",
    "\\end{matrix}\\right)$, l'appel de `Echange(1,2,A)` doit retourner :\n",
    "$\\left(\\begin{matrix} \n",
    "1 & -3 & 2 \\\\\n",
    "5 & 11 & 3 \\\\\n",
    "2 & 4 & -1 \\\\\n",
    "\\end{matrix}\\right)$\n",
    "\n",
    "+ Avec $B = \\left(\\begin{matrix} \n",
    "0 & 7 & -1 & 6 & 7 \\\\\n",
    "4 & 8 & 5 & -1 & 0 \\\\\n",
    "1 & 5 & -9 & 3 & -5 \\\\\n",
    "2 & 8 & 6 & -4 & 2 \\\\\n",
    "\\end{matrix}\\right)$, l'appel de `Echange(0,3,B)` doit retourner :\n",
    "$\\left(\\begin{matrix} \n",
    "2 & 8 & 6 & -4 & 2 \\\\\n",
    "4 & 8 & 5 & -1 & 0 \\\\\n",
    "1 & 5 & -9 & 3 & -5 \\\\\n",
    "0 & 7 & -1 & 6 & 7 \\\\\n",
    "\\end{matrix}\\right)$\n",
    "\n",
    "** En Python, la matrice `A` doit être un `numpy.array`; `i` et `j` sont des entiers **"
   ]
  },
  {
   "cell_type": "code",
   "execution_count": 1,
   "metadata": {},
   "outputs": [
    {
     "name": "stdout",
     "output_type": "stream",
     "text": [
      "5\n"
     ]
    }
   ],
   "source": [
    "# Exécutez cette cellule pour importer numpy.\n",
    "# Cet import est valable \"une fois pour toute\", vous pouvez utiliser numpy dans les autres cellules.\n",
    "import numpy as np\n",
    "def test(a:int, b:int=2):\n",
    "    print(a+b)\n",
    "test(3)"
   ]
  },
  {
   "cell_type": "code",
   "execution_count": 3,
   "metadata": {},
   "outputs": [
    {
     "name": "stdout",
     "output_type": "stream",
     "text": [
      "[[  1   1   1   1]\n",
      " [  0  -1  -3  -4]\n",
      " [  0   0  -7 -14]]\n",
      "[ 1 -2  2]\n"
     ]
    }
   ],
   "source": [
    "# Insérez et testez le code de votre fonction `Echange` ici\n",
    "#Retourne la matrice A dans laquelle les lignes 𝑖 et 𝑗 ont été échangées.\n",
    "def Echange(i, j , A):\n",
    "    M = np.copy(A)\n",
    "    M[i,:] = A[j,:]\n",
    "    M[j,:] = A[i,:]\n",
    "    return M\n",
    "\n",
    "#Retourne la matrice A dans laquelle à la ligne 𝑖 a été ajoutée 𝑙 fois la ligne 𝑗.\n",
    "def CombinaisonLineaire(i, l, j , A):\n",
    "    M = np.copy(A)\n",
    "    M[i,:] = A[i,:] + l*A[j,:]\n",
    "    return M\n",
    "\n",
    "#Compris\n",
    "def ChoixPivot(j,A):\n",
    "    nbLignes = A.shape[0]\n",
    "    i = j;\n",
    "    while (i < nbLignes and A[i,j]==0):\n",
    "        i = i + 1\n",
    "    if (i == nbLignes):\n",
    "        i=-1\n",
    "    return i\n",
    "\n",
    "def Echelonne(A):\n",
    "    nbLignes, nbColonnes = A.shape\n",
    "    for j in range(nbColonnes-2):\n",
    "        pivot = ChoixPivot(j,A)\n",
    "        if j != pivot:\n",
    "            A = Echange(pivot,j,A)\n",
    "        for i in range (j+1,nbLignes):\n",
    "            A = CombinaisonLineaire(i, -A[i,j]/A[pivot,j], pivot , A)\n",
    "    return A\n",
    "\n",
    "def Gauss(A):\n",
    "    A = Echelonne(A)\n",
    "    nbLignes, nbColonnes = A.shape\n",
    "    for i in reversed(range(nbLignes)):\n",
    "        for n in range (i+1, nbColonnes-1):\n",
    "            A[i,-1] = A[i,-1] - A[i,n]\n",
    "            A[i,n] = 0\n",
    "        A[i,-1] = A[i,-1]/A[i,i]\n",
    "        A[i,i] = 1\n",
    "        for n in reversed(range(i)):\n",
    "            A[n,i] = A[n,i]*A[i,-1]\n",
    "    res = A[:,-1]\n",
    "    res.shape = nbLignes\n",
    "    return res\n",
    "\n",
    "\n",
    "mat = np.array([[1, 1, 1, 1], [2, 1, -1, -2], [-1, 1, -2, -7]])\n",
    "print(Echelonne(mat))\n",
    "print(Gauss(mat))"
   ]
  },
  {
   "cell_type": "markdown",
   "metadata": {},
   "source": [
    "## Fonction de combinaison linéaire\n",
    "\n",
    "Ecrivez une fonction `CombinaisonLineaire(i,l,j,A)` qui retourne la matrice A dans laquelle à la ligne $i$ a été ajoutée $l$ fois la ligne $j$.\n",
    "\n",
    "Par exemple :\n",
    "\n",
    "+ Avec $A = \\left(\\begin{matrix} \n",
    "1 & -3 & 2 \\\\\n",
    "2 & 4 & -1 \\\\\n",
    "5 & 11 & 3\n",
    "\\end{matrix}\\right)$, l'appel de `CombinaisonLineaire(0,-5,1,A)` doit retourner :\n",
    "$\\left(\\begin{matrix} \n",
    "-9 & -23 & 7 \\\\\n",
    "2 & 4 & -1 \\\\\n",
    "5 & 11 & 3\n",
    "\\end{matrix}\\right)$\n",
    "\n",
    "+ Avec $B = \\left(\\begin{matrix} \n",
    "0 & 7 & -1 & 6 & 7 \\\\\n",
    "4 & 8 & 5 & -1 & 0 \\\\\n",
    "1 & 5 & -9 & 3 & -5 \\\\\n",
    "2 & 8 & 6 & -4 & 2 \\\\\n",
    "\\end{matrix}\\right)$, l'appel de `CombinaisonLineaire(3,-2,2,A)` doit retourner :\n",
    "$\\left(\\begin{matrix} \n",
    "0 & 7 & -1 & 6 & 7 \\\\\n",
    "4 & 8 & 5 & -1 & 0 \\\\\n",
    "1 & 5 & -9 & 3 & -5 \\\\\n",
    "0 & -2 & 24 & -10 & 12 \\\\\n",
    "\\end{matrix}\\right)$\n",
    "\n",
    "** En Python, le coefficient `l` est un nombre réel **"
   ]
  },
  {
   "cell_type": "code",
   "execution_count": 9,
   "metadata": {},
   "outputs": [
    {
     "name": "stdout",
     "output_type": "stream",
     "text": [
      "[[ 5  1  7]\n",
      " [ 1 10 -7]\n",
      " [ 7 -7 17]]\n",
      "[[21 -5]\n",
      " [-5 11]]\n"
     ]
    }
   ],
   "source": [
    "# Insérez et testez le code de votre fonction `CombinaisonLineaire` ici\n",
    "A = np.array([[2, 1], [-1, 3], [4, -1]])\n",
    "\n",
    "print (A @ np.transpose(A))\n",
    "print (np.transpose(A) @ A)\n",
    "\n"
   ]
  },
  {
   "cell_type": "markdown",
   "metadata": {},
   "source": [
    "## Fonction de choix du pivot\n",
    "\n",
    "** Attention : ** Cette fonction est un peu plus difficile. Lisez attentivement l'énoncé. Demandez à votre enseignant !\n",
    "\n",
    "La fonction `ChoixPivot(j,A)` doit retourner, en cherchant dans la colonne $j$, le premier indice de ligne $i$ sous la diagonale (diagonale incluse) tel que $A_{i,j} \\not= 0$. Si un tel coefficient n'existe pas, la fonction retourne $-1$.\n",
    "\n",
    "Par exemple avec la matrice :\n",
    "$$A = \\left(\\begin{matrix}\n",
    "0 & 1 & 2 & 3 \\\\\n",
    "0 & 2 & 1 & 5 \\\\\n",
    "1 & 0 & 0 & 4 \\\\\n",
    "2 & 7 & 0 & 8 \\\\\n",
    "\\end{matrix}\\right)$$\n",
    "\n",
    "+ `ChoixPivot(0,A)` retourne $2$\n",
    "+ `ChoixPivot(1,A)` retourne $1$ : Le coefficient sur la diagonale est non-nul\n",
    "+ `ChoixPivot(2,A)` retourne $-1$ : Il n'y a pas de coefficient non-nul sous la diagonale dans cette colonne\n",
    "+ `ChoixPivot(3,A)` retourne $3$"
   ]
  },
  {
   "cell_type": "code",
   "execution_count": 2,
   "metadata": {},
   "outputs": [],
   "source": [
    "# Insérez et testez le code de votre fonction `ChoixPivot` ici"
   ]
  },
  {
   "cell_type": "markdown",
   "metadata": {},
   "source": [
    "# Fin !"
   ]
  }
 ],
 "metadata": {
  "kernelspec": {
   "display_name": "Python 3",
   "language": "python",
   "name": "python3"
  },
  "language_info": {
   "codemirror_mode": {
    "name": "ipython",
    "version": 3
   },
   "file_extension": ".py",
   "mimetype": "text/x-python",
   "name": "python",
   "nbconvert_exporter": "python",
   "pygments_lexer": "ipython3",
   "version": "3.7.6"
  }
 },
 "nbformat": 4,
 "nbformat_minor": 2
}
