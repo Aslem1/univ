{
 "cells": [
  {
   "cell_type": "markdown",
   "metadata": {},
   "source": [
    "# Transformations géométriques\n",
    "\n",
    "Pour ceux qui utilisent l'énoncé PDF. Il y a des soucis avec l'intégration de certaines images.\n",
    "\n",
    "+ Pour l'exercice Rotations et Homothéties, il s'agit du fichier \"carres.png\"\n",
    "+ Pour l'exercice Translations, il s'agit du fichier\n",
    "\"cercles.png\""
   ]
  },
  {
   "cell_type": "code",
   "execution_count": 2,
   "metadata": {},
   "outputs": [],
   "source": [
    "%matplotlib inline\n",
    "# L'instruction ci-dessus permet d'obtenir les figures dans le notebook\n",
    "import matplotlib.pyplot as plt # Pour les représentations graphiques\n",
    "import numpy as np\n",
    "import math # Pour utiliser la constante pi"
   ]
  },
  {
   "cell_type": "markdown",
   "metadata": {},
   "source": [
    "## Premières représentations\n",
    "\n",
    "Exécutez et analysez le code de la cellule ci-dessous :\n",
    "\n",
    "+ Enlevez le dernier sommet du carré et observez le résultat.\n",
    "+ Décommentez l'instruction `plt.axis('scaled')` et observez le résultat."
   ]
  },
  {
   "cell_type": "code",
   "execution_count": 3,
   "metadata": {},
   "outputs": [
    {
     "name": "stdout",
     "output_type": "stream",
     "text": [
      "[[ 1  1 -1 -1  1]\n",
      " [-1  1  1 -1 -1]]\n"
     ]
    },
    {
     "data": {
      "image/png": "[encoded data removed]",
      "text/plain": [
       "<Figure size 432x288 with 1 Axes>"
      ]
     },
     "metadata": {
      "needs_background": "light"
     },
     "output_type": "display_data"
    }
   ],
   "source": [
    "\"\"\"\n",
    "Notez que le carré ci-dessus contient 5 sommets ... \n",
    "Le premier est répété afin de \"fermer\" la figure \n",
    "Essayez de supprimer ce dernier point pour observer la différence\n",
    "\"\"\"\n",
    "\n",
    "K = np.array([[1,1,-1,-1,1],[-1,1,1,-1,-1]]) # Le carré à representer\n",
    "print (K)\n",
    "\n",
    "# Premier argument : les abscisses, Second argument : les ordonnées\n",
    "plt.plot(K[0,:],K[1,:])\n",
    "plt.axis('scaled')\n",
    "plt.axis([-2,2,-2,2]) # Limites de la figures xmin,xmax,ymin,ymax\n",
    "\n",
    "plt.show() # C'est un carré qui n'a pas l'air de l'être ..."
   ]
  },
  {
   "cell_type": "markdown",
   "metadata": {},
   "source": [
    "## Différentes formes et différentes représentations\n",
    "\n",
    "Dans la suite des manipulations à faire, vous aurez besoin des figures suivantes :\n",
    "\n",
    "+ Un triangle isocèle rectangle `IR`\n",
    "+ Un triangle équilatéral `Tri`\n",
    "+ Un cercle `C`\n",
    "+ Un parallèlogramme `Para`\n",
    "\n",
    "Ces variables/figures sont définies dans la cellule ci-dessous.\n",
    "\n",
    "+ Affichez successivement ces $4$ figures.\n",
    "+ Pour le cercle, changez la valeur de $n$ en utilisant : $50, 20, 10, 8, 5$.\n",
    "+ Décommentez la ligne `print(t)` et observez le contenu de `t` pour chacune des valeurs de $n$ ci-dessus.\n",
    "+ Remplacez la commande `plot` par la commande `fill` et observez\n",
    "+ Représentez toutes les figures données sur un même graphique\n",
    "\n",
    "**Remarques : **\n",
    "\n",
    "+ L'instruction `np.linspace(a,b,n)` retourne un tableau de $n$ valeurs équitablement réparties dans l'intervalle $\\lbrack a,b\\rbrack$. La première valeur est toujours $a$, la dernière est toujours $b$.\n",
    "+ Pour representer plusieurs figures sur un même graphique, il suffit de faire plusieurs `plot` avant le `show`\n"
   ]
  },
  {
   "cell_type": "code",
   "execution_count": 4,
   "metadata": {
    "scrolled": true
   },
   "outputs": [
    {
     "data": {
      "image/png": "[encoded data removed]",
      "text/plain": [
       "<Figure size 432x288 with 1 Axes>"
      ]
     },
     "metadata": {
      "needs_background": "light"
     },
     "output_type": "display_data"
    }
   ],
   "source": [
    "IR = np.array([[1,0,0,1],[0,1,0,0]])\n",
    "Tri = np.array([ [1,-1/2,-1/2,1],[0,np.sqrt(3)/2,-np.sqrt(3)/2,0] ])\n",
    "\n",
    "# Construction du cercle\n",
    "n = 100\n",
    "t = np.linspace(0,2*math.pi,n)\n",
    "#print(t)\n",
    "C = np.array([np.cos(t),np.sin(t)])\n",
    "\n",
    "Para = np.array([[0,2,3,1,0],[0,0,1,1,0]])\n",
    "\n",
    "\n",
    "#plt.plot(IR[0,:],IR[1,:])\n",
    "#plt.axis('scaled')\n",
    "#plt.show()\n",
    "\n",
    "\n",
    "#plt.plot(Tri[0,:],Tri[1,:])\n",
    "#plt.axis('scaled')\n",
    "#plt.show()\n",
    "\n",
    "\n",
    "plt.plot(C[0,:], C[1,:])\n",
    "plt.plot(IR[0,:],IR[1,:])\n",
    "plt.plot(Tri[0,:],Tri[1,:])\n",
    "plt.plot(Para[0,:],Para[1,:])\n",
    "plt.axis('scaled')\n",
    "plt.show()\n",
    "\n",
    "\n",
    "#plt.plot(Para[0,:],Para[1,:])\n",
    "#plt.axis('scaled')\n",
    "#plt.show()"
   ]
  },
  {
   "cell_type": "markdown",
   "metadata": {},
   "source": [
    "## Rotations et Hométhéties\n",
    "\n",
    "+ Ecrivez une fonction `R(theta)` qui retourne la **matrice** de rotation du plan d'angle `theta` de centre $(0,0)$.\n",
    "+ Ecrivez une fonction `H(k)` qui retourne la **matrice** d'homothétie du plan de rapport `k` de centre $(0,0)$.\n",
    "\n",
    "**Indication : l'usage de vos fonctions doit être le suivant : `newK = H(2) @ K`.\n",
    "Alors la variable `newK` contient l'image du carré `K` par l'homothétie de centre $(0,0)$ et de rapport $2$.**\n",
    "\n",
    "Réalisez la figure ci-dessous pour tester vos fonctions :\n",
    "\n",
    "<img src=\"carres.png\" />"
   ]
  },
  {
   "cell_type": "code",
   "execution_count": 5,
   "metadata": {},
   "outputs": [
    {
     "data": {
      "image/png": "[encoded data removed]",
      "text/plain": [
       "<Figure size 432x288 with 1 Axes>"
      ]
     },
     "metadata": {
      "needs_background": "light"
     },
     "output_type": "display_data"
    }
   ],
   "source": [
    "def R(theta):\n",
    "    rotation = np.array([[math.cos(theta), -math.sin(theta)],[math.sin(theta), math.cos(theta)]])\n",
    "    return rotation \n",
    "\n",
    "def H(k):\n",
    "    homothetie = np.array ([[k, 0],[0, k]])\n",
    "    return homothetie\n",
    "\n",
    "newK = R(math.pi/4) @ K\n",
    "homothetie = H(3) @ K\n",
    "\n",
    "\n",
    "plt.plot(K[0,:],K[1,:])\n",
    "plt.plot(newK[0,:],newK[1,:])\n",
    "plt.plot(homothetie[0,:],homothetie[1,:])\n",
    "plt.axis('scaled')\n",
    "plt.axis([-3.5,3.5,-3.5,3.5])\n",
    "plt.show()"
   ]
  },
  {
   "cell_type": "markdown",
   "metadata": {},
   "source": [
    "## Translations\n",
    "\n",
    "+ Ecrivez une fonction `T(u, F)` qui retourne le translaté de la figure `F` par la translation de vecteur `u`. \n",
    "Le vecteur `u` doit être un `np.array` de deux lignes et une colonne. \n",
    "\n",
    "**Notez que le fonctionnement est différent des fonctions précédentes. \n",
    "L'usage sera `newC = T(U, C)` et après cette instruction la variable `newC` contient l'image de `C` par la translation de vecteur `U`.**\n",
    "\n",
    "Réalisez la figure ci-dessous pour tester votre fonction :\n",
    "\n",
    "<img src=\"cercles.png\" />\n",
    "\n",
    "**Indication : ** La fonction `np.ones` peut vous simplifier la tâche."
   ]
  },
  {
   "cell_type": "code",
   "execution_count": 6,
   "metadata": {},
   "outputs": [
    {
     "data": {
      "image/png": "[encoded data removed]",
      "text/plain": [
       "<Figure size 432x288 with 1 Axes>"
      ]
     },
     "metadata": {
      "needs_background": "light"
     },
     "output_type": "display_data"
    }
   ],
   "source": [
    "def T(u, F):\n",
    "    Fprim = F + u\n",
    "    return Fprim\n",
    "\n",
    "newC = T(np.array([[1],[3]]),C)\n",
    "\n",
    "plt.plot(C[0,:],C[1,:])\n",
    "plt.plot(newC[0,:],newC[1,:])\n",
    "plt.axis('scaled')\n",
    "plt.axis([-1.5,2.5,-1.5,4.5])\n",
    "plt.show()"
   ]
  },
  {
   "cell_type": "markdown",
   "metadata": {},
   "source": [
    "## Projections et Symétries\n",
    "\n",
    "**Attention, cette partie est plus difficile. Pour réussir, il me parrait indispensable de réaliser des calculs \"papier-crayon\" avant de chercher à coder. Utilisez les exemples de cours et TD pour vous aider**\n",
    "\n",
    "+ Ecrivez une fonction `Pr(a)` qui retour la **matrice** de la projection orthogonale sur la droite d'équation $y = ax$.\n",
    "+ Ecrivez une fonction `S(a)` qui retour la **matrice** de la symétrie orthogonale par rapport à droite d'équation $y = ax$.\n",
    "\n",
    "**Indications : **\n",
    "\n",
    "+ L'usage de vos fonctions doit être le suivant : `newK = S(2) @ K`.\n",
    "Alors la variable `newK` contient l'image du carré `K` par la symétrie d'axe d'équation $y = 2x$.\n",
    "Le fonctionnement est le même que pour les rotations et homothéties.\n",
    "+ Pour la symétrie, utilisez la projection.\n",
    "+ Testez vos fonctions avec les exemples du cours et du TD\n",
    "+ Vérifiez que les projections satisfont $P^2 = P$ et les symétries $S^2 = I$."
   ]
  },
  {
   "cell_type": "code",
   "execution_count": 8,
   "metadata": {},
   "outputs": [
    {
     "data": {
      "image/png": "[encoded data removed]",
      "text/plain": [
       "<Figure size 432x288 with 1 Axes>"
      ]
     },
     "metadata": {
      "needs_background": "light"
     },
     "output_type": "display_data"
    },
    {
     "name": "stdout",
     "output_type": "stream",
     "text": [
      "[[0.02 0.14]\n",
      " [0.14 0.98]]\n",
      "[[ 0.96 -0.28]\n",
      " [-0.28 -0.96]]\n"
     ]
    }
   ],
   "source": [
    "def Pr(a):\n",
    "    projection = np.array ([[1.0/(a**2 + 1.0), a/(a**2 + 1.0)],[a/(a**2 + 1.0), a**2/(a**2 + 1.0)]])\n",
    "    return projection \n",
    "\n",
    "def S(a):\n",
    "    P = Pr(a)\n",
    "    symetrie = 2*P - np.array([[1, 0], [0, 1]])\n",
    "    return symetrie\n",
    "\n",
    "K = np.array([[0,2,2,0,0],[0,0,2,2,0]])\n",
    "newK = Pr(3) @ K\n",
    "symK = S(3) @ K\n",
    "\n",
    "\n",
    "plt.plot(K[0,:],K[1,:])\n",
    "plt.plot(newK[0,:],newK[1,:])\n",
    "plt.plot(symK[0,:],symK[1,:])\n",
    "plt.axis('scaled')\n",
    "plt.axis([-1.5,2.5,-1.5,4.5])\n",
    "plt.show()\n",
    "\n",
    "\n",
    "print (Pr(7))\n",
    "print (S(-1/7))"
   ]
  },
  {
   "cell_type": "markdown",
   "metadata": {},
   "source": [
    "Sur Moodle :\n",
    "\n",
    "+ les fonctions `R(theta)` et `H(k)`\n",
    "+ la fonction `T(u, F)`\n",
    "+ les fonctions `Pr(a)` et `S(a)`\n",
    "\n",
    "Au prochain TP, ces matrices de transformations seront utilisées sur des exemples.\n",
    "\n",
    "# FIN !"
   ]
  }
 ],
 "metadata": {
  "kernelspec": {
   "display_name": "Python 3",
   "language": "python",
   "name": "python3"
  },
  "language_info": {
   "codemirror_mode": {
    "name": "ipython",
    "version": 3
   },
   "file_extension": ".py",
   "mimetype": "text/x-python",
   "name": "python",
   "nbconvert_exporter": "python",
   "pygments_lexer": "ipython3",
   "version": "3.7.6"
  }
 },
 "nbformat": 4,
 "nbformat_minor": 2
}
