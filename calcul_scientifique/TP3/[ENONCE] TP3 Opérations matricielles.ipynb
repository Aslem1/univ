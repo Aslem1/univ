{
 "cells": [
  {
   "cell_type": "markdown",
   "metadata": {},
   "source": [
    "# Matrices\n",
    "\n",
    "**ATTENTION :**\n",
    "\n",
    "+ **Les interfaces de vos fonctions doivent être strictement identiques, casse incluse, à celles de l'énoncé.**\n",
    "+ **Certains éléments de ce TP seront à rendre sur Moodle.**\n",
    "+ **Si l'interface n'est pas respectée, votre fonction échouera aux tests.**\n",
    "+ **Dans le test Moodle, vous ne devez déposer que votre fonction (les imports seront faits, surtout pas de print, ni de test)**"
   ]
  },
  {
   "cell_type": "code",
   "execution_count": 1,
   "metadata": {},
   "outputs": [],
   "source": [
    "import numpy as np"
   ]
  },
  {
   "cell_type": "markdown",
   "metadata": {},
   "source": [
    "## Vocabulaire sur les matrices\n",
    "\n",
    "Codez les fonctions de test suivantes :\n",
    "\n",
    "+ `estCarree(A)` qui retourne `True` si et seulement si la matrice (`np.array`) $A$ est carrée.\n",
    "+ `estTriangulaireSuperieure(A)` qui retourne `True` si et seulement si la matrice $A$ est triangulaire supérieure.\n",
    "+ `estSymetrique(A)` qui retourne `True` si et seulement si la matrice $A$ est symétrique.\n",
    "\n",
    "Indications :\n",
    "\n",
    "+ Si $A$ est une matrice, alors `np.shape(A)` ou `A.shape` retourne les dimensions de cette matrice.\n",
    "+ Réfléchissez avant de coder : `while` ou `for` ?\n",
    "+ Une matrice ne peut être symétrique que si elle est déjà carrée."
   ]
  },
  {
   "cell_type": "code",
   "execution_count": 36,
   "metadata": {},
   "outputs": [
    {
     "name": "stdout",
     "output_type": "stream",
     "text": [
      "False\n"
     ]
    }
   ],
   "source": [
    "def estCarree(A): \n",
    "    nbLignes,nbColonnes = np.shape(A)\n",
    "    if nbLignes == nbColonnes:\n",
    "        return True \n",
    "    else:\n",
    "        return False \n",
    "#print (estCarree([[1,2,3],[4,5,6]]))\n",
    "\n",
    "\n",
    "def estTriangulaireSuperieure(A):\n",
    "    if estCarree(A):\n",
    "        nbLignes,nbColonnes = np.shape(A)\n",
    "        for numLignes in range(1,nbLignes):\n",
    "            for numColonnes in range (numLignes):\n",
    "                if A[numLignes, numColonnes] != 0:\n",
    "                    return False\n",
    "        return True\n",
    "    else:\n",
    "        return False\n",
    "                    \n",
    "\n",
    "        \n",
    "def estSymetrique(A):\n",
    "    if estCarree(A):\n",
    "        nbLignes,nbColonnes = np.shape(A)\n",
    "        for numLignes in range(1,nbLignes):\n",
    "            for numColonnes in range (numLignes):\n",
    "                if A[numLignes, numColonnes] != A[numColonnes, numLignes]:\n",
    "                    return False\n",
    "        return True\n",
    "    else:\n",
    "        return False\n",
    "        \n",
    "print (estSymetrique(np.array([[1,2,3],[2,1,8],[3,4,9]])))"
   ]
  },
  {
   "cell_type": "markdown",
   "metadata": {},
   "source": [
    "## Opérations sur les matrices\n",
    "\n",
    "L'objectif est de vous faire coder des fonctions dont le code parcours les coefficients des matrices. \n",
    "\n",
    "**Vous ne devez pas utiliser les fonctions de haut niveau fournies par numpy, sauf lorsque cela sera explicitement demandé.**\n",
    "\n",
    "### Egalité\n",
    "\n",
    "+ Ecrivez une fonction `egales(A,B)` qui teste l'égalité des deux matrices.\n",
    "+ Codez une nouvelle fonction `estSymetriqueV2(A)` qui utilise la commande `np.transpose` ainsi que votre fonction d'égalité."
   ]
  },
  {
   "cell_type": "code",
   "execution_count": 39,
   "metadata": {},
   "outputs": [
    {
     "name": "stdout",
     "output_type": "stream",
     "text": [
      "False\n"
     ]
    }
   ],
   "source": [
    "def egales(A,B):\n",
    "    if np.shape(A) == np.shape(B):\n",
    "        nbLignes,nbColonnes = np.shape(A)\n",
    "        for numLignes in range(nbLignes):\n",
    "            for numColonnes in range (nbColonnes):\n",
    "                if A[numLignes, numColonnes] != B[numLignes, numColonnes]:\n",
    "                    return False\n",
    "        return True\n",
    "    return False\n",
    "\n",
    "def estSymetriqueV2(A):\n",
    "    #demain\n",
    "    return None\n",
    "\n",
    "print(egales(np.array([[1,2,3],[2,1,8],[3,4,9]]), np.array([[1,2,3],[2,1,4],[3,4,9]])))"
   ]
  },
  {
   "cell_type": "markdown",
   "metadata": {},
   "source": [
    "### Addition\n",
    "\n",
    "Codez une fonction `addition(A,B)` qui retourne la somme des deux matrices lorsque cela est possible, `None` sinon.\n",
    "\n",
    "Indication :\n",
    "\n",
    "+ Réfléchissez avant de coder : quand peut-on ajouter deux matrices ?\n",
    "+ Réfléchissez avant de coder (bis) : `while` ou `for` ?"
   ]
  },
  {
   "cell_type": "code",
   "execution_count": 46,
   "metadata": {},
   "outputs": [
    {
     "name": "stdout",
     "output_type": "stream",
     "text": [
      "None\n"
     ]
    }
   ],
   "source": [
    "def addition(A,B):\n",
    "    if np.shape(A) == np.shape(B):\n",
    "        nbLignes,nbColonnes = np.shape(A)\n",
    "        C = np.zeros(shape=(nbLignes,nbColonnes))\n",
    "        for numLignes in range(nbLignes):\n",
    "            for numColonnes in range (nbColonnes):\n",
    "                C[numLignes, numColonnes] = A[numLignes, numColonnes] + B[numLignes, numColonnes]\n",
    "        return C\n",
    "    return None\n",
    "\n",
    "print(addition(np.array([[1,2],[2,1]]), np.array([[2,1],[1,2],[3,3]])))"
   ]
  },
  {
   "cell_type": "markdown",
   "metadata": {},
   "source": [
    "Les fonctions à déposer sur Moodle sont :\n",
    "\n",
    "+ `estCarree(A)`\n",
    "+ `estTriangulaireSuperieure(A)`\n",
    "+ `estSymetrique(A)`\n",
    "+ `egales(A,B)`\n",
    "+ `addition(A,B)`\n",
    "\n",
    "# FIN !"
   ]
  }
 ],
 "metadata": {
  "kernelspec": {
   "display_name": "Python 3",
   "language": "python",
   "name": "python3"
  },
  "language_info": {
   "codemirror_mode": {
    "name": "ipython",
    "version": 3
   },
   "file_extension": ".py",
   "mimetype": "text/x-python",
   "name": "python",
   "nbconvert_exporter": "python",
   "pygments_lexer": "ipython3",
   "version": "3.7.6"
  }
 },
 "nbformat": 4,
 "nbformat_minor": 2
}
