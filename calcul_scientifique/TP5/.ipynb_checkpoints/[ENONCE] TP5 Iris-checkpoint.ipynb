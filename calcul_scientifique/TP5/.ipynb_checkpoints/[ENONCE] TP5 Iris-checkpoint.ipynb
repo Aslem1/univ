{
 "cells": [
  {
   "cell_type": "markdown",
   "metadata": {},
   "source": [
    "# Initiation à l'analyse de données\n",
    "\n",
    "## Introduction\n",
    "\n",
    "### Contexte\n",
    "\n",
    "+ Dans ce TP, vous allez travailler sur le jeu de données \"Iris\".\n",
    "+ Ce jeu de données, présent dans le fichier \"Iris.csv\", contient des informations sur $150$ Iris, de $3$ variétés. \n",
    "+ Pour chque iris, la longeur et la largeur des sépales et des pétales ont été relévées, soit $4$ attributs. \n",
    "\n",
    "**Remarque :** Le jeu de données \"Iris\" est extrêmement classique, vous pouvez aller chercher sur Internet différentes études faites à son sujet. Les algorithmes utilisés sont nombreux, très divers et intéressants.\n",
    "\n",
    "### Objectifs\n",
    "\n",
    "+ Ré-investir les calculs vectoriels/matriciels sur un jeu de données concret.\n",
    "+ Produire une nouvelle visualisation avec `matplotlib`.\n",
    "+ Découvrir le module `pandas` dédié à l'analyse de données.\n",
    "\n",
    "**Remarque :** Le manuel de `pandas` accompagne ce TP. Le fichier fait plus de $3000$ pages, mais pas de panique. Pour faire les manipulations, vous serez invités à consulter ce manuel avec des renvois à des pages précises. Le manuel est donc indispensable.\n",
    "\n",
    "### Attendus\n",
    "\n",
    "+ La plupart des manipulations sont accompagnées de petites questions sur Moodle. \n",
    "+ Ouvrez le test Moodle correspondant à ce TP pour répondre à ces questions au fur et à mesure. \n",
    "+ Le test est configuré sans temps limite, avec $2$ tentatives."
   ]
  },
  {
   "cell_type": "markdown",
   "metadata": {},
   "source": [
    "\n",
    "\n",
    "3. Les données des variétés \"setosa\" et \"virginica\" sont extraites. (2pts)\n",
    "\n",
    "3. La commande \"matplotlib.pyplot.scatter\" est correctement utilisée pour produire une visualisation de la largeur des sépales en fonction de la longueur des sépales, pour les deux variétés \"setosa\" et \"virginica\" (une couleur par variété). (3pts)\n",
    "\n",
    "4. Sur le jeu de données entier, la distance du cosinus entre la longueur des pétales et la largeur des pétales est calculée.\n",
    "\n",
    "5. Toujours sur le jeu de données entier, la matrice des coefficients de corrélation est calculée."
   ]
  },
  {
   "cell_type": "code",
   "execution_count": 68,
   "metadata": {},
   "outputs": [],
   "source": [
    "import numpy as np # Importation de numpy\n",
    "# Les productions de matplotlib se feront directement dans le notebook\n",
    "%matplotlib inline\n",
    "# Importation de matplotlib pour les visualisations\n",
    "import matplotlib.pyplot as plt\n",
    "import pandas as pd # Importation de pandas, module d'analyse de données\n",
    "from math import sqrt"
   ]
  },
  {
   "cell_type": "markdown",
   "metadata": {},
   "source": [
    "## Première manipulations\n",
    "\n",
    "### Importation et calculs élémentaires\n",
    "\n",
    "+ Importez le jeu de données avec `read_csv` (p38 du manuel)\n",
    "+ Consultez les premières et les dernières lignes du jeu de données avec `head` et `tail` (p43 du manuel)\n",
    "+ Consultez les statistiques de base sur le jeu données avec `describe` (p58 du manuel)"
   ]
  },
  {
   "cell_type": "code",
   "execution_count": 69,
   "metadata": {},
   "outputs": [
    {
     "name": "stdout",
     "output_type": "stream",
     "text": [
      "   Id  SepalLengthCm  SepalWidthCm  PetalLengthCm  PetalWidthCm      Species\n",
      "0   1            5.1           3.5            1.4           0.2  Iris-setosa\n",
      "1   2            4.9           3.0            1.4           0.2  Iris-setosa\n",
      "2   3            4.7           3.2            1.3           0.2  Iris-setosa\n",
      "3   4            4.6           3.1            1.5           0.2  Iris-setosa\n",
      "4   5            5.0           3.6            1.4           0.2  Iris-setosa\n",
      "      Id  SepalLengthCm  SepalWidthCm  PetalLengthCm  PetalWidthCm  \\\n",
      "145  146            6.7           3.0            5.2           2.3   \n",
      "146  147            6.3           2.5            5.0           1.9   \n",
      "147  148            6.5           3.0            5.2           2.0   \n",
      "148  149            6.2           3.4            5.4           2.3   \n",
      "149  150            5.9           3.0            5.1           1.8   \n",
      "\n",
      "            Species  \n",
      "145  Iris-virginica  \n",
      "146  Iris-virginica  \n",
      "147  Iris-virginica  \n",
      "148  Iris-virginica  \n",
      "149  Iris-virginica  \n",
      "               Id  SepalLengthCm  SepalWidthCm  PetalLengthCm  PetalWidthCm\n",
      "count  150.000000     150.000000    150.000000     150.000000    150.000000\n",
      "mean    75.500000       5.843333      3.054000       3.758667      1.198667\n",
      "std     43.445368       0.828066      0.433594       1.764420      0.763161\n",
      "min      1.000000       4.300000      2.000000       1.000000      0.100000\n",
      "25%     38.250000       5.100000      2.800000       1.600000      0.300000\n",
      "50%     75.500000       5.800000      3.000000       4.350000      1.300000\n",
      "75%    112.750000       6.400000      3.300000       5.100000      1.800000\n",
      "max    150.000000       7.900000      4.400000       6.900000      2.500000\n"
     ]
    }
   ],
   "source": [
    "# Insérez votre code ici\n",
    "pd.read_csv('Iris.csv')\n",
    "long_series = pd.read_csv('Iris.csv')\n",
    "print (long_series.head())\n",
    "print (long_series.tail())\n",
    "print (long_series.describe())"
   ]
  },
  {
   "cell_type": "markdown",
   "metadata": {},
   "source": [
    "### Extraction de données\n",
    "\n",
    "+ Créez un nouveau `DataFrame` contenant uniquement les iris de la variété `Iris-setosa` (p23 du manuel)"
   ]
  },
  {
   "cell_type": "code",
   "execution_count": 70,
   "metadata": {},
   "outputs": [
    {
     "name": "stdout",
     "output_type": "stream",
     "text": [
      "             Id  SepalLengthCm  SepalWidthCm  PetalLengthCm  PetalWidthCm\n",
      "count  50.00000       50.00000     50.000000      50.000000      50.00000\n",
      "mean   25.50000        5.00600      3.418000       1.464000       0.24400\n",
      "std    14.57738        0.35249      0.381024       0.173511       0.10721\n",
      "min     1.00000        4.30000      2.300000       1.000000       0.10000\n",
      "25%    13.25000        4.80000      3.125000       1.400000       0.20000\n",
      "50%    25.50000        5.00000      3.400000       1.500000       0.20000\n",
      "75%    37.75000        5.20000      3.675000       1.575000       0.30000\n",
      "max    50.00000        5.80000      4.400000       1.900000       0.60000\n"
     ]
    }
   ],
   "source": [
    "# Insérez votre code ici\n",
    "print (long_series [long_series.Species == \"Iris-setosa\"].describe())"
   ]
  },
  {
   "cell_type": "markdown",
   "metadata": {},
   "source": [
    "## Visualisation\n",
    "\n",
    "+ Comme pour la variété `Iris-setosa`, extrayez un nouveau `DataFrame` avec les iris de la variété `Iris-virigica`.\n",
    "\n",
    "**Instructions pour le graphique :**\n",
    "\n",
    "+ Utilisez fonction `scatter` pour faire un diagramme de dispersion (scatter en anglais), c'est à dire un nuage de points.\n",
    "+ En abscisses, vous placerez la longueur des sépales, en ordonnées la largeur des sépales.\n",
    "+ Sur un seul graphique, vous représenterez de deux couleurs différentes, les iris de la variété `Iris-setosa` et celle de la variété `Iris-virginica`\n",
    "+ Vous pourrez utliser l'attribut `values` ou `array` ou la méthode `to_numpy()` (p43-45 du manuel)\n",
    "\n",
    "**Remarque :** L'aide relative à la fonction `scatter` est disponible à l'adresse : https://matplotlib.org/3.2.1/api/_as_gen/matplotlib.pyplot.scatter.html\n"
   ]
  },
  {
   "cell_type": "code",
   "execution_count": 71,
   "metadata": {},
   "outputs": [
    {
     "name": "stdout",
     "output_type": "stream",
     "text": [
      "             Id  SepalLengthCm  SepalWidthCm  PetalLengthCm  PetalWidthCm\n",
      "count  50.00000       50.00000     50.000000      50.000000      50.00000\n",
      "mean   25.50000        5.00600      3.418000       1.464000       0.24400\n",
      "std    14.57738        0.35249      0.381024       0.173511       0.10721\n",
      "min     1.00000        4.30000      2.300000       1.000000       0.10000\n",
      "25%    13.25000        4.80000      3.125000       1.400000       0.20000\n",
      "50%    25.50000        5.00000      3.400000       1.500000       0.20000\n",
      "75%    37.75000        5.20000      3.675000       1.575000       0.30000\n",
      "max    50.00000        5.80000      4.400000       1.900000       0.60000\n",
      "              Id  SepalLengthCm  SepalWidthCm  PetalLengthCm  PetalWidthCm\n",
      "count   50.00000       50.00000     50.000000      50.000000      50.00000\n",
      "mean   125.50000        6.58800      2.974000       5.552000       2.02600\n",
      "std     14.57738        0.63588      0.322497       0.551895       0.27465\n",
      "min    101.00000        4.90000      2.200000       4.500000       1.40000\n",
      "25%    113.25000        6.22500      2.800000       5.100000       1.80000\n",
      "50%    125.50000        6.50000      3.000000       5.550000       2.00000\n",
      "75%    137.75000        6.90000      3.175000       5.875000       2.30000\n",
      "max    150.00000        7.90000      3.800000       6.900000       2.50000\n"
     ]
    },
    {
     "data": {
      "image/png": "[encoded data removed]",
      "text/plain": [
       "<Figure size 432x288 with 1 Axes>"
      ]
     },
     "metadata": {},
     "output_type": "display_data"
    }
   ],
   "source": [
    "# Insérez votre code ici\n",
    "setosa = long_series [long_series.Species == \"Iris-setosa\"]\n",
    "virginica = long_series [long_series.Species == \"Iris-virginica\"]\n",
    "\n",
    "print (setosa.describe())\n",
    "print (virginica.describe())\n",
    "plt.style.use('seaborn-whitegrid')\n",
    "plt.plot(setosa.SepalLengthCm, setosa.SepalWidthCm, 'o', color='red');\n",
    "\n",
    "plt.plot(virginica.SepalLengthCm, virginica.SepalWidthCm, 'o', color='blue');\n",
    "plt.legend (['setosa', 'virginica'])\n",
    "\n",
    "plt.xlabel(\"SepalLengthCm\")\n",
    "plt.ylabel(\"SepalWidthCm\");"
   ]
  },
  {
   "cell_type": "markdown",
   "metadata": {},
   "source": [
    "## Calculs : matrice de corrélations\n",
    "\n",
    "+ Cette partie est plus proche des calculs matriciels effectués au début de cours.\n",
    "+ Vous aurez besoin de `numpy`\n",
    "\n",
    "### Coefficient de corrélation\n",
    "\n",
    "+ Le jeu de données est constitué de $4$ attributs qui nous donnent $4$ vecteurs.\n",
    "+ Etant donné un vecteur $X$, on note $\\overline{X}$ la moyenne de ses $n$ composantes (`np.mean()`)\n",
    "+ La variance de $X$ est donnée par la formule :\n",
    "$$\\hbox{Var}(X) = \\frac{1}{n}\\sum_{i = 1}^{i = n} (X_i - \\overline{X})^2$$\n",
    "C'est la moyenne des écart à la moyenne au carré. L'écart-type est une mesure de dispersion qui explique si le jeu de données (les composantes du vecteur) s'éparpille loin ou non de sa valeur moyenne.  \n",
    "\n",
    "+ Enfin, l'écart est donné $\\sigma(X) = \\sqrt{\\hbox{Var}(X)}$.\n",
    "+ Etant donnés deux vecteurs $X$, $Y$ de même dimensions $n$, le coefficient de corrélation est donné par la formule :\n",
    "$$ \\hbox{Corr}(X,Y) = \\frac{\\displaystyle\\frac{1}{n}\\sum_{i = 1}^{i = n}(X_i - \\overline{X})(Y_i - \\overline{Y})}{\\sigma(X)\\sigma(Y)} $$\n",
    "Le coefficient de corrélation mesure la variabilité commune des deux vecteurs : si lorsque $X$ augmente, $Y$ augmente alors le coefficient est proche de $1$; si lorsque $X$ augmente, $Y$ diminue alors le coefficient est proche de $-1$; si les variations de $X$ et de $Y$ n'ont pas de rapport entre elles, alors le coefficient est proche de $0$.\n",
    "\n",
    "### Matrice de corrélations\n",
    "\n",
    "+ Lorsque l'on traite plusieurs vecteurs (plus de deux), on calcule une matrice de corrélations, qui contient toutes les corrélations de vecteurs $2$ à $2$.\n",
    "+ Avec les formules précédentes, calculez la matrice de corrélations pour le jeu de données `iris`, c'est à dire la matrice $4 \\times 4$ suivante :\n",
    "\n",
    "$$\\left(\\begin{matrix}\n",
    "\\hbox{Corr}(SepalLength,SepalLength) & \\hbox{Corr}(SepalLength,SepalWidth) & \\hbox{Corr}(SepalLength,PetalLength) & \\ldots \\\\ \n",
    "\\hbox{Corr}(SepalWidth,SepalLength) & \\hbox{Corr}(SepalWidth,SepalWidth) & \\hbox{Corr}(SepalWidth,PetalLength) & \\ldots \\\\ \n",
    "\\ldots & \\ldots & \\ldots & \\ldots \\\\\n",
    "\\ldots & \\ldots & \\ldots & \\ldots \\\\\n",
    "\\end{matrix}\\right)$$\n",
    "\n",
    "**Les fonctions suivantes peuvent être utiles : ** `np.shape()`, `np.ones()`, `np.mean()`"
   ]
  },
  {
   "cell_type": "code",
   "execution_count": 79,
   "metadata": {},
   "outputs": [
    {
     "data": {
      "text/plain": [
       "0.26387409291868696"
      ]
     },
     "execution_count": 79,
     "metadata": {},
     "output_type": "execute_result"
    }
   ],
   "source": [
    "# Insérez votre code ici\n",
    "def var (x):\n",
    "    moyx = np.mean(x)\n",
    "    somme = 0\n",
    "    for i in range (np.size(x)):\n",
    "        somme += (x[i] - moyx)**2\n",
    "    somme = somme/np.size(x)\n",
    "    return somme\n",
    "\n",
    "def Corr (x,y):\n",
    "    if np.size(x) == np.size(y):\n",
    "        moyx = np.mean(x)\n",
    "        moyy = np.mean(y)\n",
    "        somme = 0\n",
    "        for i in range (np.size(x)):\n",
    "            somme += (x[i] - moyx) * (y[i] - moyy)\n",
    "        somme = somme/np.size(x)\n",
    "        somme = somme/(sqrt(var(x))*sqrt(var(y)))\n",
    "        return somme\n",
    "    else:\n",
    "        return None\n",
    "Corr (setosa.SepalWidthCm, setosa.PetalLengthCm)"
   ]
  },
  {
   "cell_type": "markdown",
   "metadata": {},
   "source": [
    "### Fonction \"sur l'étagère\"\n",
    "\n",
    "+ Utilisez la méthode `corr` disponible pour les `DataFrame` pour vérifier vos calculs (p627-628 du manuel)"
   ]
  },
  {
   "cell_type": "code",
   "execution_count": 5,
   "metadata": {},
   "outputs": [],
   "source": [
    "# Insérez votre code ici"
   ]
  },
  {
   "cell_type": "markdown",
   "metadata": {},
   "source": [
    "+ N'oubliez pas de répondre aux questions du test\n",
    "+ N'oubliez pas de déposer votre graphique\n",
    "\n",
    "# Fin !"
   ]
  }
 ],
 "metadata": {
  "kernelspec": {
   "display_name": "Python 3",
   "language": "python",
   "name": "python3"
  },
  "language_info": {
   "codemirror_mode": {
    "name": "ipython",
    "version": 3
   },
   "file_extension": ".py",
   "mimetype": "text/x-python",
   "name": "python",
   "nbconvert_exporter": "python",
   "pygments_lexer": "ipython3",
   "version": "3.7.6"
  }
 },
 "nbformat": 4,
 "nbformat_minor": 2
}
