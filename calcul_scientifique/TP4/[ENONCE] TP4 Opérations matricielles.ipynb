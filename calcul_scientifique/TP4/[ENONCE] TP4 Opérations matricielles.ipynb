{
 "cells": [
  {
   "cell_type": "markdown",
   "metadata": {},
   "source": [
    "# Matrices\n",
    "\n",
    "**ATTENTION :**\n",
    "\n",
    "+ **Les interfaces de vos fonctions doivent être strictement identiques, casse incluse, à celles de l'énoncé.**\n",
    "+ **Certains éléments de ce TP seront à rendre sur Moodle.**\n",
    "+ **Si l'interface n'est pas respectée, votre fonction échouera aux tests.**\n",
    "+ **Dans le test Moodle, vous ne devez déposer que votre fonction (les imports seront faits, surtout pas de print, ni de test)**"
   ]
  },
  {
   "cell_type": "code",
   "execution_count": 1,
   "metadata": {},
   "outputs": [],
   "source": [
    "import numpy as np"
   ]
  },
  {
   "cell_type": "markdown",
   "metadata": {},
   "source": [
    "## Opérations sur les matrices\n",
    "\n",
    "L'objectif est de vous faire coder des fonctions dont le code parcours les coefficients des matrices. \n",
    "\n",
    "**Vous ne devez pas utiliser les fonctions de haut niveau fournie par numpy, sauf lorsque cela sera explicitement demandé.**"
   ]
  },
  {
   "cell_type": "markdown",
   "metadata": {},
   "source": [
    "### Produit\n",
    "\n",
    "**Question 1 :** N'utilisez pas l'instruction `A @ B`. Codez votre propre fonction `produit(A,B)`.\n",
    "\n",
    "Rappel, la formule vue en cours est :\n",
    "$$ c_{i,j} = \\sum_{k = 1}^n a_{i,k}b_{k,j} $$\n",
    "\n",
    "Indication : \n",
    "\n",
    "+ Réfléchissez avant de coder (ter) : voir **addition au TP3**\n",
    "+ Trois boucles `for` imbriquées.\n",
    "\n",
    "**Question 2 :** En utilisant, les instructions fournies ci-dessous, comparez les temps des calculs entre votre fonction et `A @ B`\n",
    "\n",
    "Indication :\n",
    "\n",
    "+ L'instruction `np.random.random((100,1000))` retourne une matrice $100 \\times 1000$ à coefficients aléatoires dans $\\lbrack 0, 1 \\rbrack$."
   ]
  },
  {
   "cell_type": "code",
   "execution_count": null,
   "metadata": {},
   "outputs": [],
   "source": [
    "# Codez la fonction produit\n",
    "def produit(A,B):\n",
    "    "
   ]
  },
  {
   "cell_type": "code",
   "execution_count": 7,
   "metadata": {},
   "outputs": [
    {
     "name": "stdout",
     "output_type": "stream",
     "text": [
      "1.6999999999933735e-05\n"
     ]
    }
   ],
   "source": [
    "import time as tps\n",
    "tps_depart = tps.clock() # Mesure du temps au départ\n",
    "\n",
    "# ICI : Calculs dont on veut mesurer le temps d'execution\n",
    "\n",
    "tps_arrivee = tps.clock() # Mesure du temps à l'arrivée\n",
    "tps_execution = tps_arrivee - tps_depart\n",
    "print(tps_execution)"
   ]
  },
  {
   "cell_type": "code",
   "execution_count": null,
   "metadata": {},
   "outputs": [],
   "source": [
    "# Comparez les temps de calcul"
   ]
  },
  {
   "cell_type": "markdown",
   "metadata": {},
   "source": [
    "### Matrice orthogonale\n",
    "\n",
    "Ecrivez une fonction `estOrthogonale(A)` qui retourne vrai si et seulement si la matrice $A$ est orthogonale.\n",
    "\n",
    "**Rappel :** Une matrice $A$ est orthogonale lorsqu'elle est carrée et que $~^tA\\;A = I_n$\n",
    "\n",
    "Indication : Vous pouvez, pour cette fonction, utiliser :\n",
    "\n",
    "+ le produit `A @ B`\n",
    "+ la transposée `np.transpose`\n",
    "+ la fonction `np.eye`\n",
    "+ et la fonction `np.allclose` dont vous chercherez l'aide."
   ]
  },
  {
   "cell_type": "code",
   "execution_count": null,
   "metadata": {},
   "outputs": [],
   "source": []
  },
  {
   "cell_type": "markdown",
   "metadata": {},
   "source": [
    "## Interlude : Graphiques"
   ]
  },
  {
   "cell_type": "code",
   "execution_count": 5,
   "metadata": {},
   "outputs": [
    {
     "data": {
      "image/png": "[encoded data removed]",
      "text/plain": [
       "<Figure size 432x288 with 1 Axes>"
      ]
     },
     "metadata": {},
     "output_type": "display_data"
    }
   ],
   "source": [
    "# La ligne suivante permet que les graphiques soient incorporés dans le notebook\n",
    "%matplotlib inline\n",
    "import matplotlib.pyplot as plt # Importation du module\n",
    "\n",
    "Temps = np.array([0,1,2,3,4]) # Données en abscisse\n",
    "PopulationA = np.array([50,20,70,110,90]) # Données en ordonnée\n",
    "PopulationB = np.array([100,30,160,40,200]) # Seconde courbe\n",
    "\n",
    "fig = plt.figure() # On prépare une variable qui permettra la sauvegarde dans un fichier\n",
    "plt.plot(Temps,PopulationA) # Construction de la première courbe\n",
    "plt.plot(Temps,PopulationB) # Construction de la seconde courbe\n",
    "\n",
    "plt.show() # Affichage du graphique\n",
    "fig.savefig(\"MonGraphique.jpg\") # Sauvegarde dans un fichier"
   ]
  },
  {
   "cell_type": "markdown",
   "metadata": {},
   "source": [
    "## Evolution de population\n",
    "\n",
    "### Contexte\n",
    "\n",
    "Dans cet exercice, on modélise à l'aide de matrices, les migrations de populations entre trois villes.\n",
    "\n",
    "Au départ, la ville $A$ possède $1000$ habitants, la ville $B$ en possède $500$ et la ville $C$ $2000$.\n",
    "\n",
    "La ville A est attractive, de sorte que $90\\%$ de ses habitants y restent d'une année sur l'autre, \n",
    "$9\\%$ partent vers la ville $B$ et $1\\%$ partent vers la ville $C$.\n",
    "\n",
    "La ville B est moins attractive mais fort agréable tout de même, de sorte que $75\\%$ de ses habitants \n",
    "y restent d'une année sur l'autre, $20\\%$ partent vers la ville $A$ et $5\\%$ partent vers la ville $C$.\n",
    "\n",
    "Enfin, la ville $C$ n'est franchement pas attractive, de sorte que seulement $55\\%$ de ses habitants y \n",
    "restent d'une année sur l'autre, $35\\%$ partent vers la ville $A$ et $10\\%$ partent vers la ville $B$.\n",
    "\n",
    "On souhaite déterminer quelle sera l'évolution de la population à long terme.\n",
    "\n",
    "Soit le matrice $M$ et le vecteur $V$ suivant :\n",
    "$$ M = \\left(\\begin{matrix}\n",
    "0.9 & 0.2 & 0.35 \\\\\n",
    "0.09 & 0.75 & 0.1 \\\\\n",
    "0.01 & 0.05 & 0.55 \\\\\n",
    "\\end{matrix}\\right)$$\n",
    "\n",
    "$$ V = \\left(\\begin{matrix} \n",
    "1000 \\\\\n",
    "500 \\\\\n",
    "2000\n",
    "\\end{matrix}\\right)$$\n",
    "\n",
    "### Analyse\n",
    "\n",
    "Questions auxquelles vous devez répondre \"pour vous\" afin de comprendre la suite :\n",
    "\n",
    "+ Que représente la matrice $V$ ?\n",
    "+ Que représente la matrice $M$ ?\n",
    "+ Que représente le produit $MV$ ? (Faites le calcul à la main en écrivant \"tous les détails\"; par exemple quel calcul avez-vous fait pour obtenir le premier coefficient en haut à gauche de $MV$ ? et quelle interprétation pouvez-vous faire de ce calcul ?)\n",
    "+ Et le produit $M^2V$ ?\n",
    "\n",
    "### Mise en oeuvre\n",
    "\n",
    "\n",
    "Il s'agit maintenant d'exploiter ce que vous venez de comprendre pour conjecturer l'évolution des populations à long terme :\n",
    "\n",
    "+ Calculez successivement $M^nV$, pour $n = 10$, $n = 100$, $n = 1000$.\n",
    "+ Déduisez-en une valeur approchée des populations vers lesquelles se stabilisent les trois villes. Il s'agit de faire une conjecture sur la limite, aucune démonstration n'est demandée. **A fournir sur Moodle**\n",
    "+ A l'aide des informations précédentes relatives à `matplotlib`, représentez sur un seul graphique les courbes d'évolution dans le temps, des populations des trois villes. Exportez ce graphique en `.jpg`\n",
    "\n",
    "Indications :\n",
    "\n",
    "+ Si vous ne connaissez pas la définition du mot conjecture, vous pouvez aller la chercher sur internet.\n",
    "+ Si $M$ est une matrice, `M[:,1]` représente sa colonne d'indice $1$ et `M[0,:]` représente sa ligne d'indice $0$\n",
    "+ Pour accoler deux matrices $A$ et $B$ l'une à côté de l'autre, utilisez l'instruction `np.concatenate((A,B),axis = 1)`"
   ]
  },
  {
   "cell_type": "code",
   "execution_count": null,
   "metadata": {},
   "outputs": [],
   "source": []
  },
  {
   "cell_type": "markdown",
   "metadata": {},
   "source": [
    "A déposer sur Moodle :\n",
    "\n",
    "+ `produit(A,B)`\n",
    "+ `estOrthogonale(A)`\n",
    "+ Le résultat de la conjecture sur les populations\n",
    "+ Le graphique en `.jpg`\n",
    "\n",
    "# FIN !"
   ]
  }
 ],
 "metadata": {
  "kernelspec": {
   "display_name": "Python 3",
   "language": "python",
   "name": "python3"
  },
  "language_info": {
   "codemirror_mode": {
    "name": "ipython",
    "version": 3
   },
   "file_extension": ".py",
   "mimetype": "text/x-python",
   "name": "python",
   "nbconvert_exporter": "python",
   "pygments_lexer": "ipython3",
   "version": "3.7.6"
  }
 },
 "nbformat": 4,
 "nbformat_minor": 2
}
