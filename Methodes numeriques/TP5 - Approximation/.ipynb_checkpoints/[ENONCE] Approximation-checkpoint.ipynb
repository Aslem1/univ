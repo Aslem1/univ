{
 "cells": [
  {
   "cell_type": "markdown",
   "metadata": {},
   "source": [
    "<p style=\"text-align:center; font-size:300%; line-height:300%; font-weight:bold; background-color:#2F52A3; color:white\">Approximation</p>"
   ]
  },
  {
   "cell_type": "markdown",
   "metadata": {},
   "source": [
    "<div style=\"font-weight:bold; background-color:#61C3CE\">\n",
    "    Evaluation :\n",
    "    <ul>\n",
    "        <li>Calculer à la main un développement limité</li>\n",
    "        <li>Résoudre un problème de moindres carrés</li>\n",
    "    </ul>\n",
    "</div>"
   ]
  },
  {
   "cell_type": "markdown",
   "metadata": {},
   "source": [
    "**Recommandations :**\n",
    "\n",
    "+ Respectez rigoureusement l'interface des fonctions, et les consignes.\n",
    "+ Copiez-collez le code de votre fonction (ne contenant aucun print ou autre effet de bord)\n",
    "+ Utilisez les alias définis ci-dessous.\n",
    "+ Même si vous travaillez à plusieurs, faites un dépôt par personne.\n",
    "+ Il n'y aura aucune \"démo\" dans les cinq dernières minutes. Ce travail et les tests Moodle seront pris en compte dans la note finale."
   ]
  },
  {
   "cell_type": "markdown",
   "metadata": {},
   "source": [
    "**Objectifs :**\n",
    "\n",
    "+ Approximer localement une fonction à l'aide d'un développement limité\n",
    "+ Utiliser la méthode des moindres carrés et mesurer sa pertinence\n"
   ]
  },
  {
   "cell_type": "code",
   "execution_count": 96,
   "metadata": {},
   "outputs": [],
   "source": [
    "%matplotlib inline\n",
    "\n",
    "import matplotlib.pyplot as plt\n",
    "from scipy.misc import derivative\n",
    "import numpy as np\n",
    "import math"
   ]
  },
  {
   "cell_type": "markdown",
   "metadata": {},
   "source": [
    "<p style=\"font-size:150%; line-height:150%; font-weight:bold; color:#AD84AD\">Pour aller plus loin :</p>\n",
    "\n",
    "Les paragraphes \"pour aller plus loin\" sont à traiter en seconde lecture, après avoir fini tous les autres points"
   ]
  },
  {
   "cell_type": "markdown",
   "metadata": {},
   "source": [
    "<p style=\"font-size:200%; line-height:200%; font-weight:bold; background-color:#2F52A3; color:white\">Approximation locale : Développements limités</p>"
   ]
  },
  {
   "cell_type": "markdown",
   "metadata": {},
   "source": [
    "<p style=\"font-size:150%; line-height:150%; font-weight:bold; color:#2F52A3\">Théorie</p>\n",
    "\n",
    "**Théorème de Taylor-Young :** Soit $f$ une fonction $n$ fois dérivable en $a$, alors \n",
    "\n",
    "$$f(x) = f(a) + \\frac{f'(a)}{1!} (x-a)^1 + \\frac{f''(a)}{2!} (x-a)^2 + \\frac{f^{(3)}(a)}{3!} (x-a)^3 \n",
    "+ \\cdots + \\frac{f^{(k)}(a)}{k!} (x-a)^k + \\cdots + \\frac{f^{(n)}(a)}{n!} (x-a)^n + o ((x-a)^n) $$"
   ]
  },
  {
   "cell_type": "code",
   "execution_count": 3,
   "metadata": {},
   "outputs": [
    {
     "name": "stdout",
     "output_type": "stream",
     "text": [
      "362880\n"
     ]
    }
   ],
   "source": [
    "# En Python, la factorielle peut se calculer de la manière suivante :\n",
    "\n",
    "print(math.factorial(9))"
   ]
  },
  {
   "cell_type": "markdown",
   "metadata": {},
   "source": [
    "<p style=\"font-size:150%; line-height:150%; font-weight:bold; color:#2F52A3\">Explication</p>\n",
    "\n",
    "Dans la formule de Taylor-Young, on peut identifier deux parties :\n",
    "\n",
    "$$ P_{f,a,n}(x) = f(a) + \\frac{f'(a)}{1!} (x-a)^1 + \\frac{f''(a)}{2!} (x-a)^2 + \\frac{f^{(3)}(a)}{3!} (x-a)^3 \n",
    "+ \\cdots + \\frac{f^{(k)}(a)}{k!} (x-a)^k + \\cdots + \\frac{f^{(n)}(a)}{n!} (x-a)^n$$\n",
    "et\n",
    "$$o ((x-a)^n)$$\n",
    "\n",
    "**Définition :** La partie polynômiale du développement limité de $f$ en $a$ à l'ordre $n$ est le polynôme  $P_{f,a,n}$.\n",
    "\n",
    "+ Lorsque $x$ est proche de $a$, la quantité $o ((x-a)^n)$ est négligeable par rapport à $P_{f,a,n}(x)$.\n",
    "+ La partie polynômiale du développement limité constitue donc une approximation locale de $f$ en $a$."
   ]
  },
  {
   "cell_type": "markdown",
   "metadata": {},
   "source": [
    "<p style=\"font-size:150%; line-height:150%; font-weight:bold; background-color:#FFDD00\">Exercice de CM</p>\n",
    "\n",
    "Utilisez la formule de Taylor-Young pour retrouver les développements limités suivant :\n",
    "\n",
    "+ En $a = 0$ à l'ordre $3$, $\\displaystyle\\sin (x) = x - \\frac{x^3}{6} + o (x^3)$\n",
    "+ En $a = 0$ à l'ordre $3$, $\\displaystyle\\sqrt{1+x} = 1 + \\frac{x}{2} - \\frac{x^2}{8} + \\frac{x^3}{16} + o (x^4)$\n",
    "+ En $a = 1$ à l'ordre $5$, $\\displaystyle\\ln (x) = (x-1) - \\frac{1}{2}(x-1)^2 + \\frac{1}{3}(x-1)^3 - \\frac{1}{4}(x-1)^4 + \\frac{1}{5}(x-1)^5 + o ((x-1)^5)$\n",
    "+ En $a = 1$ à l'ordre $4$, $\\displaystyle\\exp(x) = e + e(x-1) + \\frac{e}{2}(x-1)^2 + \\frac{e}{6}(x-1)^3 + \\frac{e}{24}(x-1)^4 + o ((x-1)^4)$\n",
    "+ En $a = 0$ à l'ordre $4$, $\\displaystyle\\exp(x) = 1 + x + \\frac{1}{2}x^2 + \\frac{1}{6}x^3 + \\frac{1}{24}x^4 + o (x^4)$\n"
   ]
  },
  {
   "cell_type": "markdown",
   "metadata": {},
   "source": [
    "<p style=\"font-size:150%; line-height:150%; font-weight:bold; color:#2F52A3\">Représentations graphiques</p>"
   ]
  },
  {
   "cell_type": "code",
   "execution_count": 4,
   "metadata": {
    "scrolled": true
   },
   "outputs": [
    {
     "data": {
      "image/png": "[encoded data removed]",
      "text/plain": [
       "<Figure size 432x288 with 1 Axes>"
      ]
     },
     "metadata": {
      "needs_background": "light"
     },
     "output_type": "display_data"
    }
   ],
   "source": [
    "x = np.linspace(-10,10,200)\n",
    "f = np.sin(x) # La fonction à approximer\n",
    "dl1 = x # La partie polynomiale du DL en a = 0 à l'ordre n = 1\n",
    "dl3 = x - x**3/6 # La partie polynomiale du DL en a = 0 à l'ordre n = 3\n",
    "dl5 = x - x**3/6 + x**5/120\n",
    "dl7 = x - x**3/6 + x**5/120 + x**7/5040\n",
    "dl9 = x - x**3/6 + x**5/120 + x**7/5040 + x**9/362880\n",
    "\n",
    "\n",
    "plt.plot(x,f)\n",
    "plt.plot(x,dl1)\n",
    "plt.plot(x,dl3)\n",
    "plt.plot(x,dl5)\n",
    "plt.plot(x,dl7)\n",
    "plt.plot(x,dl9)\n",
    "\n",
    "plt.ylim(-4,4)\n",
    "plt.show()"
   ]
  },
  {
   "cell_type": "code",
   "execution_count": 6,
   "metadata": {},
   "outputs": [
    {
     "data": {
      "image/png": "[encoded data removed]",
      "text/plain": [
       "<Figure size 432x288 with 1 Axes>"
      ]
     },
     "metadata": {
      "needs_background": "light"
     },
     "output_type": "display_data"
    }
   ],
   "source": [
    "x = np.linspace(0.1,3,200)\n",
    "f = np.log(x) # La fonction à approximer (ATTENTION log en Python est ln en Mathématiques)\n",
    "dl1 = (x-1) # La partie polynomiale du DL en a = 1 à l'ordre n = 1\n",
    "dl2 = (x-1) -(x-1)**2/2 # La partie polynomiale du DL en a = 1 à l'ordre n = 2\n",
    "\n",
    "plt.plot(x,f)\n",
    "plt.plot(x,dl1)\n",
    "plt.plot(x,dl2)\n",
    "plt.show()"
   ]
  },
  {
   "cell_type": "markdown",
   "metadata": {},
   "source": [
    "<p style=\"font-size:150%; line-height:150%; font-weight:bold; background-color:#FFDD00\">Exercice de TP</p>\n",
    "\n",
    "+ Ecrivez une fonction `DL(f,a,n)` qui retourne la **fonction** définie par la partie polynômiale du développement limité de $f$ en $a$ à l'ordre $n$.\n",
    "+ Tracez sur un même graphique, la fonction et quelques approximations obtenues comme partie polynomiales de DL. Vous utiliserez la fonction $f$ définie par $f(x) = e^{-\\frac{x}{4}} \\sin(4x)$ et vous représenterez avec cette fonction, les parties polynomiales des développements limités de $f$ en $a = 1$ aux ordres $n = 1, 2, 3, 4$\n",
    "\n",
    "**Indication :** Si $f : x \\mapsto \\sin (x)$ est la fonction sinus, $a = 0$ et $n = 3$, votre fonction `DL(f,a,n)` doit retourner, la **fonction** $x \\mapsto x - \\frac{x^3}{6}$.\n",
    "\n",
    "**Appelez l'enseignant pour qu'il valide votre graphique.**\n",
    "\n",
    "**Remarque :** Pas de dépôt Moodle pour la fonction `DL(f,a,n)` car la fonction `scipy.misc.derivative` est très instable numériquement et rend les tests unitaires très peu fiables."
   ]
  },
  {
   "cell_type": "code",
   "execution_count": 50,
   "metadata": {},
   "outputs": [
    {
     "data": {
      "image/png": "[encoded data removed]",
      "text/plain": [
       "<Figure size 432x288 with 1 Axes>"
      ]
     },
     "metadata": {
      "needs_background": "light"
     },
     "output_type": "display_data"
    }
   ],
   "source": [
    "def f(x):\n",
    "    return np.exp(-x/4)*np.sin(4*x)\n",
    "\n",
    "# Insérez votre code\n",
    "def DL(f, a, n):\n",
    "    def rank(x):\n",
    "        res = f(a)\n",
    "        for k in range(1, n+1):\n",
    "            res += (derivative(f, a, dx=1e-3, n=k, order=2*n+1)/math.factorial(k))*(x-a)**k\n",
    "        return res\n",
    "    return rank\n",
    "\n",
    "x = np.linspace(-4,4,2000)\n",
    "\n",
    "plt.plot(x,f(x))\n",
    "plt.plot(x,DL(f, 1, 1)(x))\n",
    "plt.plot(x,DL(f, 1, 2)(x))\n",
    "plt.plot(x,DL(f, 1, 3)(x))\n",
    "plt.plot(x,DL(f, 1, 4)(x))\n",
    "\n",
    "plt.ylim(-4,4)\n",
    "plt.xlim(-4,4)\n",
    "plt.show()"
   ]
  },
  {
   "cell_type": "markdown",
   "metadata": {},
   "source": [
    "<p style=\"font-size:200%; line-height:200%; font-weight:bold; background-color:#2F52A3; color:white\">Approximation globale : les moindres carrés</p>\n",
    "\n",
    "**Remarque :** Les slides \"théoriques\" donnent un peu plus d'explications."
   ]
  },
  {
   "cell_type": "markdown",
   "metadata": {},
   "source": [
    "<p style=\"font-size:150%; line-height:150%; font-weight:bold; color:#2F52A3\">Droite de régression</p>"
   ]
  },
  {
   "cell_type": "markdown",
   "metadata": {},
   "source": [
    "+ On dispose d'une famille de points $X = \\lbrack x_1,\\ldots,x_n\\rbrack$, $Y = \\lbrack y_1,\\ldots,y_n\\rbrack$ et l'on cherche une droite **qui passe au plus près** de ce nuage de points.\n",
    "+ Autrement dit, on cherche $a$ et $b$ de sorte que la droite d'équation $y = ax+b$ **approxime au mieux** le nuage.\n",
    "+ L'erreur d'approximation est calculée par la formule suivante :\n",
    "\n",
    "$$E(a,b) = \\sum_{k=1}^n (y_i - ax_i -b)^2$$\n",
    "\n",
    "+ Ainsi pour une famille de points donnée, on cherche $(a,b)$ un minimum de $E$ (traduction mathématiquement rigoureuse de **approxime au mieux**).\n",
    "\n",
    "**Remarque :** L'erreur $E$ est une somme d'écarts au carré, d'où le nom de la méthode."
   ]
  },
  {
   "cell_type": "markdown",
   "metadata": {},
   "source": [
    "<p style=\"font-size:150%; line-height:150%; font-weight:bold; color:#2F52A3\">Données</p>\n",
    "\n",
    "Il s'agit de données \"célèbres\" qui seront utilisées pour vos exercices de TP.\n",
    "\n",
    "<table style=\"text-align: center; margin-left:auto; margin-right:auto;\" border=\"1\">\n",
    "<caption>Quartet d'Anscombe\n",
    "</caption>\n",
    "<tbody><tr>\n",
    "<th colspan=\"2\">I\n",
    "</th>\n",
    "<th colspan=\"2\">II\n",
    "</th>\n",
    "<th colspan=\"2\">III\n",
    "</th>\n",
    "<th colspan=\"2\">IV\n",
    "</th></tr>\n",
    "<tr>\n",
    "<td><i>x</i>\n",
    "</td>\n",
    "<td><i>y</i>\n",
    "</td>\n",
    "<td><i>x</i>\n",
    "</td>\n",
    "<td><i>y</i>\n",
    "</td>\n",
    "<td><i>x</i>\n",
    "</td>\n",
    "<td><i>y</i>\n",
    "</td>\n",
    "<td><i>x</i>\n",
    "</td>\n",
    "<td><i>y</i>\n",
    "</td></tr>\n",
    "<tr>\n",
    "<td>10,0</td>\n",
    "<td>8,04</td>\n",
    "<td>10,0</td>\n",
    "<td>9,14</td>\n",
    "<td>10,0</td>\n",
    "<td>7,46</td>\n",
    "<td>8,0</td>\n",
    "<td>6,58\n",
    "</td></tr>\n",
    "<tr>\n",
    "<td>8,0</td>\n",
    "<td>6,95</td>\n",
    "<td>8,0</td>\n",
    "<td>8,14</td>\n",
    "<td>8,0</td>\n",
    "<td>6,77</td>\n",
    "<td>8,0</td>\n",
    "<td>5,76\n",
    "</td></tr>\n",
    "<tr>\n",
    "<td>13,0</td>\n",
    "<td>7,58</td>\n",
    "<td>13,0</td>\n",
    "<td>8,74</td>\n",
    "<td>13,0</td>\n",
    "<td>12,74</td>\n",
    "<td>8,0</td>\n",
    "<td>7,71\n",
    "</td></tr>\n",
    "<tr>\n",
    "<td>9,0</td>\n",
    "<td>8,81</td>\n",
    "<td>9,0</td>\n",
    "<td>8,77</td>\n",
    "<td>9,0</td>\n",
    "<td>7,11</td>\n",
    "<td>8,0</td>\n",
    "<td>8,84\n",
    "</td></tr>\n",
    "<tr>\n",
    "<td>11,0</td>\n",
    "<td>8,33</td>\n",
    "<td>11,0</td>\n",
    "<td>9,26</td>\n",
    "<td>11,0</td>\n",
    "<td>7,81</td>\n",
    "<td>8,0</td>\n",
    "<td>8,47\n",
    "</td></tr>\n",
    "<tr>\n",
    "<td>14,0</td>\n",
    "<td>9,96</td>\n",
    "<td>14,0</td>\n",
    "<td>8,10</td>\n",
    "<td>14,0</td>\n",
    "<td>8,84</td>\n",
    "<td>8,0</td>\n",
    "<td>7,04\n",
    "</td></tr>\n",
    "<tr>\n",
    "<td>6,0</td>\n",
    "<td>7,24</td>\n",
    "<td>6,0</td>\n",
    "<td>6,13</td>\n",
    "<td>6,0</td>\n",
    "<td>6,08</td>\n",
    "<td>8,0</td>\n",
    "<td>5,25\n",
    "</td></tr>\n",
    "<tr>\n",
    "<td>4,0</td>\n",
    "<td>4,26</td>\n",
    "<td>4,0</td>\n",
    "<td>3,10</td>\n",
    "<td>4,0</td>\n",
    "<td>5,39</td>\n",
    "<td>19,0</td>\n",
    "<td>12,50\n",
    "</td></tr>\n",
    "<tr>\n",
    "<td>12,0</td>\n",
    "<td>10,84</td>\n",
    "<td>12,0</td>\n",
    "<td>9,13</td>\n",
    "<td>12,0</td>\n",
    "<td>8,15</td>\n",
    "<td>8,0</td>\n",
    "<td>5,56\n",
    "</td></tr>\n",
    "<tr>\n",
    "<td>7,0</td>\n",
    "<td>4,82</td>\n",
    "<td>7,0</td>\n",
    "<td>7,26</td>\n",
    "<td>7,0</td>\n",
    "<td>6,42</td>\n",
    "<td>8,0</td>\n",
    "<td>7,91\n",
    "</td></tr>\n",
    "<tr>\n",
    "<td>5,0</td>\n",
    "<td>5,68</td>\n",
    "<td>5,0</td>\n",
    "<td>4,74</td>\n",
    "<td>5,0</td>\n",
    "<td>5,73</td>\n",
    "<td>8,0</td>\n",
    "<td>6,89\n",
    "</td></tr></tbody></table>"
   ]
  },
  {
   "cell_type": "code",
   "execution_count": 56,
   "metadata": {},
   "outputs": [
    {
     "name": "stdout",
     "output_type": "stream",
     "text": [
      "[8.04, 6.95, 7.58, 8.81, 8.33, 9.96, 7.24, 4.26, 10.84, 4.82, 5.68]\n"
     ]
    },
    {
     "data": {
      "image/png": "[encoded data removed]",
      "text/plain": [
       "<Figure size 432x288 with 1 Axes>"
      ]
     },
     "metadata": {
      "needs_background": "light"
     },
     "output_type": "display_data"
    }
   ],
   "source": [
    "X1 = [10.0, 8.0, 13.0, 9.0, 11.0, 14.0, 6.0, 4.0, 12.0, 7.0, 5.0]\n",
    "Y1 = [8.04, 6.95, 7.58, 8.81, 8.33, 9.96, 7.24, 4.26, 10.84, 4.82, 5.68]\n",
    "\n",
    "X2 = [10.0, 8.0, 13.0, 9.0, 11.0, 14.0, 6.0, 4.0, 12.0, 7.0, 5.0]\n",
    "Y2 = [9.14, 8.14, 8.74, 8.77, 9.26, 8.10, 6.13, 3.10, 9.13, 7.26, 4.74]\n",
    "\n",
    "X3 = [10.0, 8.0, 13.0, 9.0, 11.0, 14.0, 6.0, 4.0, 12.0, 7.0, 5.0]\n",
    "Y3 = [7.46, 6.77, 12.74, 7.11, 7.81, 8.84, 6.08, 5.39, 8.15, 6.42, 5.73]\n",
    "\n",
    "X4 = [8.0, 8.0, 8.0, 8.0, 8.0, 8.0, 8.0, 19.0, 8.0, 8.0, 8.0]\n",
    "Y4 = [6.58, 5.76, 7.71, 8.84, 8.47, 7.04, 5.25, 12.50, 5.56, 7.91, 6.89]\n",
    "\n",
    "#plt.scatter(X1,Y1)\n",
    "plt.scatter(X2,Y2)\n",
    "#plt.scatter(X3,Y3)\n",
    "#plt.scatter(X4,Y4)\n",
    "print(Y1)"
   ]
  },
  {
   "cell_type": "markdown",
   "metadata": {},
   "source": [
    "<p style=\"font-size:150%; line-height:150%; font-weight:bold; color:#2F52A3\">Calcul pratique</p>"
   ]
  },
  {
   "cell_type": "markdown",
   "metadata": {},
   "source": [
    "+ On forme la matrice $A$ dont la première colonne contient tous les abscisses $X$ et la seconde ne contient que des $1$ :\n",
    "\n",
    "$$ A = \\left(\\begin{matrix}\n",
    "x_1 & 1 \\\\ \n",
    "x_2 & 1 \\\\ \n",
    "\\vdots & \\vdots \\\\ \n",
    "x_n & 1\n",
    "\\end{matrix}\n",
    "\\right)$$\n",
    "\n",
    "+ Les coefficients $a$ et $b$ doivent être solutions du système linéaire :\n",
    "\n",
    "$$ ~^tA A \\left(\n",
    "\\begin{matrix}\n",
    "a \\\\ b\n",
    "\\end{matrix}\n",
    "\\right) = ~^tA ~^tY$$\n",
    "\n",
    "où $~^tY$ désigne le vecteur colonne contenant toutes les ordonnées. C'est une condition nécessaire.\n",
    "\n",
    "<p style=\"font-size:150%; line-height:150%; font-weight:bold; background-color:#FFDD00\">Exercice de CM</p>\n",
    "\n",
    "En utilisant les formules ci-dessus, déterminer l'équation réduite de la droite d'ajustement par les moindres carrés pour les points :\n",
    "\n",
    "$$I(1;1),\\, J(2;3),\\, K(3;2)$$\n",
    "\n",
    "+ Ecrivez la matrice $A$ correspondant à cette situation.\n",
    "+ Calculez $~^tA \\, A$ et $~^tA \\, Y$\n",
    "+ Résolvez le système linéaire $2 \\times 2$ d'inconnues $a$ et $b$ :\n",
    "\n",
    "$$ ~^tA A \\left(\n",
    "\\begin{matrix}\n",
    "a \\\\ b\n",
    "\\end{matrix}\n",
    "\\right) = ~^tA ~^tY$$\n",
    "\n",
    "**Réponse :** L'équation est $y = \\frac{1}{2}x + 1$"
   ]
  },
  {
   "cell_type": "code",
   "execution_count": 57,
   "metadata": {},
   "outputs": [
    {
     "data": {
      "image/png": "[encoded data removed]",
      "text/plain": [
       "<Figure size 432x288 with 1 Axes>"
      ]
     },
     "metadata": {
      "needs_background": "light"
     },
     "output_type": "display_data"
    }
   ],
   "source": [
    "X = [1,2,3]\n",
    "Y = [1,3,2]\n",
    "\n",
    "x = np.linspace(0,4,3)\n",
    "y = 1/2*x + 1\n",
    "\n",
    "plt.plot(x,y)\n",
    "plt.scatter(X,Y)\n",
    "plt.xlim(0,4)\n",
    "plt.ylim(0,4)\n",
    "plt.show()"
   ]
  },
  {
   "cell_type": "markdown",
   "metadata": {},
   "source": [
    "<p style=\"font-size:150%; line-height:150%; font-weight:bold; color:#2F52A3\">Rappels `numpy`</p>"
   ]
  },
  {
   "cell_type": "code",
   "execution_count": 89,
   "metadata": {},
   "outputs": [
    {
     "name": "stdout",
     "output_type": "stream",
     "text": [
      "[[0. 0. 0.]\n",
      " [0. 0. 0.]]\n",
      "[[1. 1.]\n",
      " [1. 1.]\n",
      " [1. 1.]\n",
      " [1. 1.]]\n",
      "[[1. 1. 1. 1.]\n",
      " [1. 1. 1. 1.]]\n"
     ]
    }
   ],
   "source": [
    "# Quelques tableaux\n",
    "\n",
    "Z = np.zeros((2,3)) # Matrice nulle\n",
    "print(Z)\n",
    "O = np.ones((4,2)) # Matrice remplie de un\n",
    "print(O)\n",
    "tO = np.transpose(O) # Transposée = échange de lignes et de colonnes\n",
    "print(tO)\n"
   ]
  },
  {
   "cell_type": "markdown",
   "metadata": {},
   "source": [
    "<p style=\"font-size:150%; line-height:150%; font-weight:bold; background-color:#FFDD00\">Exercice de TP : Fonction sur l'étagère</p>\n",
    "\n",
    "**Dans cet exercice, vous utiliserez le premier jeu du quartet d'Anscombe.**\n",
    "\n",
    "+ Consultez la documentation de la fonction `np.linalg.lstsq`\n",
    "+ A l'aide de cette fonction, determinez une équation de la droite d'approximation au sens des moindres carrés pour le jeu de données\n",
    "+ Représentez sur un même graphique, le nuage de points et la droite.\n",
    "\n",
    "**Appelez l'enseignant pour qu'il valide votre graphique.**"
   ]
  },
  {
   "cell_type": "code",
   "execution_count": 105,
   "metadata": {},
   "outputs": [
    {
     "name": "stdout",
     "output_type": "stream",
     "text": [
      "[0. 2. 4.]\n",
      "[[0. 2. 4.]\n",
      " [1. 1. 1.]]\n",
      "0.5000000000000001 0.9999999999999994\n"
     ]
    },
    {
     "data": {
      "image/png": "[encoded data removed]",
      "text/plain": [
       "<Figure size 432x288 with 1 Axes>"
      ]
     },
     "metadata": {
      "needs_background": "light"
     },
     "output_type": "display_data"
    },
    {
     "name": "stdout",
     "output_type": "stream",
     "text": [
      "[8.04, 6.95, 7.58, 8.81, 8.33, 9.96, 7.24, 4.26, 10.84, 4.82, 5.68]\n"
     ]
    },
    {
     "data": {
      "image/png": "[encoded data removed]",
      "text/plain": [
       "<Figure size 432x288 with 1 Axes>"
      ]
     },
     "metadata": {
      "needs_background": "light"
     },
     "output_type": "display_data"
    }
   ],
   "source": [
    "# Insérez votre code\n",
    "#def lstsq(x):\n",
    "\n",
    "X1 = [10.0, 8.0, 13.0, 9.0, 11.0, 14.0, 6.0, 4.0, 12.0, 7.0, 5.0]\n",
    "Y1 = [8.04, 6.95, 7.58, 8.81, 8.33, 9.96, 7.24, 4.26, 10.84, 4.82, 5.68]\n",
    "\n",
    "X2 = [10.0, 8.0, 13.0, 9.0, 11.0, 14.0, 6.0, 4.0, 12.0, 7.0, 5.0]\n",
    "Y2 = [9.14, 8.14, 8.74, 8.77, 9.26, 8.10, 6.13, 3.10, 9.13, 7.26, 4.74]\n",
    "\n",
    "X3 = [10.0, 8.0, 13.0, 9.0, 11.0, 14.0, 6.0, 4.0, 12.0, 7.0, 5.0]\n",
    "Y3 = [7.46, 6.77, 12.74, 7.11, 7.81, 8.84, 6.08, 5.39, 8.15, 6.42, 5.73]\n",
    "\n",
    "X4 = [8.0, 8.0, 8.0, 8.0, 8.0, 8.0, 8.0, 19.0, 8.0, 8.0, 8.0]\n",
    "Y4 = [6.58, 5.76, 7.71, 8.84, 8.47, 7.04, 5.25, 12.50, 5.56, 7.91, 6.89]\n",
    "\n",
    "A = np.vstack([x, np.ones(len(x))]).T\n",
    "print(x)\n",
    "print(np.vstack([x, np.ones(len(x))]))\n",
    "m, c = np.linalg.lstsq(A, y, rcond=None)[0]\n",
    "\n",
    "print(m, c)\n",
    "\n",
    "_ = plt.plot(X1, Y1, 'o', label='Original data', markersize=10)\n",
    "_ = plt.plot(x, m*x + c, 'r', label='Fitted line')\n",
    "\n",
    "\n",
    "#_ = plt.plot(X2, Y2, 'o')\n",
    "#_ = plt.plot(x, m*x + c, 'r')\n",
    "\n",
    "#_ = plt.plot(X3, Y3, 'o')\n",
    "#_ = plt.plot(x, m*x + c, 'r')\n",
    "\n",
    "#_ = plt.plot(X4, Y4, 'o')\n",
    "#_ = plt.plot(x, m*x + c, 'r')\n",
    "\n",
    "_ = plt.legend()\n",
    "plt.xticks(np.arange(0, 15, step=1))\n",
    "plt.yticks(np.arange(0, 15, step=1))\n",
    "\n",
    "plt.show()\n",
    "\n",
    "plt.scatter(X1,Y1)\n",
    "print(Y1)"
   ]
  },
  {
   "cell_type": "markdown",
   "metadata": {},
   "source": [
    "<p style=\"font-size:150%; line-height:150%; font-weight:bold; background-color:#FFDD00\">Exercice de TP</p>"
   ]
  },
  {
   "cell_type": "markdown",
   "metadata": {},
   "source": [
    "+ Ecrivez une fonction `dte(X,Y)` qui retourne les coefficients $a$ et $b$ de la droite d'ajustement au sens des moindres carrés, dans un `np.array` $\\lbrack a,b \\rbrack$.\n",
    "+ **Attention :** $X$ et $Y$ doivent être des listes (`X = [...]` et non pas `X = np.array([...])`).\n",
    "+ **Interdiction d'utiliser `lstsq` pour cet exercice**\n",
    "+ Vous pourrez résoudre le système linéaire ci-dessus avec `solve`\n",
    "\n",
    "**Déposez votre fonction `dte(X,Y)` sur Moodle avant la fin de la semaine**"
   ]
  },
  {
   "cell_type": "code",
   "execution_count": 115,
   "metadata": {},
   "outputs": [
    {
     "name": "stdout",
     "output_type": "stream",
     "text": [
      "0.49999999999999983\n"
     ]
    }
   ],
   "source": [
    "# Insérez votre code\n",
    "def VDM(X,p):\n",
    "    x = np.array(X)\n",
    "    arg =([x**i for i in range(p,0,-1)])\n",
    "    arg.append(np.ones(len(X)))\n",
    "    return np.vstack([*arg]).T\n",
    "\n",
    "def dte(X, Y):\n",
    "    A = VDM(X, 1)\n",
    "    tA = np.transpose(A)\n",
    "    tY=np.transpose(Y)\n",
    "    tAA = np.matmul(tA,A)\n",
    "    tAtY = np.matmul(tA,tY)\n",
    "    a = np.array([[tAA[0][0],tAA[0][1]], [tAA[1][0],tAA[1][1]]])\n",
    "    b = np.array([tAtY[0], tAtY[1]])\n",
    "    return np.linalg.solve(a, b)\n",
    "\n",
    "a, b = dte(X, Y)\n",
    "print(a, b)\n",
    "    "
   ]
  },
  {
   "cell_type": "markdown",
   "metadata": {},
   "source": [
    "<p style=\"font-size:150%; line-height:150%; font-weight:bold; color:#2F52A3\">Pertinence du modèle</p>"
   ]
  },
  {
   "cell_type": "markdown",
   "metadata": {},
   "source": [
    "Un moyen simple d'évaluer si une droite est pertinente pour approximer un nuage de points est de calculer le coefficient de corrélation entre $X$ et $Y$ donné par la formule :\n",
    "\n",
    "$$r = \\displaystyle\\hbox{corr} (X,Y) = \\frac{\\sum (x_i - \\overline{x})(y_i - \\overline{y})}{\\sqrt{\\sum (x_i - \\overline{x})^2} \\sqrt{\\sum (y_i - \\overline{y})^2}}$$\n",
    "\n",
    "Si $|\\hbox{corr} (X,Y)| \\geq 0.9$, alors la corrélation est excellente et le modèle est pertinent.\n",
    "\n",
    "<p style=\"font-size:150%; line-height:150%; font-weight:bold; background-color:#FFDD00\">Exercice de CM</p>\n",
    "\n",
    "En utilisant la formule ci-dessus, calculez le coefficient de corrélation du nuage de points : \n",
    "\n",
    "$$I(1;1),\\, J(2;3),\\, K(3;2)$$\n",
    "\n",
    "**Réponse :** $r = \\frac{1}{2}$"
   ]
  },
  {
   "cell_type": "markdown",
   "metadata": {},
   "source": [
    "<p style=\"font-size:150%; line-height:150%; font-weight:bold; background-color:#FFDD00\">Exercice de TP : Fonction sur l'étagère</p>\n",
    "\n",
    "+ Recherchez dans la documentation de `numpy` une fonction permettant de calculer ce coefficient de corrélation (pour les $4$ jeux de données).\n",
    "+ Pour chacun des quatre jeux du quartet d'Anscombe, calculer le coefficient de corrélation.\n",
    "+ Représentez sur quatre graphiques, les quatre nuages de points avec leur droite.\n",
    "+ Méditez !\n",
    "\n",
    "**Faites le Test \"Coefficients de corrélations\" sur Moodle avant la fin de la semaine** (ce test demande les coefficients de corrélation des $4$ jeux de données)"
   ]
  },
  {
   "cell_type": "code",
   "execution_count": 4,
   "metadata": {},
   "outputs": [],
   "source": [
    "# Insérez votre code"
   ]
  },
  {
   "cell_type": "markdown",
   "metadata": {},
   "source": [
    "<p style=\"font-size:150%; line-height:150%; font-weight:bold; color:#2F52A3\">Généralisation : approximation polynomiale</p>"
   ]
  },
  {
   "cell_type": "markdown",
   "metadata": {},
   "source": [
    "\n",
    "+ On peut cherche la parabole d'équation $y = ax^2 + bx + c$ qui passe au plus près de notre nuage. \n",
    "+ Les coefficients $a,b,c$ sont solution du même système linéaire où la matrice $A$ est :\n",
    "\n",
    "$$ A = \\left(\n",
    "\\begin{matrix}\n",
    "x_1^2 & x_1 & 1 \\\\ \n",
    "x_2^2 & x_2 & 1 \\\\ \n",
    "\\vdots & \\vdots & \\vdots \\\\\n",
    "x_n^2 & x_n & 1\n",
    "\\end{matrix}\n",
    "\\right)$$\n",
    "\n",
    "<p style=\"font-size:150%; line-height:150%; font-weight:bold; color:#AD84AD\">Pour aller plus loin :</p>\n",
    "\n",
    "+ On peut généraliser au degré $p$ quelconque ($p = 1$ : cas de la droite déjà traité, $p = 2$ : cas de la parabole ci-dessus)\n",
    "+ Que se passe-t-il pour $p=n$ ?\n",
    "+ Et pour $p > n$ ?"
   ]
  },
  {
   "cell_type": "markdown",
   "metadata": {},
   "source": [
    "<p style=\"font-size:150%; line-height:150%; font-weight:bold; background-color:#FFDD00\">Exercice de TP</p>\n",
    "\n",
    "**Pour tester votre fonction, utilisez le quartet d'Anscombe**\n",
    "\n",
    "+ Codez une fonction `VDM(X,p)` qui retourne la matrice $A$ ci-dessus, du système à résoudre.\n",
    "+ Codez une fonction `poly(X,Y,p)` qui retourne les coefficients polynôme $a_{p}x^{p} + \\ldots + a_0$ d'approximation au sens des moindres carrés.\n",
    "+ Sur un même graphique, visualisez le nuage de points et plusieurs polynômes d'approximation en faisant varier le degré.\n",
    "+ **Attention :** $X$ et $Y$ doivent être des listes, comme pour la fonction `dte(X,Y)`.\n",
    "+ **Attention :** `poly(X,Y,p)` retourne des **coefficients**, pas une fonction.\n",
    "\n",
    "**Appelez l'enseignant pour qu'il valide votre graphique : vous utiliserez le jeu III et votre graphique fera apparaitre le nuage de points, la droite d'approximation et la parabole**\n",
    "\n",
    "**Déposez vos fonctions `VDM(X,p)` et `poly(X,Y,p)` sur Moodle avant la fin de la semaine**"
   ]
  },
  {
   "cell_type": "code",
   "execution_count": 5,
   "metadata": {
    "scrolled": true
   },
   "outputs": [],
   "source": [
    "# Insérez votre code"
   ]
  },
  {
   "cell_type": "markdown",
   "metadata": {},
   "source": [
    "<p style=\"font-size:150%; line-height:150%; font-weight:bold; color:#D67D3A\">Attention : </p>\n",
    "\n",
    "+ Pour le TP05, pendant la séance, vous avez $3$ exercices à montrer : le graphique de développements limités, le graphique d'utilisation de `lstsq` avec le jeu I, le graphique d'approximation avec entre autres la parabole et utilisant le jeu III.\n",
    "+ Pour le TP05, avant la fin de semaine, vous avez $3$ fonctions à déposer : `dte(X,Y)`, `VDM(X,p)` et `poly(X,Y,p)`.\n",
    "+ Pour le TP05, avant la fin de semaine, vous avez également le test \"Coefficients de corrélations\" à effectuer.\n",
    "+ Lors de l'évaluation sur feuille, il vous sera demandé de calculer \"à la main\", des développements limités et des droites d'approximations au sens des moindres carrés."
   ]
  },
  {
   "cell_type": "code",
   "execution_count": null,
   "metadata": {},
   "outputs": [],
   "source": []
  }
 ],
 "metadata": {
  "kernelspec": {
   "display_name": "Python 3",
   "language": "python",
   "name": "python3"
  },
  "language_info": {
   "codemirror_mode": {
    "name": "ipython",
    "version": 3
   },
   "file_extension": ".py",
   "mimetype": "text/x-python",
   "name": "python",
   "nbconvert_exporter": "python",
   "pygments_lexer": "ipython3",
   "version": "3.7.6"
  }
 },
 "nbformat": 4,
 "nbformat_minor": 2
}
