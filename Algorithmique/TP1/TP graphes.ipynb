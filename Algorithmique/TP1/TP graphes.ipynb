{
 "cells": [
  {
   "cell_type": "code",
   "execution_count": null,
   "metadata": {},
   "outputs": [],
   "source": [
    "%matplotlib inline\n",
    "import matplotlib.pyplot as plt\n",
    "from networkx import nx"
   ]
  },
  {
   "cell_type": "markdown",
   "metadata": {},
   "source": [
    "## Exemple introductif"
   ]
  },
  {
   "cell_type": "code",
   "execution_count": null,
   "metadata": {},
   "outputs": [],
   "source": [
    "# Génération d’un graphe aléatoire à 10 sommets et 20 arêtes\n",
    "G = nx.gnm_random_graph(10,20)\n",
    "\n",
    "# Visualisation du graphe\n",
    "nx.draw_networkx(G)\n",
    "plt.show()"
   ]
  },
  {
   "cell_type": "markdown",
   "metadata": {},
   "source": [
    "(A ne pas faire, sauf sur machine perso avec package pygraphviz correctement installé)\n",
    "Ecrivez du code python pour charger le graphe au format dot de l’exercice 1 et le visualiser."
   ]
  },
  {
   "cell_type": "code",
   "execution_count": null,
   "metadata": {},
   "outputs": [],
   "source": [
    "..."
   ]
  },
  {
   "cell_type": "markdown",
   "metadata": {},
   "source": [
    "## Graphe des diviseurs"
   ]
  },
  {
   "cell_type": "markdown",
   "metadata": {},
   "source": [
    "Ecrivez une fonction python qui créé et retourne le graphe orienté des diviseurs sur l’ensemble des entiers compris entre 2 et n (n passé en paramètre) possédant : un sommet pour chaque entier entre 2 et n ; un arc de l’entier x vers l’entier y si y est un multiple de x. \n",
    "-\thttps://networkx.org/documentation/stable/reference/introduction.html#networkx-basics"
   ]
  },
  {
   "cell_type": "code",
   "execution_count": null,
   "metadata": {},
   "outputs": [],
   "source": [
    "def diviseurs(n):\n",
    "    ..."
   ]
  },
  {
   "cell_type": "code",
   "execution_count": null,
   "metadata": {},
   "outputs": [],
   "source": [
    "G = diviseurs(10)\n",
    "nx.draw_networkx(G)\n",
    "plt.show()"
   ]
  },
  {
   "cell_type": "markdown",
   "metadata": {},
   "source": [
    "Que peut-on dire d'un sommet dont le degré entrant est nul ? D'un sommet dont le degré sortant est nul ?"
   ]
  },
  {
   "cell_type": "markdown",
   "metadata": {},
   "source": [
    "Réponse : "
   ]
  },
  {
   "cell_type": "markdown",
   "metadata": {},
   "source": [
    "Mettre en place un mécanisme de coloriage des arcs et nœuds d’un graphe. Vous pouvez pour cela faire un premier dessin avec draw_networkx puis redessiner les arêtes par-dessus (à la même position, cf second paramètre de la fonction draw_networkx_edges). Testez pour obtenir quelque chose comme sur la figure 2 (les arêtes sont en bleu, de largeur 8 et avec une opacité de 0,5).\n",
    "-\thttps://networkx.org/documentation/stable/reference/drawing.html"
   ]
  },
  {
   "cell_type": "code",
   "execution_count": null,
   "metadata": {},
   "outputs": [],
   "source": [
    "..."
   ]
  },
  {
   "cell_type": "markdown",
   "metadata": {},
   "source": [
    "Si vous ne l'avez pas fait avant, écrivez une fonction mydraw qui prendre un graphe et une liste d'arêtes de ce graphe et dessine le tout en mettant en avant les arêtes."
   ]
  },
  {
   "cell_type": "code",
   "execution_count": null,
   "metadata": {},
   "outputs": [],
   "source": [
    "def mydraw(G, edges):\n",
    "    ..."
   ]
  },
  {
   "cell_type": "markdown",
   "metadata": {},
   "source": [
    "## Parcours en largeur"
   ]
  },
  {
   "cell_type": "markdown",
   "metadata": {},
   "source": [
    "Implémenter l’algorithme de parcours en largeur d’un graphe qui prend un graphe et un sommet de départ et retourne la liste des arêtes (ou arcs) de l’arbre du parcours en largeur partant du sommet de départ.\n",
    "-\tOn supposera que le graphe est (fortement) connexe pour n’implémenter que la boucle interne du BFS.\n",
    "-\tVous pouvez utiliser un ensemble de sommets visités plutôt que de colorer les sommets durant le parcours. Ainsi si un sommet est dans l’ensemble il a déjà été visité sinon il ne l’a pas été."
   ]
  },
  {
   "cell_type": "code",
   "execution_count": null,
   "metadata": {},
   "outputs": [],
   "source": [
    "import queue\n",
    "def bfs(G, source):\n",
    "    q = queue.Queue() # file pour stocker les sommets durant la visite\n",
    "    visited = {source} # ensemble des sommets déjà visités\n",
    "    ..."
   ]
  },
  {
   "cell_type": "code",
   "execution_count": null,
   "metadata": {},
   "outputs": [],
   "source": [
    "G = nx.gnm_random_graph(10,15)\n",
    "edges = bfs(G,5)\n",
    "mydraw(G, edges)"
   ]
  },
  {
   "cell_type": "markdown",
   "metadata": {},
   "source": [
    "Refaire la même chose pour le parcours en profondeur"
   ]
  },
  {
   "cell_type": "code",
   "execution_count": null,
   "metadata": {},
   "outputs": [],
   "source": []
  }
 ],
 "metadata": {
  "kernelspec": {
   "display_name": "Python 3",
   "language": "python",
   "name": "python3"
  },
  "language_info": {
   "codemirror_mode": {
    "name": "ipython",
    "version": 3
   },
   "file_extension": ".py",
   "mimetype": "text/x-python",
   "name": "python",
   "nbconvert_exporter": "python",
   "pygments_lexer": "ipython3",
   "version": "3.8.10"
  }
 },
 "nbformat": 4,
 "nbformat_minor": 4
}
